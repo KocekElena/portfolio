{
 "cells": [
  {
   "cell_type": "markdown",
   "metadata": {},
   "source": [
    "### Проект: вариант 3\n",
    "Представьте, что вы работаете в крупном дейтинговом приложении.\n",
    "\n",
    "Помимо базовых функций, в приложении также имеется премиум-подписка, которая дает доступ к ряду важных дополнительных возможностей. Был проведен A/B тест, в рамках которого для новых пользователей из нескольких стран была изменена стоимость премиум-подписки* при покупке через две новые платежные системы. При этом стоимость пробного периода оставалась прежней.\n",
    "\n",
    "Проверьте:\n",
    "\n",
    "Был ли эксперимент успешен в целом.\n",
    "*Деньги за подписку списываются ежемесячно до тех пор, пока пользователь её не отменит.\n",
    "#### Данные\n",
    "Всего есть три группы: тестовая (test), контрольная 1 (control_1) и контрольная 2 (control_2). Для каждой из них:\n",
    "\n",
    "users_*.csv – информация о пользователях:\n",
    "\n",
    "uid – идентификатор пользователя\n",
    "age – возраст\n",
    "attraction_coeff – коэффициент привлекательности (от 0 до 1000, \\frac{лайки}{просмотры}*1000 \n",
    "просмотры\n",
    "лайки\n",
    "​\t\n",
    " ∗1000)\n",
    "coins – число монеток (внутренняя валюта)\n",
    "country – страна  \n",
    "visit_days – в какие дни после регистрации пользователь посещал приложение (напр. в 1, затем в 7)\n",
    "gender – пол\n",
    "age_filter_start  – фильтр поиска, мин. значение \n",
    "age_filter_end  – фильтр поиска, макс. значение \n",
    "views_count – число полученных оценок \n",
    "was_premium – был ли когда-либо премиум (либо пробный период премиум-статуса, либо купленный за деньги)\n",
    "is_premium –  является ли премиум\n",
    "total_revenue – нормированная выручка \n",
    "transactions_*.csv – информация о платежах пользователей:\n",
    "\n",
    "uid – идентификатор пользователя\n",
    "country – страна\n",
    "joined_at – дата и время регистрации\n",
    "paid_at – дата и время покупки\n",
    "revenue – нормированная выручка\n",
    "payment_id – идентификатор платежа\n",
    "from_page – откуда пользователь перешел на страницу оплаты\n",
    "product_type – тип продукта (trial_premium – пробная премиум-подписка, premium_no_trial – премиум-подписка без пробной, coins – подписка за внутреннюю валюту, other_type – другое) \n",
    "Файлы:\n",
    "\n",
    "users_test – информация о пользователях в тестовой группе. \n",
    "users_control_1 – информация о пользователях в первой контрольной группе. \n",
    "users_control_2 – информация о пользователях во второй контрольной группе . \n",
    "transactions_test – информация о платежах пользователей в тестовой группе. \n",
    "transactions_control_1 – информация о платежах пользователей в первой контрольной группе. \n",
    "transactions_control_2 – информация о платежах пользователей во второй контрольной группе \n",
    "\n"
   ]
  },
  {
   "cell_type": "code",
   "execution_count": 1,
   "metadata": {},
   "outputs": [],
   "source": [
    "#Импортируем необходимые библиотеки\n",
    "import pandas as pd\n",
    "import seaborn as sns\n",
    "from datetime import timedelta\n",
    "import matplotlib.pyplot as plt\n",
    "import numpy as np\n",
    "import pathlib\n",
    "from pathlib import Path\n",
    "from datetime import datetime\n",
    "from scipy.stats import zscore\n",
    "from matplotlib.ticker import PercentFormatter\n",
    "import pylab\n",
    "from scipy.stats import f_oneway, norm, mannwhitneyu, chi2_contingency, shapiro, f\n",
    "import warnings\n",
    "warnings.filterwarnings(\"ignore\")"
   ]
  },
  {
   "cell_type": "markdown",
   "metadata": {},
   "source": [
    "Посмотрим на условия эксперимерта:\n",
    "Был проведен A/B тест, в рамках которого :\n",
    "1. изменения были проведены для некоторых новых пользователей,\n",
    "2. Эксперимент проводился только для нескольких стран,\n",
    "3. Изменена была только стоимость премиум подписки. Стоимость пробной версии оставалась такой же\n",
    "4. новые условия действовали при использовании двух новых платежных систем. \n",
    "Из поставленной задачи пока мы не можем определить группу пользователей, которые попали под изменение цен. Попытаемся это сделать в анализе\n",
    "### Основные гипотезы для анализа результатов \n",
    "    **Нулевая гипотеза** : метрики до и после введения изменений имеют одинаковую вероятность значения показателя платежной активности пользователей (ARPPU и конверсии в покупки). Другими словами, нет эффекта от введенных изменений\n",
    "\n",
    "    **Альтернативная гипотеза** : метрики до и после введения новых цен  имеют разную вероятность значения показателя платежной активности пользователей (ARPPU и конверсии в покупки). Есть эффект от введенных изменений. Стоит эти изменение применить для всех пользователей\n",
    "\n",
    "## 1.Анализ данных\n",
    "### 1.1 Чистка данных\n",
    "\n",
    "В этой части мы выгрузим данные, избавимся от повторяющихся записей, пустых значений, логических несоответствий в данных, проанализируем структуру данных\n"
   ]
  },
  {
   "cell_type": "code",
   "execution_count": 2,
   "metadata": {},
   "outputs": [],
   "source": [
    "users_test = pd.read_csv('Проект_3_users_test.csv', encoding='utf-8', sep = ';') #Загрузим данные по пользователям \n",
    "                                                                                # тестовой группы\n"
   ]
  },
  {
   "cell_type": "code",
   "execution_count": 3,
   "metadata": {},
   "outputs": [
    {
     "data": {
      "text/html": [
       "<div>\n",
       "<style scoped>\n",
       "    .dataframe tbody tr th:only-of-type {\n",
       "        vertical-align: middle;\n",
       "    }\n",
       "\n",
       "    .dataframe tbody tr th {\n",
       "        vertical-align: top;\n",
       "    }\n",
       "\n",
       "    .dataframe thead th {\n",
       "        text-align: right;\n",
       "    }\n",
       "</style>\n",
       "<table border=\"1\" class=\"dataframe\">\n",
       "  <thead>\n",
       "    <tr style=\"text-align: right;\">\n",
       "      <th></th>\n",
       "      <th>uid</th>\n",
       "      <th>age</th>\n",
       "      <th>attraction_coeff</th>\n",
       "      <th>coins</th>\n",
       "      <th>country</th>\n",
       "      <th>visit_days</th>\n",
       "      <th>gender</th>\n",
       "      <th>age_filter_start</th>\n",
       "      <th>age_filter_end</th>\n",
       "      <th>views_count</th>\n",
       "      <th>was_premium</th>\n",
       "      <th>is_premium</th>\n",
       "      <th>total_revenue</th>\n",
       "    </tr>\n",
       "  </thead>\n",
       "  <tbody>\n",
       "    <tr>\n",
       "      <th>0</th>\n",
       "      <td>892319115</td>\n",
       "      <td>25</td>\n",
       "      <td>435</td>\n",
       "      <td>NaN</td>\n",
       "      <td>United States of America</td>\n",
       "      <td>1,2,3,4,5,6</td>\n",
       "      <td>0</td>\n",
       "      <td>22</td>\n",
       "      <td>32</td>\n",
       "      <td>982</td>\n",
       "      <td>NaN</td>\n",
       "      <td>NaN</td>\n",
       "      <td>0</td>\n",
       "    </tr>\n",
       "    <tr>\n",
       "      <th>1</th>\n",
       "      <td>891248523</td>\n",
       "      <td>29</td>\n",
       "      <td>500</td>\n",
       "      <td>NaN</td>\n",
       "      <td>United States of America</td>\n",
       "      <td>1,2</td>\n",
       "      <td>1</td>\n",
       "      <td>26</td>\n",
       "      <td>32</td>\n",
       "      <td>12</td>\n",
       "      <td>NaN</td>\n",
       "      <td>NaN</td>\n",
       "      <td>0</td>\n",
       "    </tr>\n",
       "    <tr>\n",
       "      <th>2</th>\n",
       "      <td>891670932</td>\n",
       "      <td>33</td>\n",
       "      <td>800</td>\n",
       "      <td>NaN</td>\n",
       "      <td>France</td>\n",
       "      <td>1,2,3,5,6,8,9,11,13,16</td>\n",
       "      <td>1</td>\n",
       "      <td>30</td>\n",
       "      <td>36</td>\n",
       "      <td>5</td>\n",
       "      <td>NaN</td>\n",
       "      <td>NaN</td>\n",
       "      <td>0</td>\n",
       "    </tr>\n",
       "  </tbody>\n",
       "</table>\n",
       "</div>"
      ],
      "text/plain": [
       "         uid  age  attraction_coeff  coins                   country  \\\n",
       "0  892319115   25               435    NaN  United States of America   \n",
       "1  891248523   29               500    NaN  United States of America   \n",
       "2  891670932   33               800    NaN                    France   \n",
       "\n",
       "               visit_days  gender  age_filter_start  age_filter_end  \\\n",
       "0             1,2,3,4,5,6       0                22              32   \n",
       "1                     1,2       1                26              32   \n",
       "2  1,2,3,5,6,8,9,11,13,16       1                30              36   \n",
       "\n",
       "   views_count  was_premium  is_premium  total_revenue  \n",
       "0          982          NaN         NaN              0  \n",
       "1           12          NaN         NaN              0  \n",
       "2            5          NaN         NaN              0  "
      ]
     },
     "execution_count": 3,
     "metadata": {},
     "output_type": "execute_result"
    }
   ],
   "source": [
    "users_control_1 = pd.read_csv('Проект_3_users_control_1.csv', encoding='utf-8', sep = ';') # пользователи первой \n",
    "                                                                                            #контрольной группы\n",
    "\n",
    "users_control_1.head(3) #посмотрим как выглядит датафрейм  три первые строчки                          "
   ]
  },
  {
   "cell_type": "code",
   "execution_count": 4,
   "metadata": {},
   "outputs": [
    {
     "data": {
      "text/plain": [
       "count      4340.000000\n",
       "mean        594.761982\n",
       "std        7987.922925\n",
       "min           0.000000\n",
       "25%           0.000000\n",
       "50%           0.000000\n",
       "75%           0.000000\n",
       "max      486330.000000\n",
       "Name: total_revenue, dtype: float64"
      ]
     },
     "execution_count": 4,
     "metadata": {},
     "output_type": "execute_result"
    }
   ],
   "source": [
    "users_control_1.total_revenue.describe() #нули в статистике говорят об очень \n",
    "#большом количестве неплатящих пользователей. Так же в этой группе очень подозрительный максимум. \n",
    "#Это может свидетельствовать о неоднородности сплитования групп либо о некачественных данных. Проверим далее"
   ]
  },
  {
   "cell_type": "code",
   "execution_count": 5,
   "metadata": {},
   "outputs": [],
   "source": [
    "users_control_2 = pd.read_csv('Проект_3_users_control_2.csv', encoding='utf-8', sep = ';') \n",
    "# вторая контрольная группа"
   ]
  },
  {
   "cell_type": "code",
   "execution_count": 6,
   "metadata": {},
   "outputs": [
    {
     "data": {
      "text/plain": [
       "count     4264.000000\n",
       "mean       450.384146\n",
       "std       2859.242228\n",
       "min          0.000000\n",
       "25%          0.000000\n",
       "50%          0.000000\n",
       "75%          0.000000\n",
       "max      81796.000000\n",
       "Name: total_revenue, dtype: float64"
      ]
     },
     "execution_count": 6,
     "metadata": {},
     "output_type": "execute_result"
    }
   ],
   "source": [
    "users_control_2.total_revenue.describe()"
   ]
  },
  {
   "cell_type": "markdown",
   "metadata": {},
   "source": [
    "Чтобы нагляднее видеть информацию о датафреймах, соборем некоторую статистику в одну таблицу"
   ]
  },
  {
   "cell_type": "code",
   "execution_count": 7,
   "metadata": {},
   "outputs": [],
   "source": [
    "# выведем сводную таблицу значений по пользователям, создадим функцию\n",
    "def data_rev(df, df_name):\n",
    "    result = pd.DataFrame([[df.shape[0]],\n",
    "                           [df.columns[df.isna().any()].tolist()],\n",
    "                           [df.uid.nunique()], \n",
    "                           [df.duplicated().sum()],\n",
    "                           [df.country.nunique()],\n",
    "                           [df.country.value_counts().idxmax()],\n",
    "                           [df.age.mean()],\n",
    "                           [df.total_revenue.mean()],\n",
    "                           [df.total_revenue.sum()]],\n",
    "                           index=['Number_of_users', \n",
    "                                 'Columns_with_gaps', \n",
    "                                 'Unique_users', \n",
    "                                 'Duplicate_lines', \n",
    "                                 'Unique_countries', \n",
    "                                 'Most_frequent_country',\n",
    "                                 'Average_age', \n",
    "                                 'Average_revenue', \n",
    "                                 'Sum_revenue'\n",
    "                               ], \n",
    "                          columns=[df_name])\n",
    "                                                         \n",
    "    return result"
   ]
  },
  {
   "cell_type": "code",
   "execution_count": 8,
   "metadata": {},
   "outputs": [
    {
     "data": {
      "text/html": [
       "<div>\n",
       "<style scoped>\n",
       "    .dataframe tbody tr th:only-of-type {\n",
       "        vertical-align: middle;\n",
       "    }\n",
       "\n",
       "    .dataframe tbody tr th {\n",
       "        vertical-align: top;\n",
       "    }\n",
       "\n",
       "    .dataframe thead th {\n",
       "        text-align: right;\n",
       "    }\n",
       "</style>\n",
       "<table border=\"1\" class=\"dataframe\">\n",
       "  <thead>\n",
       "    <tr style=\"text-align: right;\">\n",
       "      <th></th>\n",
       "      <th>test</th>\n",
       "      <th>control_1</th>\n",
       "      <th>control_2</th>\n",
       "    </tr>\n",
       "  </thead>\n",
       "  <tbody>\n",
       "    <tr>\n",
       "      <th>Number_of_users</th>\n",
       "      <td>4308</td>\n",
       "      <td>4340</td>\n",
       "      <td>4264</td>\n",
       "    </tr>\n",
       "    <tr>\n",
       "      <th>Columns_with_gaps</th>\n",
       "      <td>[coins, visit_days, was_premium, is_premium]</td>\n",
       "      <td>[coins, visit_days, was_premium, is_premium]</td>\n",
       "      <td>[coins, visit_days, was_premium, is_premium]</td>\n",
       "    </tr>\n",
       "    <tr>\n",
       "      <th>Unique_users</th>\n",
       "      <td>4308</td>\n",
       "      <td>4340</td>\n",
       "      <td>4264</td>\n",
       "    </tr>\n",
       "    <tr>\n",
       "      <th>Duplicate_lines</th>\n",
       "      <td>0</td>\n",
       "      <td>0</td>\n",
       "      <td>0</td>\n",
       "    </tr>\n",
       "    <tr>\n",
       "      <th>Unique_countries</th>\n",
       "      <td>51</td>\n",
       "      <td>40</td>\n",
       "      <td>45</td>\n",
       "    </tr>\n",
       "    <tr>\n",
       "      <th>Most_frequent_country</th>\n",
       "      <td>United States of America</td>\n",
       "      <td>United States of America</td>\n",
       "      <td>United States of America</td>\n",
       "    </tr>\n",
       "    <tr>\n",
       "      <th>Average_age</th>\n",
       "      <td>31.8893</td>\n",
       "      <td>32.0954</td>\n",
       "      <td>32.0462</td>\n",
       "    </tr>\n",
       "    <tr>\n",
       "      <th>Average_revenue</th>\n",
       "      <td>534.08</td>\n",
       "      <td>594.762</td>\n",
       "      <td>450.384</td>\n",
       "    </tr>\n",
       "    <tr>\n",
       "      <th>Sum_revenue</th>\n",
       "      <td>2300818</td>\n",
       "      <td>2581267</td>\n",
       "      <td>1920438</td>\n",
       "    </tr>\n",
       "  </tbody>\n",
       "</table>\n",
       "</div>"
      ],
      "text/plain": [
       "                                                               test  \\\n",
       "Number_of_users                                                4308   \n",
       "Columns_with_gaps      [coins, visit_days, was_premium, is_premium]   \n",
       "Unique_users                                                   4308   \n",
       "Duplicate_lines                                                   0   \n",
       "Unique_countries                                                 51   \n",
       "Most_frequent_country                      United States of America   \n",
       "Average_age                                                 31.8893   \n",
       "Average_revenue                                              534.08   \n",
       "Sum_revenue                                                 2300818   \n",
       "\n",
       "                                                          control_1  \\\n",
       "Number_of_users                                                4340   \n",
       "Columns_with_gaps      [coins, visit_days, was_premium, is_premium]   \n",
       "Unique_users                                                   4340   \n",
       "Duplicate_lines                                                   0   \n",
       "Unique_countries                                                 40   \n",
       "Most_frequent_country                      United States of America   \n",
       "Average_age                                                 32.0954   \n",
       "Average_revenue                                             594.762   \n",
       "Sum_revenue                                                 2581267   \n",
       "\n",
       "                                                          control_2  \n",
       "Number_of_users                                                4264  \n",
       "Columns_with_gaps      [coins, visit_days, was_premium, is_premium]  \n",
       "Unique_users                                                   4264  \n",
       "Duplicate_lines                                                   0  \n",
       "Unique_countries                                                 45  \n",
       "Most_frequent_country                      United States of America  \n",
       "Average_age                                                 32.0462  \n",
       "Average_revenue                                             450.384  \n",
       "Sum_revenue                                                 1920438  "
      ]
     },
     "execution_count": 8,
     "metadata": {},
     "output_type": "execute_result"
    }
   ],
   "source": [
    "users_data_rev = data_rev(users_test, 'test')\n",
    "users_data_rev['control_1'] = data_rev(users_control_1, 'control_1')\n",
    "users_data_rev['control_2'] = data_rev(users_control_2, 'control_2')\n",
    "users_data_rev"
   ]
  },
  {
   "cell_type": "markdown",
   "metadata": {},
   "source": [
    "Здесь нам интересно сопоставление всех трех датафреймов в контексте информации о данных "
   ]
  },
  {
   "cell_type": "code",
   "execution_count": 9,
   "metadata": {},
   "outputs": [
    {
     "data": {
      "text/plain": [
       "1    4106\n",
       "0     202\n",
       "Name: gender, dtype: int64"
      ]
     },
     "execution_count": 9,
     "metadata": {},
     "output_type": "execute_result"
    }
   ],
   "source": [
    "users_test.gender.value_counts()"
   ]
  },
  {
   "cell_type": "code",
   "execution_count": 10,
   "metadata": {},
   "outputs": [
    {
     "data": {
      "text/plain": [
       "1    4158\n",
       "0     182\n",
       "Name: gender, dtype: int64"
      ]
     },
     "execution_count": 10,
     "metadata": {},
     "output_type": "execute_result"
    }
   ],
   "source": [
    "users_control_1.gender.value_counts()"
   ]
  },
  {
   "cell_type": "code",
   "execution_count": 11,
   "metadata": {},
   "outputs": [
    {
     "data": {
      "text/plain": [
       "1    4069\n",
       "0     195\n",
       "Name: gender, dtype: int64"
      ]
     },
     "execution_count": 11,
     "metadata": {},
     "output_type": "execute_result"
    }
   ],
   "source": [
    "\n",
    "\n",
    "users_control_2.gender.value_counts()"
   ]
  },
  {
   "cell_type": "markdown",
   "metadata": {},
   "source": [
    "1. Колонки с пропусками не имеют в наших датафреймах какой-то вес. Можно их считать нулями.\n",
    "2. Число уникальных пользователей не сильно отличается\n",
    "3. Повторяющихся записей нет\n",
    "4. В тестовой группе самый большой разброс по странам, но лидером во всех группах являетсяс USA\n",
    "5. Cредний возраст групп однороден\n",
    "6. Средняя прибыль на пользователя в группе control_1 больше чем в тестовой на 10%, а в группе control_2 она меньше тестовой на 15.7%\n",
    "7. По гендерному соотношению группы также схожи, гораздо более активен пол 1(возможно это мужской, однако в постановке вопроса это не определено)"
   ]
  },
  {
   "cell_type": "code",
   "execution_count": 12,
   "metadata": {},
   "outputs": [],
   "source": [
    "\n",
    "#выгрузим данные по платежам"
   ]
  },
  {
   "cell_type": "code",
   "execution_count": 13,
   "metadata": {},
   "outputs": [
    {
     "data": {
      "text/html": [
       "<div>\n",
       "<style scoped>\n",
       "    .dataframe tbody tr th:only-of-type {\n",
       "        vertical-align: middle;\n",
       "    }\n",
       "\n",
       "    .dataframe tbody tr th {\n",
       "        vertical-align: top;\n",
       "    }\n",
       "\n",
       "    .dataframe thead th {\n",
       "        text-align: right;\n",
       "    }\n",
       "</style>\n",
       "<table border=\"1\" class=\"dataframe\">\n",
       "  <thead>\n",
       "    <tr style=\"text-align: right;\">\n",
       "      <th></th>\n",
       "      <th>uid</th>\n",
       "      <th>country</th>\n",
       "      <th>joined_at</th>\n",
       "      <th>paid_at</th>\n",
       "      <th>revenue</th>\n",
       "      <th>payment_id</th>\n",
       "      <th>from_page</th>\n",
       "      <th>product_type</th>\n",
       "    </tr>\n",
       "  </thead>\n",
       "  <tbody>\n",
       "    <tr>\n",
       "      <th>0</th>\n",
       "      <td>891345942</td>\n",
       "      <td>Italy</td>\n",
       "      <td>2017-05-11 13:00:00</td>\n",
       "      <td>2017-11-13 15:04:00</td>\n",
       "      <td>12909</td>\n",
       "      <td>147</td>\n",
       "      <td>trial_vip_popup</td>\n",
       "      <td>trial_premium</td>\n",
       "    </tr>\n",
       "    <tr>\n",
       "      <th>1</th>\n",
       "      <td>892054251</td>\n",
       "      <td>United States of America</td>\n",
       "      <td>2017-10-22 00:33:00</td>\n",
       "      <td>2017-10-30 01:37:00</td>\n",
       "      <td>13923</td>\n",
       "      <td>147</td>\n",
       "      <td>trial_vip_popup</td>\n",
       "      <td>trial_premium</td>\n",
       "    </tr>\n",
       "    <tr>\n",
       "      <th>2</th>\n",
       "      <td>892236423</td>\n",
       "      <td>United States of America</td>\n",
       "      <td>2017-10-18 01:09:00</td>\n",
       "      <td>2017-10-23 00:15:00</td>\n",
       "      <td>3783</td>\n",
       "      <td>67</td>\n",
       "      <td>menu</td>\n",
       "      <td>other_type</td>\n",
       "    </tr>\n",
       "  </tbody>\n",
       "</table>\n",
       "</div>"
      ],
      "text/plain": [
       "         uid                   country            joined_at  \\\n",
       "0  891345942                     Italy  2017-05-11 13:00:00   \n",
       "1  892054251  United States of America  2017-10-22 00:33:00   \n",
       "2  892236423  United States of America  2017-10-18 01:09:00   \n",
       "\n",
       "               paid_at  revenue  payment_id        from_page   product_type  \n",
       "0  2017-11-13 15:04:00    12909         147  trial_vip_popup  trial_premium  \n",
       "1  2017-10-30 01:37:00    13923         147  trial_vip_popup  trial_premium  \n",
       "2  2017-10-23 00:15:00     3783          67             menu     other_type  "
      ]
     },
     "execution_count": 13,
     "metadata": {},
     "output_type": "execute_result"
    }
   ],
   "source": [
    "payments_test = pd.read_csv('Проект_3_transactions_test.csv', encoding='utf-8', sep = ';')\n",
    "payments_test.head(3)"
   ]
  },
  {
   "cell_type": "code",
   "execution_count": 14,
   "metadata": {},
   "outputs": [
    {
     "data": {
      "text/plain": [
       "count       273.000000\n",
       "mean       8589.380952\n",
       "std       11127.479971\n",
       "min         533.000000\n",
       "25%        2743.000000\n",
       "50%        6305.000000\n",
       "75%       12597.000000\n",
       "max      113477.000000\n",
       "Name: revenue, dtype: float64"
      ]
     },
     "execution_count": 14,
     "metadata": {},
     "output_type": "execute_result"
    }
   ],
   "source": [
    "\n",
    "\n",
    "payments_test.revenue.describe() #платежи тестовой группы"
   ]
  },
  {
   "cell_type": "code",
   "execution_count": 15,
   "metadata": {},
   "outputs": [],
   "source": [
    "\n",
    "payments_control_1 = pd.read_csv('Проект_3_transactions_control_1.csv', encoding='utf-8', sep = ';')\n",
    "#плетежи в контрольной группе 1"
   ]
  },
  {
   "cell_type": "code",
   "execution_count": 16,
   "metadata": {},
   "outputs": [
    {
     "data": {
      "text/plain": [
       "count      377.000000\n",
       "mean      6929.206897\n",
       "std       8027.889630\n",
       "min         26.000000\n",
       "25%       2730.000000\n",
       "50%       6266.000000\n",
       "75%       6448.000000\n",
       "max      63037.000000\n",
       "Name: revenue, dtype: float64"
      ]
     },
     "execution_count": 16,
     "metadata": {},
     "output_type": "execute_result"
    }
   ],
   "source": [
    "payments_control_1.revenue.describe()"
   ]
  },
  {
   "cell_type": "code",
   "execution_count": 17,
   "metadata": {},
   "outputs": [],
   "source": [
    "payments_control_2 = pd.read_csv('Проект_3_transactions_control_2.csv', encoding='utf-8', sep = ';')\n",
    "#платежи  в контрольной группе 2"
   ]
  },
  {
   "cell_type": "code",
   "execution_count": 18,
   "metadata": {},
   "outputs": [],
   "source": [
    "\n",
    "#приведем временные данные в более читаемый формат\n",
    "payments_test['paid_at'] = payments_test['paid_at'].apply(pd.to_datetime).dt.normalize()\n",
    "payments_test['joined_at'] = payments_test['joined_at'].apply(pd.to_datetime).dt.normalize()\n"
   ]
  },
  {
   "cell_type": "code",
   "execution_count": 19,
   "metadata": {},
   "outputs": [],
   "source": [
    "payments_control_1['paid_at'] = payments_control_1['paid_at'].apply(pd.to_datetime).dt.normalize()\n",
    "payments_control_1['joined_at'] = payments_control_1['joined_at'].apply(pd.to_datetime).dt.normalize()"
   ]
  },
  {
   "cell_type": "code",
   "execution_count": 20,
   "metadata": {},
   "outputs": [],
   "source": [
    "payments_control_2['paid_at'] = payments_control_2['paid_at'].apply(pd.to_datetime).dt.normalize()\n",
    "payments_control_2['joined_at'] = payments_control_2['joined_at'].apply(pd.to_datetime).dt.normalize()"
   ]
  },
  {
   "cell_type": "code",
   "execution_count": 21,
   "metadata": {},
   "outputs": [],
   "source": [
    "#создадим расчетную таблицу по платежам(аналогичную предыдущей по пользователям)"
   ]
  },
  {
   "cell_type": "code",
   "execution_count": 22,
   "metadata": {},
   "outputs": [],
   "source": [
    "def payments_rev(df, df_name):\n",
    "    result = pd.DataFrame([[df.duplicated().sum()],\n",
    "                            [df.shape[0]],\n",
    "                            [df.uid.nunique()],\n",
    "                           [df.columns[df.isna().any()].tolist()],\n",
    "                           [df.country.nunique()],\n",
    "                           [df.joined_at.min()],\n",
    "                           [df.joined_at.max()],\n",
    "                           [df.paid_at.min()],\n",
    "                           [df.paid_at.max()]],\n",
    "                           index=['Duplicates', \n",
    "                                  'Number_of_transactions', \n",
    "                                 'Unique_users', \n",
    "                                 'Columns_with_gaps', \n",
    "                                 'Unique_countries', \n",
    "                                 'Min_joined_date', \n",
    "                                 'Max_joined_date', \n",
    "                                 'Min_paid_date', \n",
    "                                 'Max_paid_date'\n",
    "                                 ],\n",
    "                          columns =[df_name])\n",
    "                                                         \n",
    "    return result"
   ]
  },
  {
   "cell_type": "code",
   "execution_count": 23,
   "metadata": {},
   "outputs": [
    {
     "data": {
      "text/html": [
       "<div>\n",
       "<style scoped>\n",
       "    .dataframe tbody tr th:only-of-type {\n",
       "        vertical-align: middle;\n",
       "    }\n",
       "\n",
       "    .dataframe tbody tr th {\n",
       "        vertical-align: top;\n",
       "    }\n",
       "\n",
       "    .dataframe thead th {\n",
       "        text-align: right;\n",
       "    }\n",
       "</style>\n",
       "<table border=\"1\" class=\"dataframe\">\n",
       "  <thead>\n",
       "    <tr style=\"text-align: right;\">\n",
       "      <th></th>\n",
       "      <th>test</th>\n",
       "      <th>control_1</th>\n",
       "      <th>control_2</th>\n",
       "    </tr>\n",
       "  </thead>\n",
       "  <tbody>\n",
       "    <tr>\n",
       "      <th>Duplicates</th>\n",
       "      <td>12</td>\n",
       "      <td>666</td>\n",
       "      <td>20</td>\n",
       "    </tr>\n",
       "    <tr>\n",
       "      <th>Number_of_transactions</th>\n",
       "      <td>273</td>\n",
       "      <td>1007</td>\n",
       "      <td>328</td>\n",
       "    </tr>\n",
       "    <tr>\n",
       "      <th>Unique_users</th>\n",
       "      <td>146</td>\n",
       "      <td>193</td>\n",
       "      <td>187</td>\n",
       "    </tr>\n",
       "    <tr>\n",
       "      <th>Columns_with_gaps</th>\n",
       "      <td>[]</td>\n",
       "      <td>[uid, country, joined_at, paid_at, revenue, pa...</td>\n",
       "      <td>[]</td>\n",
       "    </tr>\n",
       "    <tr>\n",
       "      <th>Unique_countries</th>\n",
       "      <td>17</td>\n",
       "      <td>18</td>\n",
       "      <td>19</td>\n",
       "    </tr>\n",
       "    <tr>\n",
       "      <th>Min_joined_date</th>\n",
       "      <td>2017-01-11 00:00:00</td>\n",
       "      <td>2015-01-19 00:00:00</td>\n",
       "      <td>2017-01-11 00:00:00</td>\n",
       "    </tr>\n",
       "    <tr>\n",
       "      <th>Max_joined_date</th>\n",
       "      <td>2017-10-31 00:00:00</td>\n",
       "      <td>2017-10-31 00:00:00</td>\n",
       "      <td>2017-10-31 00:00:00</td>\n",
       "    </tr>\n",
       "    <tr>\n",
       "      <th>Min_paid_date</th>\n",
       "      <td>2017-01-11 00:00:00</td>\n",
       "      <td>2016-12-14 00:00:00</td>\n",
       "      <td>2017-01-11 00:00:00</td>\n",
       "    </tr>\n",
       "    <tr>\n",
       "      <th>Max_paid_date</th>\n",
       "      <td>2017-12-11 00:00:00</td>\n",
       "      <td>2017-12-11 00:00:00</td>\n",
       "      <td>2017-12-11 00:00:00</td>\n",
       "    </tr>\n",
       "  </tbody>\n",
       "</table>\n",
       "</div>"
      ],
      "text/plain": [
       "                                       test  \\\n",
       "Duplicates                               12   \n",
       "Number_of_transactions                  273   \n",
       "Unique_users                            146   \n",
       "Columns_with_gaps                        []   \n",
       "Unique_countries                         17   \n",
       "Min_joined_date         2017-01-11 00:00:00   \n",
       "Max_joined_date         2017-10-31 00:00:00   \n",
       "Min_paid_date           2017-01-11 00:00:00   \n",
       "Max_paid_date           2017-12-11 00:00:00   \n",
       "\n",
       "                                                                control_1  \\\n",
       "Duplicates                                                            666   \n",
       "Number_of_transactions                                               1007   \n",
       "Unique_users                                                          193   \n",
       "Columns_with_gaps       [uid, country, joined_at, paid_at, revenue, pa...   \n",
       "Unique_countries                                                       18   \n",
       "Min_joined_date                                       2015-01-19 00:00:00   \n",
       "Max_joined_date                                       2017-10-31 00:00:00   \n",
       "Min_paid_date                                         2016-12-14 00:00:00   \n",
       "Max_paid_date                                         2017-12-11 00:00:00   \n",
       "\n",
       "                                  control_2  \n",
       "Duplicates                               20  \n",
       "Number_of_transactions                  328  \n",
       "Unique_users                            187  \n",
       "Columns_with_gaps                        []  \n",
       "Unique_countries                         19  \n",
       "Min_joined_date         2017-01-11 00:00:00  \n",
       "Max_joined_date         2017-10-31 00:00:00  \n",
       "Min_paid_date           2017-01-11 00:00:00  \n",
       "Max_paid_date           2017-12-11 00:00:00  "
      ]
     },
     "execution_count": 23,
     "metadata": {},
     "output_type": "execute_result"
    }
   ],
   "source": [
    "transactions_review = payments_rev(payments_test, 'test')\n",
    "transactions_review['control_1'] = payments_rev(payments_control_1, 'control_1')\n",
    "transactions_review['control_2'] = payments_rev(payments_control_2, 'control_2')\n",
    "transactions_review"
   ]
  },
  {
   "cell_type": "markdown",
   "metadata": {},
   "source": [
    "Из сводной таблицы по платежам:\n",
    "1. по количеству транзакций группа control_1 в разы превосходит две другие группы.Однако есть повторяющиеся строки\n",
    "2. число уникальных пользователей в контрольных группах больше, чем в тестовой\n",
    "3. пропуски имеются только в контрольной группе control_1, что мы исключим далее\n",
    "4. количество стран отличается на одну в каждой группе\n"
   ]
  },
  {
   "cell_type": "code",
   "execution_count": 24,
   "metadata": {},
   "outputs": [
    {
     "data": {
      "text/plain": [
       "630"
      ]
     },
     "execution_count": 24,
     "metadata": {},
     "output_type": "execute_result"
    }
   ],
   "source": [
    "payments_control_1.uid.isna().sum() # количество строк с пропущенными значениями"
   ]
  },
  {
   "cell_type": "markdown",
   "metadata": {},
   "source": [
    "Возможно это как раз непонятные записи в контрольной группе, которые объясняют анормальное превышение записей в транзакциях в этой группе 1007 - 630 = 377"
   ]
  },
  {
   "cell_type": "code",
   "execution_count": 25,
   "metadata": {},
   "outputs": [
    {
     "data": {
      "text/html": [
       "<div>\n",
       "<style scoped>\n",
       "    .dataframe tbody tr th:only-of-type {\n",
       "        vertical-align: middle;\n",
       "    }\n",
       "\n",
       "    .dataframe tbody tr th {\n",
       "        vertical-align: top;\n",
       "    }\n",
       "\n",
       "    .dataframe thead th {\n",
       "        text-align: right;\n",
       "    }\n",
       "</style>\n",
       "<table border=\"1\" class=\"dataframe\">\n",
       "  <thead>\n",
       "    <tr style=\"text-align: right;\">\n",
       "      <th></th>\n",
       "      <th>uid</th>\n",
       "      <th>country</th>\n",
       "      <th>joined_at</th>\n",
       "      <th>paid_at</th>\n",
       "      <th>revenue</th>\n",
       "      <th>payment_id</th>\n",
       "      <th>from_page</th>\n",
       "      <th>product_type</th>\n",
       "    </tr>\n",
       "  </thead>\n",
       "  <tbody>\n",
       "    <tr>\n",
       "      <th>0</th>\n",
       "      <td>NaN</td>\n",
       "      <td>NaN</td>\n",
       "      <td>NaT</td>\n",
       "      <td>NaT</td>\n",
       "      <td>NaN</td>\n",
       "      <td>NaN</td>\n",
       "      <td>NaN</td>\n",
       "      <td>NaN</td>\n",
       "    </tr>\n",
       "    <tr>\n",
       "      <th>1</th>\n",
       "      <td>NaN</td>\n",
       "      <td>NaN</td>\n",
       "      <td>NaT</td>\n",
       "      <td>NaT</td>\n",
       "      <td>NaN</td>\n",
       "      <td>NaN</td>\n",
       "      <td>NaN</td>\n",
       "      <td>NaN</td>\n",
       "    </tr>\n",
       "    <tr>\n",
       "      <th>2</th>\n",
       "      <td>NaN</td>\n",
       "      <td>NaN</td>\n",
       "      <td>NaT</td>\n",
       "      <td>NaT</td>\n",
       "      <td>NaN</td>\n",
       "      <td>NaN</td>\n",
       "      <td>NaN</td>\n",
       "      <td>NaN</td>\n",
       "    </tr>\n",
       "    <tr>\n",
       "      <th>3</th>\n",
       "      <td>NaN</td>\n",
       "      <td>NaN</td>\n",
       "      <td>NaT</td>\n",
       "      <td>NaT</td>\n",
       "      <td>NaN</td>\n",
       "      <td>NaN</td>\n",
       "      <td>NaN</td>\n",
       "      <td>NaN</td>\n",
       "    </tr>\n",
       "    <tr>\n",
       "      <th>4</th>\n",
       "      <td>NaN</td>\n",
       "      <td>NaN</td>\n",
       "      <td>NaT</td>\n",
       "      <td>NaT</td>\n",
       "      <td>NaN</td>\n",
       "      <td>NaN</td>\n",
       "      <td>NaN</td>\n",
       "      <td>NaN</td>\n",
       "    </tr>\n",
       "    <tr>\n",
       "      <th>...</th>\n",
       "      <td>...</td>\n",
       "      <td>...</td>\n",
       "      <td>...</td>\n",
       "      <td>...</td>\n",
       "      <td>...</td>\n",
       "      <td>...</td>\n",
       "      <td>...</td>\n",
       "      <td>...</td>\n",
       "    </tr>\n",
       "    <tr>\n",
       "      <th>1002</th>\n",
       "      <td>NaN</td>\n",
       "      <td>NaN</td>\n",
       "      <td>NaT</td>\n",
       "      <td>NaT</td>\n",
       "      <td>NaN</td>\n",
       "      <td>NaN</td>\n",
       "      <td>NaN</td>\n",
       "      <td>NaN</td>\n",
       "    </tr>\n",
       "    <tr>\n",
       "      <th>1003</th>\n",
       "      <td>NaN</td>\n",
       "      <td>NaN</td>\n",
       "      <td>NaT</td>\n",
       "      <td>NaT</td>\n",
       "      <td>NaN</td>\n",
       "      <td>NaN</td>\n",
       "      <td>NaN</td>\n",
       "      <td>NaN</td>\n",
       "    </tr>\n",
       "    <tr>\n",
       "      <th>1004</th>\n",
       "      <td>NaN</td>\n",
       "      <td>NaN</td>\n",
       "      <td>NaT</td>\n",
       "      <td>NaT</td>\n",
       "      <td>NaN</td>\n",
       "      <td>NaN</td>\n",
       "      <td>NaN</td>\n",
       "      <td>NaN</td>\n",
       "    </tr>\n",
       "    <tr>\n",
       "      <th>1005</th>\n",
       "      <td>NaN</td>\n",
       "      <td>NaN</td>\n",
       "      <td>NaT</td>\n",
       "      <td>NaT</td>\n",
       "      <td>NaN</td>\n",
       "      <td>NaN</td>\n",
       "      <td>NaN</td>\n",
       "      <td>NaN</td>\n",
       "    </tr>\n",
       "    <tr>\n",
       "      <th>1006</th>\n",
       "      <td>NaN</td>\n",
       "      <td>NaN</td>\n",
       "      <td>NaT</td>\n",
       "      <td>NaT</td>\n",
       "      <td>NaN</td>\n",
       "      <td>NaN</td>\n",
       "      <td>NaN</td>\n",
       "      <td>NaN</td>\n",
       "    </tr>\n",
       "  </tbody>\n",
       "</table>\n",
       "<p>1007 rows × 8 columns</p>\n",
       "</div>"
      ],
      "text/plain": [
       "      uid country joined_at paid_at  revenue  payment_id from_page  \\\n",
       "0     NaN     NaN       NaT     NaT      NaN         NaN       NaN   \n",
       "1     NaN     NaN       NaT     NaT      NaN         NaN       NaN   \n",
       "2     NaN     NaN       NaT     NaT      NaN         NaN       NaN   \n",
       "3     NaN     NaN       NaT     NaT      NaN         NaN       NaN   \n",
       "4     NaN     NaN       NaT     NaT      NaN         NaN       NaN   \n",
       "...   ...     ...       ...     ...      ...         ...       ...   \n",
       "1002  NaN     NaN       NaT     NaT      NaN         NaN       NaN   \n",
       "1003  NaN     NaN       NaT     NaT      NaN         NaN       NaN   \n",
       "1004  NaN     NaN       NaT     NaT      NaN         NaN       NaN   \n",
       "1005  NaN     NaN       NaT     NaT      NaN         NaN       NaN   \n",
       "1006  NaN     NaN       NaT     NaT      NaN         NaN       NaN   \n",
       "\n",
       "     product_type  \n",
       "0             NaN  \n",
       "1             NaN  \n",
       "2             NaN  \n",
       "3             NaN  \n",
       "4             NaN  \n",
       "...           ...  \n",
       "1002          NaN  \n",
       "1003          NaN  \n",
       "1004          NaN  \n",
       "1005          NaN  \n",
       "1006          NaN  \n",
       "\n",
       "[1007 rows x 8 columns]"
      ]
     },
     "execution_count": 25,
     "metadata": {},
     "output_type": "execute_result"
    }
   ],
   "source": [
    "payments_control_1[payments_control_1.isnull()]  #выведем строки с пропущенными значениями"
   ]
  },
  {
   "cell_type": "code",
   "execution_count": 26,
   "metadata": {},
   "outputs": [],
   "source": [
    "payments_control_1.dropna(subset=['uid'], inplace=True)\n"
   ]
  },
  {
   "cell_type": "code",
   "execution_count": 27,
   "metadata": {},
   "outputs": [
    {
     "data": {
      "text/html": [
       "<div>\n",
       "<style scoped>\n",
       "    .dataframe tbody tr th:only-of-type {\n",
       "        vertical-align: middle;\n",
       "    }\n",
       "\n",
       "    .dataframe tbody tr th {\n",
       "        vertical-align: top;\n",
       "    }\n",
       "\n",
       "    .dataframe thead th {\n",
       "        text-align: right;\n",
       "    }\n",
       "</style>\n",
       "<table border=\"1\" class=\"dataframe\">\n",
       "  <thead>\n",
       "    <tr style=\"text-align: right;\">\n",
       "      <th></th>\n",
       "      <th>uid</th>\n",
       "      <th>country</th>\n",
       "      <th>joined_at</th>\n",
       "      <th>paid_at</th>\n",
       "      <th>revenue</th>\n",
       "      <th>payment_id</th>\n",
       "      <th>from_page</th>\n",
       "      <th>product_type</th>\n",
       "    </tr>\n",
       "  </thead>\n",
       "  <tbody>\n",
       "    <tr>\n",
       "      <th>0</th>\n",
       "      <td>891319275.0</td>\n",
       "      <td>France</td>\n",
       "      <td>2017-05-11</td>\n",
       "      <td>2017-12-11</td>\n",
       "      <td>12727.0</td>\n",
       "      <td>147.0</td>\n",
       "      <td>trial_vip_popup</td>\n",
       "      <td>trial_premium</td>\n",
       "    </tr>\n",
       "    <tr>\n",
       "      <th>1</th>\n",
       "      <td>892421826.0</td>\n",
       "      <td>Israel</td>\n",
       "      <td>2017-10-14</td>\n",
       "      <td>2017-10-23</td>\n",
       "      <td>14586.0</td>\n",
       "      <td>147.0</td>\n",
       "      <td>trial_vip_popup</td>\n",
       "      <td>trial_premium</td>\n",
       "    </tr>\n",
       "    <tr>\n",
       "      <th>2</th>\n",
       "      <td>891822480.0</td>\n",
       "      <td>Italy</td>\n",
       "      <td>2017-10-26</td>\n",
       "      <td>2017-12-11</td>\n",
       "      <td>1911.0</td>\n",
       "      <td>19.0</td>\n",
       "      <td>none</td>\n",
       "      <td>coins</td>\n",
       "    </tr>\n",
       "    <tr>\n",
       "      <th>3</th>\n",
       "      <td>891367521.0</td>\n",
       "      <td>Italy</td>\n",
       "      <td>2017-05-11</td>\n",
       "      <td>2017-06-11</td>\n",
       "      <td>1456.0</td>\n",
       "      <td>127.0</td>\n",
       "      <td>sympathy</td>\n",
       "      <td>other_type</td>\n",
       "    </tr>\n",
       "    <tr>\n",
       "      <th>4</th>\n",
       "      <td>892207959.0</td>\n",
       "      <td>France</td>\n",
       "      <td>2017-10-18</td>\n",
       "      <td>2017-12-11</td>\n",
       "      <td>1261.0</td>\n",
       "      <td>19.0</td>\n",
       "      <td>empty_likes</td>\n",
       "      <td>coins</td>\n",
       "    </tr>\n",
       "    <tr>\n",
       "      <th>...</th>\n",
       "      <td>...</td>\n",
       "      <td>...</td>\n",
       "      <td>...</td>\n",
       "      <td>...</td>\n",
       "      <td>...</td>\n",
       "      <td>...</td>\n",
       "      <td>...</td>\n",
       "      <td>...</td>\n",
       "    </tr>\n",
       "    <tr>\n",
       "      <th>372</th>\n",
       "      <td>891556971.0</td>\n",
       "      <td>France</td>\n",
       "      <td>2017-01-11</td>\n",
       "      <td>2017-01-11</td>\n",
       "      <td>2886.0</td>\n",
       "      <td>68.0</td>\n",
       "      <td>none</td>\n",
       "      <td>premium_no_trial</td>\n",
       "    </tr>\n",
       "    <tr>\n",
       "      <th>373</th>\n",
       "      <td>892052106.0</td>\n",
       "      <td>Spain</td>\n",
       "      <td>2017-10-22</td>\n",
       "      <td>2017-10-29</td>\n",
       "      <td>12883.0</td>\n",
       "      <td>147.0</td>\n",
       "      <td>trial_vip_popup</td>\n",
       "      <td>trial_premium</td>\n",
       "    </tr>\n",
       "    <tr>\n",
       "      <th>374</th>\n",
       "      <td>892145004.0</td>\n",
       "      <td>Chile</td>\n",
       "      <td>2017-10-20</td>\n",
       "      <td>2017-01-11</td>\n",
       "      <td>9919.0</td>\n",
       "      <td>147.0</td>\n",
       "      <td>trial_vip_popup</td>\n",
       "      <td>trial_premium</td>\n",
       "    </tr>\n",
       "    <tr>\n",
       "      <th>375</th>\n",
       "      <td>891458229.0</td>\n",
       "      <td>Spain</td>\n",
       "      <td>2017-03-11</td>\n",
       "      <td>2017-04-11</td>\n",
       "      <td>6305.0</td>\n",
       "      <td>19.0</td>\n",
       "      <td>menu</td>\n",
       "      <td>coins</td>\n",
       "    </tr>\n",
       "    <tr>\n",
       "      <th>376</th>\n",
       "      <td>891466989.0</td>\n",
       "      <td>United States of America</td>\n",
       "      <td>2017-03-11</td>\n",
       "      <td>2017-03-11</td>\n",
       "      <td>6292.0</td>\n",
       "      <td>147.0</td>\n",
       "      <td>autoreply_message</td>\n",
       "      <td>premium_no_trial</td>\n",
       "    </tr>\n",
       "  </tbody>\n",
       "</table>\n",
       "<p>377 rows × 8 columns</p>\n",
       "</div>"
      ],
      "text/plain": [
       "             uid                   country  joined_at    paid_at  revenue  \\\n",
       "0    891319275.0                    France 2017-05-11 2017-12-11  12727.0   \n",
       "1    892421826.0                    Israel 2017-10-14 2017-10-23  14586.0   \n",
       "2    891822480.0                     Italy 2017-10-26 2017-12-11   1911.0   \n",
       "3    891367521.0                     Italy 2017-05-11 2017-06-11   1456.0   \n",
       "4    892207959.0                    France 2017-10-18 2017-12-11   1261.0   \n",
       "..           ...                       ...        ...        ...      ...   \n",
       "372  891556971.0                    France 2017-01-11 2017-01-11   2886.0   \n",
       "373  892052106.0                     Spain 2017-10-22 2017-10-29  12883.0   \n",
       "374  892145004.0                     Chile 2017-10-20 2017-01-11   9919.0   \n",
       "375  891458229.0                     Spain 2017-03-11 2017-04-11   6305.0   \n",
       "376  891466989.0  United States of America 2017-03-11 2017-03-11   6292.0   \n",
       "\n",
       "     payment_id          from_page      product_type  \n",
       "0         147.0    trial_vip_popup     trial_premium  \n",
       "1         147.0    trial_vip_popup     trial_premium  \n",
       "2          19.0               none             coins  \n",
       "3         127.0           sympathy        other_type  \n",
       "4          19.0        empty_likes             coins  \n",
       "..          ...                ...               ...  \n",
       "372        68.0               none  premium_no_trial  \n",
       "373       147.0    trial_vip_popup     trial_premium  \n",
       "374       147.0    trial_vip_popup     trial_premium  \n",
       "375        19.0               menu             coins  \n",
       "376       147.0  autoreply_message  premium_no_trial  \n",
       "\n",
       "[377 rows x 8 columns]"
      ]
     },
     "execution_count": 27,
     "metadata": {},
     "output_type": "execute_result"
    }
   ],
   "source": [
    "payments_control_1"
   ]
  },
  {
   "cell_type": "code",
   "execution_count": 28,
   "metadata": {},
   "outputs": [],
   "source": [
    "payments_control_1 = payments_control_1.loc[payments_control_1['paid_at']>'2017-01-11'] \n",
    "#  оставляем данные только за год"
   ]
  },
  {
   "cell_type": "code",
   "execution_count": 29,
   "metadata": {},
   "outputs": [
    {
     "data": {
      "text/plain": [
       "array([147,  67,  19, 146,  68,   0])"
      ]
     },
     "execution_count": 29,
     "metadata": {},
     "output_type": "execute_result"
    }
   ],
   "source": [
    "pd.unique(payments_test['payment_id'].values.ravel())# посмотрим какие номера платежей встречаются в группах"
   ]
  },
  {
   "cell_type": "code",
   "execution_count": 30,
   "metadata": {},
   "outputs": [
    {
     "data": {
      "text/plain": [
       "array([147.,  19., 127., 146.,  67.,  68.,   0.])"
      ]
     },
     "execution_count": 30,
     "metadata": {},
     "output_type": "execute_result"
    }
   ],
   "source": [
    "pd.unique(payments_control_1['payment_id'].values.ravel())"
   ]
  },
  {
   "cell_type": "code",
   "execution_count": 31,
   "metadata": {},
   "outputs": [
    {
     "data": {
      "text/plain": [
       "array([ 19, 147,  67,  68, 146,   0])"
      ]
     },
     "execution_count": 31,
     "metadata": {},
     "output_type": "execute_result"
    }
   ],
   "source": [
    "\n",
    "\n",
    "pd.unique(payments_control_2['payment_id'].values.ravel())"
   ]
  },
  {
   "cell_type": "code",
   "execution_count": 32,
   "metadata": {},
   "outputs": [
    {
     "data": {
      "text/html": [
       "<div>\n",
       "<style scoped>\n",
       "    .dataframe tbody tr th:only-of-type {\n",
       "        vertical-align: middle;\n",
       "    }\n",
       "\n",
       "    .dataframe tbody tr th {\n",
       "        vertical-align: top;\n",
       "    }\n",
       "\n",
       "    .dataframe thead th {\n",
       "        text-align: right;\n",
       "    }\n",
       "</style>\n",
       "<table border=\"1\" class=\"dataframe\">\n",
       "  <thead>\n",
       "    <tr style=\"text-align: right;\">\n",
       "      <th></th>\n",
       "      <th>uid</th>\n",
       "      <th>country</th>\n",
       "      <th>joined_at</th>\n",
       "      <th>paid_at</th>\n",
       "      <th>revenue</th>\n",
       "      <th>payment_id</th>\n",
       "      <th>from_page</th>\n",
       "      <th>product_type</th>\n",
       "    </tr>\n",
       "  </thead>\n",
       "  <tbody>\n",
       "    <tr>\n",
       "      <th>0</th>\n",
       "      <td>891319275.0</td>\n",
       "      <td>France</td>\n",
       "      <td>2017-05-11</td>\n",
       "      <td>2017-12-11</td>\n",
       "      <td>12727.0</td>\n",
       "      <td>147.0</td>\n",
       "      <td>trial_vip_popup</td>\n",
       "      <td>trial_premium</td>\n",
       "    </tr>\n",
       "    <tr>\n",
       "      <th>1</th>\n",
       "      <td>892421826.0</td>\n",
       "      <td>Israel</td>\n",
       "      <td>2017-10-14</td>\n",
       "      <td>2017-10-23</td>\n",
       "      <td>14586.0</td>\n",
       "      <td>147.0</td>\n",
       "      <td>trial_vip_popup</td>\n",
       "      <td>trial_premium</td>\n",
       "    </tr>\n",
       "    <tr>\n",
       "      <th>2</th>\n",
       "      <td>891822480.0</td>\n",
       "      <td>Italy</td>\n",
       "      <td>2017-10-26</td>\n",
       "      <td>2017-12-11</td>\n",
       "      <td>1911.0</td>\n",
       "      <td>19.0</td>\n",
       "      <td>none</td>\n",
       "      <td>coins</td>\n",
       "    </tr>\n",
       "    <tr>\n",
       "      <th>3</th>\n",
       "      <td>891367521.0</td>\n",
       "      <td>Italy</td>\n",
       "      <td>2017-05-11</td>\n",
       "      <td>2017-06-11</td>\n",
       "      <td>1456.0</td>\n",
       "      <td>127.0</td>\n",
       "      <td>sympathy</td>\n",
       "      <td>other_type</td>\n",
       "    </tr>\n",
       "    <tr>\n",
       "      <th>4</th>\n",
       "      <td>892207959.0</td>\n",
       "      <td>France</td>\n",
       "      <td>2017-10-18</td>\n",
       "      <td>2017-12-11</td>\n",
       "      <td>1261.0</td>\n",
       "      <td>19.0</td>\n",
       "      <td>empty_likes</td>\n",
       "      <td>coins</td>\n",
       "    </tr>\n",
       "    <tr>\n",
       "      <th>...</th>\n",
       "      <td>...</td>\n",
       "      <td>...</td>\n",
       "      <td>...</td>\n",
       "      <td>...</td>\n",
       "      <td>...</td>\n",
       "      <td>...</td>\n",
       "      <td>...</td>\n",
       "      <td>...</td>\n",
       "    </tr>\n",
       "    <tr>\n",
       "      <th>370</th>\n",
       "      <td>892188396.0</td>\n",
       "      <td>Argentina</td>\n",
       "      <td>2017-10-19</td>\n",
       "      <td>2017-10-24</td>\n",
       "      <td>6305.0</td>\n",
       "      <td>19.0</td>\n",
       "      <td>autorefill</td>\n",
       "      <td>coins</td>\n",
       "    </tr>\n",
       "    <tr>\n",
       "      <th>371</th>\n",
       "      <td>892074894.0</td>\n",
       "      <td>Canada</td>\n",
       "      <td>2017-10-21</td>\n",
       "      <td>2017-10-25</td>\n",
       "      <td>6292.0</td>\n",
       "      <td>147.0</td>\n",
       "      <td>promo_09</td>\n",
       "      <td>premium_no_trial</td>\n",
       "    </tr>\n",
       "    <tr>\n",
       "      <th>373</th>\n",
       "      <td>892052106.0</td>\n",
       "      <td>Spain</td>\n",
       "      <td>2017-10-22</td>\n",
       "      <td>2017-10-29</td>\n",
       "      <td>12883.0</td>\n",
       "      <td>147.0</td>\n",
       "      <td>trial_vip_popup</td>\n",
       "      <td>trial_premium</td>\n",
       "    </tr>\n",
       "    <tr>\n",
       "      <th>375</th>\n",
       "      <td>891458229.0</td>\n",
       "      <td>Spain</td>\n",
       "      <td>2017-03-11</td>\n",
       "      <td>2017-04-11</td>\n",
       "      <td>6305.0</td>\n",
       "      <td>19.0</td>\n",
       "      <td>menu</td>\n",
       "      <td>coins</td>\n",
       "    </tr>\n",
       "    <tr>\n",
       "      <th>376</th>\n",
       "      <td>891466989.0</td>\n",
       "      <td>United States of America</td>\n",
       "      <td>2017-03-11</td>\n",
       "      <td>2017-03-11</td>\n",
       "      <td>6292.0</td>\n",
       "      <td>147.0</td>\n",
       "      <td>autoreply_message</td>\n",
       "      <td>premium_no_trial</td>\n",
       "    </tr>\n",
       "  </tbody>\n",
       "</table>\n",
       "<p>364 rows × 8 columns</p>\n",
       "</div>"
      ],
      "text/plain": [
       "             uid                   country  joined_at    paid_at  revenue  \\\n",
       "0    891319275.0                    France 2017-05-11 2017-12-11  12727.0   \n",
       "1    892421826.0                    Israel 2017-10-14 2017-10-23  14586.0   \n",
       "2    891822480.0                     Italy 2017-10-26 2017-12-11   1911.0   \n",
       "3    891367521.0                     Italy 2017-05-11 2017-06-11   1456.0   \n",
       "4    892207959.0                    France 2017-10-18 2017-12-11   1261.0   \n",
       "..           ...                       ...        ...        ...      ...   \n",
       "370  892188396.0                 Argentina 2017-10-19 2017-10-24   6305.0   \n",
       "371  892074894.0                    Canada 2017-10-21 2017-10-25   6292.0   \n",
       "373  892052106.0                     Spain 2017-10-22 2017-10-29  12883.0   \n",
       "375  891458229.0                     Spain 2017-03-11 2017-04-11   6305.0   \n",
       "376  891466989.0  United States of America 2017-03-11 2017-03-11   6292.0   \n",
       "\n",
       "     payment_id          from_page      product_type  \n",
       "0         147.0    trial_vip_popup     trial_premium  \n",
       "1         147.0    trial_vip_popup     trial_premium  \n",
       "2          19.0               none             coins  \n",
       "3         127.0           sympathy        other_type  \n",
       "4          19.0        empty_likes             coins  \n",
       "..          ...                ...               ...  \n",
       "370        19.0         autorefill             coins  \n",
       "371       147.0           promo_09  premium_no_trial  \n",
       "373       147.0    trial_vip_popup     trial_premium  \n",
       "375        19.0               menu             coins  \n",
       "376       147.0  autoreply_message  premium_no_trial  \n",
       "\n",
       "[364 rows x 8 columns]"
      ]
     },
     "execution_count": 32,
     "metadata": {},
     "output_type": "execute_result"
    }
   ],
   "source": [
    "payments_control_1 = payments_control_1.fillna(0) # избавимся от Nan и Nat\n",
    "payments_control_1"
   ]
  },
  {
   "cell_type": "code",
   "execution_count": 33,
   "metadata": {},
   "outputs": [],
   "source": [
    "\n",
    "payments_control_1['payment_id']= payments_control_1['payment_id'].astype(int) #Переведем в формат целого числа\n"
   ]
  },
  {
   "cell_type": "code",
   "execution_count": 34,
   "metadata": {},
   "outputs": [
    {
     "data": {
      "text/plain": [
       "array([147,  19, 127, 146,  67,  68,   0])"
      ]
     },
     "execution_count": 34,
     "metadata": {},
     "output_type": "execute_result"
    }
   ],
   "source": [
    "pd.unique(payments_control_1['payment_id'].values.ravel())"
   ]
  },
  {
   "cell_type": "markdown",
   "metadata": {},
   "source": [
    " Платежный номер 127 появляется только в группе control_1. Относится он только к платежам за \"other_type\" тип продукта.  \n",
    "\n"
   ]
  },
  {
   "cell_type": "code",
   "execution_count": 35,
   "metadata": {},
   "outputs": [
    {
     "data": {
      "text/html": [
       "<div>\n",
       "<style scoped>\n",
       "    .dataframe tbody tr th:only-of-type {\n",
       "        vertical-align: middle;\n",
       "    }\n",
       "\n",
       "    .dataframe tbody tr th {\n",
       "        vertical-align: top;\n",
       "    }\n",
       "\n",
       "    .dataframe thead th {\n",
       "        text-align: right;\n",
       "    }\n",
       "</style>\n",
       "<table border=\"1\" class=\"dataframe\">\n",
       "  <thead>\n",
       "    <tr style=\"text-align: right;\">\n",
       "      <th></th>\n",
       "      <th>uid</th>\n",
       "      <th>country</th>\n",
       "      <th>joined_at</th>\n",
       "      <th>paid_at</th>\n",
       "      <th>revenue</th>\n",
       "      <th>payment_id</th>\n",
       "      <th>from_page</th>\n",
       "      <th>product_type</th>\n",
       "    </tr>\n",
       "  </thead>\n",
       "  <tbody>\n",
       "    <tr>\n",
       "      <th>3</th>\n",
       "      <td>891367521.0</td>\n",
       "      <td>Italy</td>\n",
       "      <td>2017-05-11</td>\n",
       "      <td>2017-06-11</td>\n",
       "      <td>1456.0</td>\n",
       "      <td>127</td>\n",
       "      <td>sympathy</td>\n",
       "      <td>other_type</td>\n",
       "    </tr>\n",
       "    <tr>\n",
       "      <th>200</th>\n",
       "      <td>891367521.0</td>\n",
       "      <td>Italy</td>\n",
       "      <td>2017-05-11</td>\n",
       "      <td>2017-10-11</td>\n",
       "      <td>1469.0</td>\n",
       "      <td>127</td>\n",
       "      <td>coins_popup</td>\n",
       "      <td>other_type</td>\n",
       "    </tr>\n",
       "    <tr>\n",
       "      <th>257</th>\n",
       "      <td>891367521.0</td>\n",
       "      <td>Italy</td>\n",
       "      <td>2017-05-11</td>\n",
       "      <td>2017-06-11</td>\n",
       "      <td>1456.0</td>\n",
       "      <td>127</td>\n",
       "      <td>sympathy</td>\n",
       "      <td>other_type</td>\n",
       "    </tr>\n",
       "    <tr>\n",
       "      <th>298</th>\n",
       "      <td>891367521.0</td>\n",
       "      <td>Italy</td>\n",
       "      <td>2017-05-11</td>\n",
       "      <td>2017-06-11</td>\n",
       "      <td>1456.0</td>\n",
       "      <td>127</td>\n",
       "      <td>sympathy</td>\n",
       "      <td>other_type</td>\n",
       "    </tr>\n",
       "    <tr>\n",
       "      <th>308</th>\n",
       "      <td>891367521.0</td>\n",
       "      <td>Italy</td>\n",
       "      <td>2017-05-11</td>\n",
       "      <td>2017-06-11</td>\n",
       "      <td>1456.0</td>\n",
       "      <td>127</td>\n",
       "      <td>sympathy</td>\n",
       "      <td>other_type</td>\n",
       "    </tr>\n",
       "  </tbody>\n",
       "</table>\n",
       "</div>"
      ],
      "text/plain": [
       "             uid country  joined_at    paid_at  revenue  payment_id  \\\n",
       "3    891367521.0   Italy 2017-05-11 2017-06-11   1456.0         127   \n",
       "200  891367521.0   Italy 2017-05-11 2017-10-11   1469.0         127   \n",
       "257  891367521.0   Italy 2017-05-11 2017-06-11   1456.0         127   \n",
       "298  891367521.0   Italy 2017-05-11 2017-06-11   1456.0         127   \n",
       "308  891367521.0   Italy 2017-05-11 2017-06-11   1456.0         127   \n",
       "\n",
       "       from_page product_type  \n",
       "3       sympathy   other_type  \n",
       "200  coins_popup   other_type  \n",
       "257     sympathy   other_type  \n",
       "298     sympathy   other_type  \n",
       "308     sympathy   other_type  "
      ]
     },
     "execution_count": 35,
     "metadata": {},
     "output_type": "execute_result"
    }
   ],
   "source": [
    "payments_control_1.query('payment_id == 127') #этот номер платежа соответствует только одному uid.\n",
    "#Оставим его в данных"
   ]
  },
  {
   "cell_type": "code",
   "execution_count": 36,
   "metadata": {},
   "outputs": [],
   "source": [
    "\n",
    "\n",
    "payments_control_1['revenue'] = payments_control_1['revenue'].astype(int)  #Переведем в формат целого числа"
   ]
  },
  {
   "cell_type": "code",
   "execution_count": 37,
   "metadata": {},
   "outputs": [],
   "source": [
    "payments_control_1['uid'] = payments_control_1['uid'].astype(int) "
   ]
  },
  {
   "cell_type": "code",
   "execution_count": 38,
   "metadata": {},
   "outputs": [
    {
     "data": {
      "text/plain": [
       "array(['trial_vip_popup', 'none', 'sympathy', 'empty_likes', 'gifts',\n",
       "       'dating', 'menu', 'left_sidebar_menu', 'autorefill',\n",
       "       'empty_admins', 'promo_09', 'coins_popup', 'autoreply_message',\n",
       "       'fans', 'popular_users_block', 'ad_to_photo', 'no_sympathy',\n",
       "       'send_message', 'popular_users_chat', 'user_profile', 'admins',\n",
       "       'super_popup'], dtype=object)"
      ]
     },
     "execution_count": 38,
     "metadata": {},
     "output_type": "execute_result"
    }
   ],
   "source": [
    "pd.unique(payments_control_1['from_page'].values.ravel())#разнообразие страниц, одкуда совершен платеж"
   ]
  },
  {
   "cell_type": "code",
   "execution_count": 39,
   "metadata": {},
   "outputs": [
    {
     "data": {
      "text/plain": [
       "array(['autorefill', 'promo_09', 'trial_vip_popup', 'empty_likes',\n",
       "       'autoreply_message', 'none', 'menu', 'left_sidebar_menu', 'dating',\n",
       "       'gifts', 'empty_mutual', 'fans', 'popular_users_block',\n",
       "       'user_profile', 'popular_users_chat', 'sympathy', 'send_message',\n",
       "       'ad_to_photo'], dtype=object)"
      ]
     },
     "execution_count": 39,
     "metadata": {},
     "output_type": "execute_result"
    }
   ],
   "source": [
    "pd.unique(payments_control_2['from_page'].values.ravel())"
   ]
  },
  {
   "cell_type": "code",
   "execution_count": 40,
   "metadata": {},
   "outputs": [
    {
     "data": {
      "text/plain": [
       "array(['trial_vip_popup', 'menu', 'autoreply_message',\n",
       "       'left_sidebar_menu', 'autorefill', 'ad_to_photo', 'gifts', 'none',\n",
       "       'promo_09', 'super_popup', 'empty_likes', 'empty_mutual',\n",
       "       'popular_users_chat', 'send_message', 'coins_popup',\n",
       "       'popular_users_block', 'sympathy', 'delivery_vip', 'fans',\n",
       "       'dating', 'user_profile', 'likes'], dtype=object)"
      ]
     },
     "execution_count": 40,
     "metadata": {},
     "output_type": "execute_result"
    }
   ],
   "source": [
    "pd.unique(payments_test['from_page'].values.ravel())"
   ]
  },
  {
   "cell_type": "markdown",
   "metadata": {},
   "source": [
    "\n",
    "\n",
    "\n",
    "Данная колонка для наших целей не оказалась информативной. "
   ]
  },
  {
   "cell_type": "markdown",
   "metadata": {},
   "source": [
    "Пока мы не разобрались для каких стран были введены нововведения, но мы почистили данные и теперь можем объединить пользователей и транзакции"
   ]
  },
  {
   "cell_type": "code",
   "execution_count": 41,
   "metadata": {},
   "outputs": [
    {
     "data": {
      "text/html": [
       "<div>\n",
       "<style scoped>\n",
       "    .dataframe tbody tr th:only-of-type {\n",
       "        vertical-align: middle;\n",
       "    }\n",
       "\n",
       "    .dataframe tbody tr th {\n",
       "        vertical-align: top;\n",
       "    }\n",
       "\n",
       "    .dataframe thead th {\n",
       "        text-align: right;\n",
       "    }\n",
       "</style>\n",
       "<table border=\"1\" class=\"dataframe\">\n",
       "  <thead>\n",
       "    <tr style=\"text-align: right;\">\n",
       "      <th></th>\n",
       "      <th>uid</th>\n",
       "      <th>age</th>\n",
       "      <th>attraction_coeff</th>\n",
       "      <th>coins</th>\n",
       "      <th>country</th>\n",
       "      <th>visit_days</th>\n",
       "      <th>gender</th>\n",
       "      <th>age_filter_start</th>\n",
       "      <th>age_filter_end</th>\n",
       "      <th>views_count</th>\n",
       "      <th>was_premium</th>\n",
       "      <th>is_premium</th>\n",
       "      <th>total_revenue</th>\n",
       "      <th>joined_at</th>\n",
       "      <th>paid_at</th>\n",
       "      <th>revenue</th>\n",
       "      <th>payment_id</th>\n",
       "      <th>from_page</th>\n",
       "      <th>product_type</th>\n",
       "    </tr>\n",
       "  </thead>\n",
       "  <tbody>\n",
       "    <tr>\n",
       "      <th>1483</th>\n",
       "      <td>892333905</td>\n",
       "      <td>22</td>\n",
       "      <td>175</td>\n",
       "      <td>3608.0</td>\n",
       "      <td>Italy</td>\n",
       "      <td>1,2,3,4,5,6,7,15</td>\n",
       "      <td>1</td>\n",
       "      <td>19</td>\n",
       "      <td>25</td>\n",
       "      <td>575</td>\n",
       "      <td>1.0</td>\n",
       "      <td>1.0</td>\n",
       "      <td>486330</td>\n",
       "      <td>2017-10-16 00:00:00</td>\n",
       "      <td>2017-10-16 00:00:00</td>\n",
       "      <td>3783.0</td>\n",
       "      <td>67.0</td>\n",
       "      <td>gifts</td>\n",
       "      <td>other_type</td>\n",
       "    </tr>\n",
       "    <tr>\n",
       "      <th>1491</th>\n",
       "      <td>892333905</td>\n",
       "      <td>22</td>\n",
       "      <td>175</td>\n",
       "      <td>3608.0</td>\n",
       "      <td>Italy</td>\n",
       "      <td>1,2,3,4,5,6,7,15</td>\n",
       "      <td>1</td>\n",
       "      <td>19</td>\n",
       "      <td>25</td>\n",
       "      <td>575</td>\n",
       "      <td>1.0</td>\n",
       "      <td>1.0</td>\n",
       "      <td>486330</td>\n",
       "      <td>2017-10-16 00:00:00</td>\n",
       "      <td>2017-10-16 00:00:00</td>\n",
       "      <td>31525.0</td>\n",
       "      <td>19.0</td>\n",
       "      <td>fans</td>\n",
       "      <td>coins</td>\n",
       "    </tr>\n",
       "    <tr>\n",
       "      <th>1489</th>\n",
       "      <td>892333905</td>\n",
       "      <td>22</td>\n",
       "      <td>175</td>\n",
       "      <td>3608.0</td>\n",
       "      <td>Italy</td>\n",
       "      <td>1,2,3,4,5,6,7,15</td>\n",
       "      <td>1</td>\n",
       "      <td>19</td>\n",
       "      <td>25</td>\n",
       "      <td>575</td>\n",
       "      <td>1.0</td>\n",
       "      <td>1.0</td>\n",
       "      <td>486330</td>\n",
       "      <td>2017-10-16 00:00:00</td>\n",
       "      <td>2017-10-17 00:00:00</td>\n",
       "      <td>31525.0</td>\n",
       "      <td>19.0</td>\n",
       "      <td>menu</td>\n",
       "      <td>coins</td>\n",
       "    </tr>\n",
       "    <tr>\n",
       "      <th>1488</th>\n",
       "      <td>892333905</td>\n",
       "      <td>22</td>\n",
       "      <td>175</td>\n",
       "      <td>3608.0</td>\n",
       "      <td>Italy</td>\n",
       "      <td>1,2,3,4,5,6,7,15</td>\n",
       "      <td>1</td>\n",
       "      <td>19</td>\n",
       "      <td>25</td>\n",
       "      <td>575</td>\n",
       "      <td>1.0</td>\n",
       "      <td>1.0</td>\n",
       "      <td>486330</td>\n",
       "      <td>2017-10-16 00:00:00</td>\n",
       "      <td>2017-10-16 00:00:00</td>\n",
       "      <td>31525.0</td>\n",
       "      <td>19.0</td>\n",
       "      <td>menu</td>\n",
       "      <td>coins</td>\n",
       "    </tr>\n",
       "    <tr>\n",
       "      <th>1487</th>\n",
       "      <td>892333905</td>\n",
       "      <td>22</td>\n",
       "      <td>175</td>\n",
       "      <td>3608.0</td>\n",
       "      <td>Italy</td>\n",
       "      <td>1,2,3,4,5,6,7,15</td>\n",
       "      <td>1</td>\n",
       "      <td>19</td>\n",
       "      <td>25</td>\n",
       "      <td>575</td>\n",
       "      <td>1.0</td>\n",
       "      <td>1.0</td>\n",
       "      <td>486330</td>\n",
       "      <td>2017-10-16 00:00:00</td>\n",
       "      <td>2017-10-16 00:00:00</td>\n",
       "      <td>31525.0</td>\n",
       "      <td>19.0</td>\n",
       "      <td>menu</td>\n",
       "      <td>coins</td>\n",
       "    </tr>\n",
       "  </tbody>\n",
       "</table>\n",
       "</div>"
      ],
      "text/plain": [
       "            uid  age  attraction_coeff   coins country        visit_days  \\\n",
       "1483  892333905   22               175  3608.0   Italy  1,2,3,4,5,6,7,15   \n",
       "1491  892333905   22               175  3608.0   Italy  1,2,3,4,5,6,7,15   \n",
       "1489  892333905   22               175  3608.0   Italy  1,2,3,4,5,6,7,15   \n",
       "1488  892333905   22               175  3608.0   Italy  1,2,3,4,5,6,7,15   \n",
       "1487  892333905   22               175  3608.0   Italy  1,2,3,4,5,6,7,15   \n",
       "\n",
       "      gender  age_filter_start  age_filter_end  views_count  was_premium  \\\n",
       "1483       1                19              25          575          1.0   \n",
       "1491       1                19              25          575          1.0   \n",
       "1489       1                19              25          575          1.0   \n",
       "1488       1                19              25          575          1.0   \n",
       "1487       1                19              25          575          1.0   \n",
       "\n",
       "      is_premium  total_revenue            joined_at              paid_at  \\\n",
       "1483         1.0         486330  2017-10-16 00:00:00  2017-10-16 00:00:00   \n",
       "1491         1.0         486330  2017-10-16 00:00:00  2017-10-16 00:00:00   \n",
       "1489         1.0         486330  2017-10-16 00:00:00  2017-10-17 00:00:00   \n",
       "1488         1.0         486330  2017-10-16 00:00:00  2017-10-16 00:00:00   \n",
       "1487         1.0         486330  2017-10-16 00:00:00  2017-10-16 00:00:00   \n",
       "\n",
       "      revenue  payment_id from_page product_type  \n",
       "1483   3783.0        67.0     gifts   other_type  \n",
       "1491  31525.0        19.0      fans        coins  \n",
       "1489  31525.0        19.0      menu        coins  \n",
       "1488  31525.0        19.0      menu        coins  \n",
       "1487  31525.0        19.0      menu        coins  "
      ]
     },
     "execution_count": 41,
     "metadata": {},
     "output_type": "execute_result"
    }
   ],
   "source": [
    "# Сделаем мердж таблиц для более простого представления данных\n",
    "test_group = users_test.merge(payments_test, how = 'left' ).fillna(0)\n",
    "control_1 = users_control_1.merge(payments_control_1, how = 'left' ).fillna(0)\n",
    "control_2 = users_control_2.merge(payments_control_2, how = 'left' ).fillna(0)\n",
    "\n",
    "\n",
    "control_1.sort_values('total_revenue', ascending = False).head(5)"
   ]
  },
  {
   "cell_type": "markdown",
   "metadata": {},
   "source": [
    "данный пользователь uid == 892333905 имеет очень большой выброс колонке total_revenue. Время оплаты у него также весьма странное. \n",
    "В данном анализе его исключим, хотя можно более детально копнуть почему у него такой сильный выброс.\n",
    "несколько оплат у него совершены со страницы empty_admins, что наталкивает на мысль, о том, что это  не простой пользователь. "
   ]
  },
  {
   "cell_type": "code",
   "execution_count": 42,
   "metadata": {},
   "outputs": [],
   "source": [
    "control_1 = control_1.query('uid != 892333905')# исключаем из анализа"
   ]
  },
  {
   "cell_type": "code",
   "execution_count": 43,
   "metadata": {},
   "outputs": [
    {
     "data": {
      "text/plain": [
       "(13330, 20)"
      ]
     },
     "execution_count": 43,
     "metadata": {},
     "output_type": "execute_result"
    }
   ],
   "source": [
    "# Соединим все таблицы в одну сводную для сравнительного анализа по группам, создав доп колонку с индексом группы\n",
    "test_group['Group'] = 'T'\n",
    "control_1['Group'] = 'C1'\n",
    "control_2['Group'] = 'C2'\n",
    "all_together = pd.concat([test_group, control_1, control_2])\n",
    "all_together.shape"
   ]
  },
  {
   "cell_type": "markdown",
   "metadata": {},
   "source": [
    "### 1.2. анализируем данные\n",
    "Попыемся выяснить, где именно произошли изменения и на что они повлияли. "
   ]
  },
  {
   "cell_type": "code",
   "execution_count": 44,
   "metadata": {},
   "outputs": [],
   "source": [
    "#сгруппируем по uid, чтобы посчитать платежи по пользователям\n",
    "test_revenue = test_group.groupby('uid').agg({'revenue':sum}).reset_index()\n",
    "control_1_reven = control_1.groupby(['uid'])\\\n",
    ".agg({'revenue':'sum'}).reset_index()\n",
    "control_2_reven = control_2.groupby(['uid'], as_index = False)\\\n",
    ".agg({'revenue':'sum'})"
   ]
  },
  {
   "cell_type": "code",
   "execution_count": 45,
   "metadata": {},
   "outputs": [
    {
     "name": "stdout",
     "output_type": "stream",
     "text": [
      "2344901.0 2071498.0 1920438.0\n"
     ]
    }
   ],
   "source": [
    "print(test_revenue.revenue.sum(),control_1_reven.revenue.sum(),control_2_reven.revenue.sum())"
   ]
  },
  {
   "cell_type": "markdown",
   "metadata": {},
   "source": [
    "В тестовой группе объем выручки вырос."
   ]
  },
  {
   "cell_type": "code",
   "execution_count": 46,
   "metadata": {},
   "outputs": [],
   "source": [
    "revenue_group1 = all_together.groupby(['Group', 'product_type',], as_index = False) \\\n",
    "            .agg(total = ('revenue', 'sum'))\n",
    "#сгруппируем таблицу по группам и выручки од каждого типа продукта"
   ]
  },
  {
   "cell_type": "code",
   "execution_count": 47,
   "metadata": {},
   "outputs": [
    {
     "data": {
      "text/html": [
       "<div>\n",
       "<style scoped>\n",
       "    .dataframe tbody tr th:only-of-type {\n",
       "        vertical-align: middle;\n",
       "    }\n",
       "\n",
       "    .dataframe tbody tr th {\n",
       "        vertical-align: top;\n",
       "    }\n",
       "\n",
       "    .dataframe thead th {\n",
       "        text-align: right;\n",
       "    }\n",
       "</style>\n",
       "<table border=\"1\" class=\"dataframe\">\n",
       "  <thead>\n",
       "    <tr style=\"text-align: right;\">\n",
       "      <th></th>\n",
       "      <th>uid</th>\n",
       "      <th>revenue</th>\n",
       "    </tr>\n",
       "  </thead>\n",
       "  <tbody>\n",
       "    <tr>\n",
       "      <th>3654</th>\n",
       "      <td>892216461</td>\n",
       "      <td>64298.0</td>\n",
       "    </tr>\n",
       "    <tr>\n",
       "      <th>1179</th>\n",
       "      <td>891383310</td>\n",
       "      <td>63037.0</td>\n",
       "    </tr>\n",
       "    <tr>\n",
       "      <th>4122</th>\n",
       "      <td>892366260</td>\n",
       "      <td>63024.0</td>\n",
       "    </tr>\n",
       "    <tr>\n",
       "      <th>4277</th>\n",
       "      <td>892421277</td>\n",
       "      <td>60333.0</td>\n",
       "    </tr>\n",
       "    <tr>\n",
       "      <th>3173</th>\n",
       "      <td>892069554</td>\n",
       "      <td>59267.0</td>\n",
       "    </tr>\n",
       "    <tr>\n",
       "      <th>...</th>\n",
       "      <td>...</td>\n",
       "      <td>...</td>\n",
       "    </tr>\n",
       "    <tr>\n",
       "      <th>1482</th>\n",
       "      <td>891498273</td>\n",
       "      <td>0.0</td>\n",
       "    </tr>\n",
       "    <tr>\n",
       "      <th>1483</th>\n",
       "      <td>891498711</td>\n",
       "      <td>0.0</td>\n",
       "    </tr>\n",
       "    <tr>\n",
       "      <th>1484</th>\n",
       "      <td>891498903</td>\n",
       "      <td>0.0</td>\n",
       "    </tr>\n",
       "    <tr>\n",
       "      <th>1485</th>\n",
       "      <td>891499305</td>\n",
       "      <td>0.0</td>\n",
       "    </tr>\n",
       "    <tr>\n",
       "      <th>4338</th>\n",
       "      <td>960936960</td>\n",
       "      <td>0.0</td>\n",
       "    </tr>\n",
       "  </tbody>\n",
       "</table>\n",
       "<p>4339 rows × 2 columns</p>\n",
       "</div>"
      ],
      "text/plain": [
       "            uid  revenue\n",
       "3654  892216461  64298.0\n",
       "1179  891383310  63037.0\n",
       "4122  892366260  63024.0\n",
       "4277  892421277  60333.0\n",
       "3173  892069554  59267.0\n",
       "...         ...      ...\n",
       "1482  891498273      0.0\n",
       "1483  891498711      0.0\n",
       "1484  891498903      0.0\n",
       "1485  891499305      0.0\n",
       "4338  960936960      0.0\n",
       "\n",
       "[4339 rows x 2 columns]"
      ]
     },
     "execution_count": 47,
     "metadata": {},
     "output_type": "execute_result"
    }
   ],
   "source": [
    "\n",
    "control_1_reven.sort_values('revenue', ascending = False)"
   ]
  },
  {
   "cell_type": "code",
   "execution_count": 48,
   "metadata": {},
   "outputs": [
    {
     "data": {
      "text/html": [
       "<div>\n",
       "<style scoped>\n",
       "    .dataframe tbody tr th:only-of-type {\n",
       "        vertical-align: middle;\n",
       "    }\n",
       "\n",
       "    .dataframe tbody tr th {\n",
       "        vertical-align: top;\n",
       "    }\n",
       "\n",
       "    .dataframe thead tr th {\n",
       "        text-align: left;\n",
       "    }\n",
       "\n",
       "    .dataframe thead tr:last-of-type th {\n",
       "        text-align: right;\n",
       "    }\n",
       "</style>\n",
       "<table border=\"1\" class=\"dataframe\">\n",
       "  <thead>\n",
       "    <tr>\n",
       "      <th></th>\n",
       "      <th colspan=\"3\" halign=\"left\">total</th>\n",
       "    </tr>\n",
       "    <tr>\n",
       "      <th>Group</th>\n",
       "      <th>C1</th>\n",
       "      <th>C2</th>\n",
       "      <th>T</th>\n",
       "    </tr>\n",
       "    <tr>\n",
       "      <th>product_type</th>\n",
       "      <th></th>\n",
       "      <th></th>\n",
       "      <th></th>\n",
       "    </tr>\n",
       "  </thead>\n",
       "  <tbody>\n",
       "    <tr>\n",
       "      <th>0</th>\n",
       "      <td>0.0</td>\n",
       "      <td>0.0</td>\n",
       "      <td>0.0</td>\n",
       "    </tr>\n",
       "    <tr>\n",
       "      <th>coins</th>\n",
       "      <td>479063.0</td>\n",
       "      <td>402909.0</td>\n",
       "      <td>566176.0</td>\n",
       "    </tr>\n",
       "    <tr>\n",
       "      <th>other_type</th>\n",
       "      <td>146003.0</td>\n",
       "      <td>128739.0</td>\n",
       "      <td>167817.0</td>\n",
       "    </tr>\n",
       "    <tr>\n",
       "      <th>premium_no_trial</th>\n",
       "      <td>707044.0</td>\n",
       "      <td>744809.0</td>\n",
       "      <td>810706.0</td>\n",
       "    </tr>\n",
       "    <tr>\n",
       "      <th>trial_premium</th>\n",
       "      <td>739388.0</td>\n",
       "      <td>643981.0</td>\n",
       "      <td>800202.0</td>\n",
       "    </tr>\n",
       "  </tbody>\n",
       "</table>\n",
       "</div>"
      ],
      "text/plain": [
       "                     total                    \n",
       "Group                   C1        C2         T\n",
       "product_type                                  \n",
       "0                      0.0       0.0       0.0\n",
       "coins             479063.0  402909.0  566176.0\n",
       "other_type        146003.0  128739.0  167817.0\n",
       "premium_no_trial  707044.0  744809.0  810706.0\n",
       "trial_premium     739388.0  643981.0  800202.0"
      ]
     },
     "execution_count": 48,
     "metadata": {},
     "output_type": "execute_result"
    }
   ],
   "source": [
    "#сделаем ее более читаемой\n",
    "revenue_group = pd.pivot_table(revenue_group1,\n",
    "               index=[ \"product_type\"],\n",
    "                columns=[\"Group\"],\n",
    "               values=[\"total\"]\n",
    "              )\n",
    "revenue_group"
   ]
  },
  {
   "cell_type": "code",
   "execution_count": 49,
   "metadata": {},
   "outputs": [
    {
     "data": {
      "text/plain": [
       "<matplotlib.legend.Legend at 0x7ff6140b6a58>"
      ]
     },
     "execution_count": 49,
     "metadata": {},
     "output_type": "execute_result"
    },
    {
     "data": {
      "image/png": "[encoded data removed]",
      "text/plain": [
       "<Figure size 936x504 with 1 Axes>"
      ]
     },
     "metadata": {},
     "output_type": "display_data"
    }
   ],
   "source": [
    "sns.set(rc={'figure.figsize': (13, 7)})\n",
    "sns.barplot(data = revenue_group1, x = 'product_type', y = 'total', hue = 'Group')\n",
    "plt.title('Revenue source')\n",
    "plt.ylabel('revenue')\n",
    "plt.xlabel('')\n",
    "plt.legend(title='Group')"
   ]
  },
  {
   "cell_type": "markdown",
   "metadata": {},
   "source": [
    "По графику можно заметить, что выручка от продажи premium_no_trial увеличилась в тестовой группе.  Предположительно изза увеличения стоимости этого продукта. Проверим это далее.  Увеличение выручки произошло по всем категориям в тестовой группе."
   ]
  },
  {
   "cell_type": "code",
   "execution_count": 50,
   "metadata": {},
   "outputs": [
    {
     "data": {
      "text/html": [
       "<div>\n",
       "<style scoped>\n",
       "    .dataframe tbody tr th:only-of-type {\n",
       "        vertical-align: middle;\n",
       "    }\n",
       "\n",
       "    .dataframe tbody tr th {\n",
       "        vertical-align: top;\n",
       "    }\n",
       "\n",
       "    .dataframe thead th {\n",
       "        text-align: right;\n",
       "    }\n",
       "</style>\n",
       "<table border=\"1\" class=\"dataframe\">\n",
       "  <thead>\n",
       "    <tr style=\"text-align: right;\">\n",
       "      <th></th>\n",
       "      <th>Group</th>\n",
       "      <th>product_type</th>\n",
       "      <th>total</th>\n",
       "    </tr>\n",
       "  </thead>\n",
       "  <tbody>\n",
       "    <tr>\n",
       "      <th>3</th>\n",
       "      <td>C1</td>\n",
       "      <td>premium_no_trial</td>\n",
       "      <td>707044.0</td>\n",
       "    </tr>\n",
       "    <tr>\n",
       "      <th>8</th>\n",
       "      <td>C2</td>\n",
       "      <td>premium_no_trial</td>\n",
       "      <td>744809.0</td>\n",
       "    </tr>\n",
       "    <tr>\n",
       "      <th>13</th>\n",
       "      <td>T</td>\n",
       "      <td>premium_no_trial</td>\n",
       "      <td>810706.0</td>\n",
       "    </tr>\n",
       "  </tbody>\n",
       "</table>\n",
       "</div>"
      ],
      "text/plain": [
       "   Group      product_type     total\n",
       "3     C1  premium_no_trial  707044.0\n",
       "8     C2  premium_no_trial  744809.0\n",
       "13     T  premium_no_trial  810706.0"
      ]
     },
     "execution_count": 50,
     "metadata": {},
     "output_type": "execute_result"
    }
   ],
   "source": [
    "#Поскольку нас интересует продукт премиум, выберем только этот тип продукта\n",
    "price_premium = revenue_group1.query(\"product_type == 'premium_no_trial'\")\n",
    "price_premium"
   ]
  },
  {
   "cell_type": "code",
   "execution_count": 51,
   "metadata": {},
   "outputs": [],
   "source": [
    "# Считаем количество покупок\n",
    "num_buys = all_together.query(\"product_type == 'premium_no_trial'\").groupby('Group', as_index = False)\\\n",
    ".agg({'revenue':'count'})\\\n",
    ".rename(columns={'revenue': 'num_buys'})"
   ]
  },
  {
   "cell_type": "code",
   "execution_count": 52,
   "metadata": {},
   "outputs": [],
   "source": [
    "\n",
    "price_premium = price_premium.merge(num_buys, on = 'Group')"
   ]
  },
  {
   "cell_type": "code",
   "execution_count": 53,
   "metadata": {},
   "outputs": [
    {
     "data": {
      "text/html": [
       "<div>\n",
       "<style scoped>\n",
       "    .dataframe tbody tr th:only-of-type {\n",
       "        vertical-align: middle;\n",
       "    }\n",
       "\n",
       "    .dataframe tbody tr th {\n",
       "        vertical-align: top;\n",
       "    }\n",
       "\n",
       "    .dataframe thead th {\n",
       "        text-align: right;\n",
       "    }\n",
       "</style>\n",
       "<table border=\"1\" class=\"dataframe\">\n",
       "  <thead>\n",
       "    <tr style=\"text-align: right;\">\n",
       "      <th></th>\n",
       "      <th>Group</th>\n",
       "      <th>product_type</th>\n",
       "      <th>total</th>\n",
       "      <th>num_buys</th>\n",
       "      <th>price</th>\n",
       "    </tr>\n",
       "  </thead>\n",
       "  <tbody>\n",
       "    <tr>\n",
       "      <th>0</th>\n",
       "      <td>C1</td>\n",
       "      <td>premium_no_trial</td>\n",
       "      <td>707044.0</td>\n",
       "      <td>103</td>\n",
       "      <td>6864.504854</td>\n",
       "    </tr>\n",
       "    <tr>\n",
       "      <th>1</th>\n",
       "      <td>C2</td>\n",
       "      <td>premium_no_trial</td>\n",
       "      <td>744809.0</td>\n",
       "      <td>107</td>\n",
       "      <td>6960.831776</td>\n",
       "    </tr>\n",
       "    <tr>\n",
       "      <th>2</th>\n",
       "      <td>T</td>\n",
       "      <td>premium_no_trial</td>\n",
       "      <td>810706.0</td>\n",
       "      <td>76</td>\n",
       "      <td>10667.184211</td>\n",
       "    </tr>\n",
       "  </tbody>\n",
       "</table>\n",
       "</div>"
      ],
      "text/plain": [
       "  Group      product_type     total  num_buys         price\n",
       "0    C1  premium_no_trial  707044.0       103   6864.504854\n",
       "1    C2  premium_no_trial  744809.0       107   6960.831776\n",
       "2     T  premium_no_trial  810706.0        76  10667.184211"
      ]
     },
     "execution_count": 53,
     "metadata": {},
     "output_type": "execute_result"
    }
   ],
   "source": [
    "# Присоединяем колонку price, разделив выручку по продукту на количество покупок. Имеется ввиду разовая цена,\n",
    "#которую пользователь заплатил за премиум подписку\n",
    "price_premium['price'] = price_premium.total/price_premium.num_buys\n",
    "price_premium"
   ]
  },
  {
   "cell_type": "markdown",
   "metadata": {},
   "source": [
    "Из таблицы price_premium теперь можно точно сказать, что в тестовой группе в среднем цены на премиум версию подняли.      Количество покупок снизилось, однако выручка выросла. Посмотрим, можно ли определить в каких странах произошло повышение"
   ]
  },
  {
   "cell_type": "code",
   "execution_count": 54,
   "metadata": {},
   "outputs": [],
   "source": [
    "premium_country = all_together.query(\"product_type == 'premium_no_trial'\")\\\n",
    "            .groupby(['country','Group'], as_index = False)\\\n",
    "             .agg({'revenue':'sum'})\n",
    "#создадим датафрейм premium_country, отобрав только строки, с платежами за премиум версию(посколько это \n",
    "#был один из  критериев АБ теста) и сгруппируем по странам\n"
   ]
  },
  {
   "cell_type": "code",
   "execution_count": 55,
   "metadata": {},
   "outputs": [],
   "source": [
    "num_buy_prem = all_together.query(\"product_type == 'premium_no_trial'\")\\\n",
    ".groupby(['country','Group'], as_index = False)\\\n",
    ".agg({'revenue':'count'})\\\n",
    ".rename(columns={'revenue': 'num_buys'})\n",
    "premium_country = num_buy_prem.join(premium_country.revenue).fillna(0)"
   ]
  },
  {
   "cell_type": "code",
   "execution_count": 56,
   "metadata": {},
   "outputs": [
    {
     "data": {
      "text/plain": [
       "<matplotlib.axes._subplots.AxesSubplot at 0x7ff6118f6390>"
      ]
     },
     "execution_count": 56,
     "metadata": {},
     "output_type": "execute_result"
    },
    {
     "data": {
      "image/png": "[encoded data removed]",
      "text/plain": [
       "<Figure size 936x504 with 1 Axes>"
      ]
     },
     "metadata": {},
     "output_type": "display_data"
    }
   ],
   "source": [
    "\n",
    "sns.barplot(data=premium_country, x = 'country', y = 'revenue', hue = 'Group')"
   ]
  },
  {
   "cell_type": "code",
   "execution_count": 57,
   "metadata": {},
   "outputs": [
    {
     "data": {
      "text/html": [
       "<div>\n",
       "<style scoped>\n",
       "    .dataframe tbody tr th:only-of-type {\n",
       "        vertical-align: middle;\n",
       "    }\n",
       "\n",
       "    .dataframe tbody tr th {\n",
       "        vertical-align: top;\n",
       "    }\n",
       "\n",
       "    .dataframe thead th {\n",
       "        text-align: right;\n",
       "    }\n",
       "</style>\n",
       "<table border=\"1\" class=\"dataframe\">\n",
       "  <thead>\n",
       "    <tr style=\"text-align: right;\">\n",
       "      <th></th>\n",
       "      <th>country</th>\n",
       "      <th>Group</th>\n",
       "      <th>num_buys</th>\n",
       "      <th>revenue</th>\n",
       "      <th>price</th>\n",
       "    </tr>\n",
       "  </thead>\n",
       "  <tbody>\n",
       "    <tr>\n",
       "      <th>0</th>\n",
       "      <td>Argentina</td>\n",
       "      <td>C1</td>\n",
       "      <td>5</td>\n",
       "      <td>30446.0</td>\n",
       "      <td>6089.200000</td>\n",
       "    </tr>\n",
       "    <tr>\n",
       "      <th>1</th>\n",
       "      <td>Argentina</td>\n",
       "      <td>C2</td>\n",
       "      <td>7</td>\n",
       "      <td>50245.0</td>\n",
       "      <td>7177.857143</td>\n",
       "    </tr>\n",
       "    <tr>\n",
       "      <th>2</th>\n",
       "      <td>Argentina</td>\n",
       "      <td>T</td>\n",
       "      <td>5</td>\n",
       "      <td>49413.0</td>\n",
       "      <td>9882.600000</td>\n",
       "    </tr>\n",
       "    <tr>\n",
       "      <th>3</th>\n",
       "      <td>Australia</td>\n",
       "      <td>C1</td>\n",
       "      <td>1</td>\n",
       "      <td>3588.0</td>\n",
       "      <td>3588.000000</td>\n",
       "    </tr>\n",
       "    <tr>\n",
       "      <th>4</th>\n",
       "      <td>Australia</td>\n",
       "      <td>C2</td>\n",
       "      <td>2</td>\n",
       "      <td>9438.0</td>\n",
       "      <td>4719.000000</td>\n",
       "    </tr>\n",
       "  </tbody>\n",
       "</table>\n",
       "</div>"
      ],
      "text/plain": [
       "     country Group  num_buys  revenue        price\n",
       "0  Argentina    C1         5  30446.0  6089.200000\n",
       "1  Argentina    C2         7  50245.0  7177.857143\n",
       "2  Argentina     T         5  49413.0  9882.600000\n",
       "3  Australia    C1         1   3588.0  3588.000000\n",
       "4  Australia    C2         2   9438.0  4719.000000"
      ]
     },
     "execution_count": 57,
     "metadata": {},
     "output_type": "execute_result"
    }
   ],
   "source": [
    "premium_country['price'] = premium_country.revenue/num_buy_prem.num_buys\n",
    "\n",
    "premium_country.head()"
   ]
  },
  {
   "cell_type": "markdown",
   "metadata": {},
   "source": [
    "Из таблицы выше premium_country мы видим в каких странах изменеие цены повлияло на объем покупок и выручку. Выручка по премиум продукту выросла заметно в Испании(за счет увеличения стоимости), Канаде(увеличение числа покупок), и Арабских эмиратах( увеличение стоимости)"
   ]
  },
  {
   "cell_type": "code",
   "execution_count": 58,
   "metadata": {},
   "outputs": [
    {
     "data": {
      "text/html": [
       "<div>\n",
       "<style scoped>\n",
       "    .dataframe tbody tr th:only-of-type {\n",
       "        vertical-align: middle;\n",
       "    }\n",
       "\n",
       "    .dataframe tbody tr th {\n",
       "        vertical-align: top;\n",
       "    }\n",
       "\n",
       "    .dataframe thead tr th {\n",
       "        text-align: left;\n",
       "    }\n",
       "\n",
       "    .dataframe thead tr:last-of-type th {\n",
       "        text-align: right;\n",
       "    }\n",
       "</style>\n",
       "<table border=\"1\" class=\"dataframe\">\n",
       "  <thead>\n",
       "    <tr>\n",
       "      <th></th>\n",
       "      <th colspan=\"3\" halign=\"left\">price</th>\n",
       "    </tr>\n",
       "    <tr>\n",
       "      <th>Group</th>\n",
       "      <th>C1</th>\n",
       "      <th>C2</th>\n",
       "      <th>T</th>\n",
       "    </tr>\n",
       "    <tr>\n",
       "      <th>country</th>\n",
       "      <th></th>\n",
       "      <th></th>\n",
       "      <th></th>\n",
       "    </tr>\n",
       "  </thead>\n",
       "  <tbody>\n",
       "    <tr>\n",
       "      <th>Argentina</th>\n",
       "      <td>6089.200000</td>\n",
       "      <td>7177.857143</td>\n",
       "      <td>9882.600000</td>\n",
       "    </tr>\n",
       "    <tr>\n",
       "      <th>Australia</th>\n",
       "      <td>3588.000000</td>\n",
       "      <td>4719.000000</td>\n",
       "      <td>12597.000000</td>\n",
       "    </tr>\n",
       "    <tr>\n",
       "      <th>Austria</th>\n",
       "      <td>0.000000</td>\n",
       "      <td>4056.000000</td>\n",
       "      <td>0.000000</td>\n",
       "    </tr>\n",
       "    <tr>\n",
       "      <th>Belgium</th>\n",
       "      <td>3042.000000</td>\n",
       "      <td>6539.000000</td>\n",
       "      <td>12597.000000</td>\n",
       "    </tr>\n",
       "    <tr>\n",
       "      <th>Canada</th>\n",
       "      <td>5209.750000</td>\n",
       "      <td>3549.000000</td>\n",
       "      <td>6119.750000</td>\n",
       "    </tr>\n",
       "    <tr>\n",
       "      <th>Chile</th>\n",
       "      <td>5905.250000</td>\n",
       "      <td>5772.000000</td>\n",
       "      <td>8181.333333</td>\n",
       "    </tr>\n",
       "    <tr>\n",
       "      <th>France</th>\n",
       "      <td>5514.166667</td>\n",
       "      <td>5456.750000</td>\n",
       "      <td>6677.666667</td>\n",
       "    </tr>\n",
       "    <tr>\n",
       "      <th>Germany</th>\n",
       "      <td>5053.750000</td>\n",
       "      <td>6833.666667</td>\n",
       "      <td>5167.500000</td>\n",
       "    </tr>\n",
       "    <tr>\n",
       "      <th>India</th>\n",
       "      <td>4810.000000</td>\n",
       "      <td>0.000000</td>\n",
       "      <td>0.000000</td>\n",
       "    </tr>\n",
       "    <tr>\n",
       "      <th>Israel</th>\n",
       "      <td>5978.700000</td>\n",
       "      <td>6292.000000</td>\n",
       "      <td>12597.000000</td>\n",
       "    </tr>\n",
       "    <tr>\n",
       "      <th>Italy</th>\n",
       "      <td>4768.214286</td>\n",
       "      <td>6405.750000</td>\n",
       "      <td>7400.250000</td>\n",
       "    </tr>\n",
       "    <tr>\n",
       "      <th>Latvia</th>\n",
       "      <td>0.000000</td>\n",
       "      <td>0.000000</td>\n",
       "      <td>6357.000000</td>\n",
       "    </tr>\n",
       "    <tr>\n",
       "      <th>Mexico</th>\n",
       "      <td>0.000000</td>\n",
       "      <td>0.000000</td>\n",
       "      <td>6214.000000</td>\n",
       "    </tr>\n",
       "    <tr>\n",
       "      <th>Portugal</th>\n",
       "      <td>6292.000000</td>\n",
       "      <td>4867.200000</td>\n",
       "      <td>0.000000</td>\n",
       "    </tr>\n",
       "    <tr>\n",
       "      <th>Spain</th>\n",
       "      <td>6669.000000</td>\n",
       "      <td>11066.545455</td>\n",
       "      <td>24918.833333</td>\n",
       "    </tr>\n",
       "    <tr>\n",
       "      <th>Switzerland</th>\n",
       "      <td>4680.000000</td>\n",
       "      <td>5282.333333</td>\n",
       "      <td>0.000000</td>\n",
       "    </tr>\n",
       "    <tr>\n",
       "      <th>Turkey</th>\n",
       "      <td>23361.000000</td>\n",
       "      <td>0.000000</td>\n",
       "      <td>3614.000000</td>\n",
       "    </tr>\n",
       "    <tr>\n",
       "      <th>Ukraine</th>\n",
       "      <td>0.000000</td>\n",
       "      <td>6357.000000</td>\n",
       "      <td>0.000000</td>\n",
       "    </tr>\n",
       "    <tr>\n",
       "      <th>United Arab Emirates</th>\n",
       "      <td>5247.666667</td>\n",
       "      <td>24823.500000</td>\n",
       "      <td>23422.285714</td>\n",
       "    </tr>\n",
       "    <tr>\n",
       "      <th>United Kingdom (Great Britain)</th>\n",
       "      <td>6500.000000</td>\n",
       "      <td>5326.454545</td>\n",
       "      <td>6466.200000</td>\n",
       "    </tr>\n",
       "    <tr>\n",
       "      <th>United States of America</th>\n",
       "      <td>8582.785714</td>\n",
       "      <td>5505.303030</td>\n",
       "      <td>8287.500000</td>\n",
       "    </tr>\n",
       "  </tbody>\n",
       "</table>\n",
       "</div>"
      ],
      "text/plain": [
       "                                       price                            \n",
       "Group                                     C1            C2             T\n",
       "country                                                                 \n",
       "Argentina                        6089.200000   7177.857143   9882.600000\n",
       "Australia                        3588.000000   4719.000000  12597.000000\n",
       "Austria                             0.000000   4056.000000      0.000000\n",
       "Belgium                          3042.000000   6539.000000  12597.000000\n",
       "Canada                           5209.750000   3549.000000   6119.750000\n",
       "Chile                            5905.250000   5772.000000   8181.333333\n",
       "France                           5514.166667   5456.750000   6677.666667\n",
       "Germany                          5053.750000   6833.666667   5167.500000\n",
       "India                            4810.000000      0.000000      0.000000\n",
       "Israel                           5978.700000   6292.000000  12597.000000\n",
       "Italy                            4768.214286   6405.750000   7400.250000\n",
       "Latvia                              0.000000      0.000000   6357.000000\n",
       "Mexico                              0.000000      0.000000   6214.000000\n",
       "Portugal                         6292.000000   4867.200000      0.000000\n",
       "Spain                            6669.000000  11066.545455  24918.833333\n",
       "Switzerland                      4680.000000   5282.333333      0.000000\n",
       "Turkey                          23361.000000      0.000000   3614.000000\n",
       "Ukraine                             0.000000   6357.000000      0.000000\n",
       "United Arab Emirates             5247.666667  24823.500000  23422.285714\n",
       "United Kingdom (Great Britain)   6500.000000   5326.454545   6466.200000\n",
       "United States of America         8582.785714   5505.303030   8287.500000"
      ]
     },
     "execution_count": 58,
     "metadata": {},
     "output_type": "execute_result"
    }
   ],
   "source": [
    "pivot_premium_price_countries = pd.pivot_table(premium_country,\n",
    "               index=[ \"country\"],\n",
    "                columns=[\"Group\"],\n",
    "               values=[\"price\"]\n",
    "              ).fillna(0)\n",
    "pivot_premium_price_countries #сопоставление цен по группам и странам"
   ]
  },
  {
   "cell_type": "markdown",
   "metadata": {},
   "source": [
    "Посчитав стоимость премиум подписки по странам, по тестовой группе можем определить в каких странах было введено увеличение стоимости: **Australia**, **Belgium**, **Israel**, **Spain**, **United Arab Emirates**. Более наглядно отображено в графике ниже. При этом в Арабских Эмиратах стоимость увеличилась уже в группе control_2. К сожалению точно мы не можем определить для каких стран были изменены цены. Есть вероятность того, что пользователь изза новой цены отказался от покупки. Поэтому будем считать усредненно по группе. \n",
    "\n"
   ]
  },
  {
   "cell_type": "code",
   "execution_count": 59,
   "metadata": {},
   "outputs": [
    {
     "data": {
      "text/plain": [
       "<matplotlib.axes._subplots.AxesSubplot at 0x7ff611753198>"
      ]
     },
     "execution_count": 59,
     "metadata": {},
     "output_type": "execute_result"
    },
    {
     "data": {
      "image/png": "[encoded data removed]",
      "text/plain": [
       "<Figure size 1440x504 with 1 Axes>"
      ]
     },
     "metadata": {},
     "output_type": "display_data"
    }
   ],
   "source": [
    "sns.set(rc={'figure.figsize': (20, 7)})\n",
    "sns.barplot(data=premium_country, x = 'country', y = 'price', hue = 'Group')"
   ]
  },
  {
   "cell_type": "markdown",
   "metadata": {},
   "source": [
    "**Некоторые страны** не представлены во всех группах среди категории премиум пользователй. (Австрия, Индия, Латвия, Мексика, Украина, Португалия, Швейцария, Турция). Это как раз может быть связано с поднятием цены и отказом от покупки в данных странах. \n",
    "\n",
    "**Далее в п.2 я посчитаю однородность групп по критерию распределения пользователей по странам.**"
   ]
  },
  {
   "cell_type": "markdown",
   "metadata": {},
   "source": [
    "Попытаемся выявить новых пользователей в тестовой группе и посчитать так же изменеие цен в их категории"
   ]
  },
  {
   "cell_type": "code",
   "execution_count": 60,
   "metadata": {},
   "outputs": [],
   "source": [
    "premium_users= all_together.query(\"product_type == 'premium_no_trial'\")\\\n",
    "            .groupby(['uid','Group'], as_index = False)\\\n",
    "             .agg({'revenue':'sum'})\n",
    "\n",
    "# отберем обладателей премиум подписки, просуммируем выручку"
   ]
  },
  {
   "cell_type": "code",
   "execution_count": 61,
   "metadata": {},
   "outputs": [
    {
     "data": {
      "text/html": [
       "<div>\n",
       "<style scoped>\n",
       "    .dataframe tbody tr th:only-of-type {\n",
       "        vertical-align: middle;\n",
       "    }\n",
       "\n",
       "    .dataframe tbody tr th {\n",
       "        vertical-align: top;\n",
       "    }\n",
       "\n",
       "    .dataframe thead th {\n",
       "        text-align: right;\n",
       "    }\n",
       "</style>\n",
       "<table border=\"1\" class=\"dataframe\">\n",
       "  <thead>\n",
       "    <tr style=\"text-align: right;\">\n",
       "      <th></th>\n",
       "      <th>uid</th>\n",
       "      <th>Group</th>\n",
       "      <th>num_buys</th>\n",
       "      <th>revenue</th>\n",
       "    </tr>\n",
       "  </thead>\n",
       "  <tbody>\n",
       "    <tr>\n",
       "      <th>0</th>\n",
       "      <td>891068079</td>\n",
       "      <td>C2</td>\n",
       "      <td>1</td>\n",
       "      <td>6292.0</td>\n",
       "    </tr>\n",
       "    <tr>\n",
       "      <th>1</th>\n",
       "      <td>891071157</td>\n",
       "      <td>T</td>\n",
       "      <td>1</td>\n",
       "      <td>9100.0</td>\n",
       "    </tr>\n",
       "    <tr>\n",
       "      <th>2</th>\n",
       "      <td>891077727</td>\n",
       "      <td>C2</td>\n",
       "      <td>1</td>\n",
       "      <td>6292.0</td>\n",
       "    </tr>\n",
       "    <tr>\n",
       "      <th>3</th>\n",
       "      <td>891092322</td>\n",
       "      <td>C1</td>\n",
       "      <td>1</td>\n",
       "      <td>5278.0</td>\n",
       "    </tr>\n",
       "    <tr>\n",
       "      <th>4</th>\n",
       "      <td>891112263</td>\n",
       "      <td>C2</td>\n",
       "      <td>1</td>\n",
       "      <td>4680.0</td>\n",
       "    </tr>\n",
       "    <tr>\n",
       "      <th>...</th>\n",
       "      <td>...</td>\n",
       "      <td>...</td>\n",
       "      <td>...</td>\n",
       "      <td>...</td>\n",
       "    </tr>\n",
       "    <tr>\n",
       "      <th>260</th>\n",
       "      <td>892405224</td>\n",
       "      <td>C1</td>\n",
       "      <td>1</td>\n",
       "      <td>6292.0</td>\n",
       "    </tr>\n",
       "    <tr>\n",
       "      <th>261</th>\n",
       "      <td>892421277</td>\n",
       "      <td>C1</td>\n",
       "      <td>1</td>\n",
       "      <td>47723.0</td>\n",
       "    </tr>\n",
       "    <tr>\n",
       "      <th>262</th>\n",
       "      <td>892426491</td>\n",
       "      <td>T</td>\n",
       "      <td>1</td>\n",
       "      <td>12597.0</td>\n",
       "    </tr>\n",
       "    <tr>\n",
       "      <th>263</th>\n",
       "      <td>892434141</td>\n",
       "      <td>T</td>\n",
       "      <td>1</td>\n",
       "      <td>3614.0</td>\n",
       "    </tr>\n",
       "    <tr>\n",
       "      <th>264</th>\n",
       "      <td>892435536</td>\n",
       "      <td>C2</td>\n",
       "      <td>2</td>\n",
       "      <td>9074.0</td>\n",
       "    </tr>\n",
       "  </tbody>\n",
       "</table>\n",
       "<p>265 rows × 4 columns</p>\n",
       "</div>"
      ],
      "text/plain": [
       "           uid Group  num_buys  revenue\n",
       "0    891068079    C2         1   6292.0\n",
       "1    891071157     T         1   9100.0\n",
       "2    891077727    C2         1   6292.0\n",
       "3    891092322    C1         1   5278.0\n",
       "4    891112263    C2         1   4680.0\n",
       "..         ...   ...       ...      ...\n",
       "260  892405224    C1         1   6292.0\n",
       "261  892421277    C1         1  47723.0\n",
       "262  892426491     T         1  12597.0\n",
       "263  892434141     T         1   3614.0\n",
       "264  892435536    C2         2   9074.0\n",
       "\n",
       "[265 rows x 4 columns]"
      ]
     },
     "execution_count": 61,
     "metadata": {},
     "output_type": "execute_result"
    }
   ],
   "source": [
    "num_buy_prem_users = all_together.query(\"product_type == 'premium_no_trial'\")\\\n",
    ".groupby(['uid','Group'], as_index = False)\\\n",
    ".agg({'revenue':'count'})\\\n",
    ".rename(columns={'revenue': 'num_buys'})\n",
    "premium_users = num_buy_prem_users.join(premium_users.revenue).fillna(0)\n",
    "premium_users\n",
    "# добавим колонку с количеством покупок"
   ]
  },
  {
   "cell_type": "code",
   "execution_count": 62,
   "metadata": {},
   "outputs": [
    {
     "data": {
      "text/html": [
       "<div>\n",
       "<style scoped>\n",
       "    .dataframe tbody tr th:only-of-type {\n",
       "        vertical-align: middle;\n",
       "    }\n",
       "\n",
       "    .dataframe tbody tr th {\n",
       "        vertical-align: top;\n",
       "    }\n",
       "\n",
       "    .dataframe thead th {\n",
       "        text-align: right;\n",
       "    }\n",
       "</style>\n",
       "<table border=\"1\" class=\"dataframe\">\n",
       "  <thead>\n",
       "    <tr style=\"text-align: right;\">\n",
       "      <th></th>\n",
       "      <th>uid</th>\n",
       "      <th>Group</th>\n",
       "      <th>num_buys</th>\n",
       "      <th>revenue</th>\n",
       "      <th>price</th>\n",
       "    </tr>\n",
       "  </thead>\n",
       "  <tbody>\n",
       "    <tr>\n",
       "      <th>1</th>\n",
       "      <td>891071157</td>\n",
       "      <td>T</td>\n",
       "      <td>1</td>\n",
       "      <td>9100.0</td>\n",
       "      <td>9100.0</td>\n",
       "    </tr>\n",
       "    <tr>\n",
       "      <th>11</th>\n",
       "      <td>891152790</td>\n",
       "      <td>T</td>\n",
       "      <td>1</td>\n",
       "      <td>12597.0</td>\n",
       "      <td>12597.0</td>\n",
       "    </tr>\n",
       "    <tr>\n",
       "      <th>14</th>\n",
       "      <td>891178380</td>\n",
       "      <td>T</td>\n",
       "      <td>1</td>\n",
       "      <td>113477.0</td>\n",
       "      <td>113477.0</td>\n",
       "    </tr>\n",
       "    <tr>\n",
       "      <th>19</th>\n",
       "      <td>891222282</td>\n",
       "      <td>T</td>\n",
       "      <td>1</td>\n",
       "      <td>6292.0</td>\n",
       "      <td>6292.0</td>\n",
       "    </tr>\n",
       "    <tr>\n",
       "      <th>34</th>\n",
       "      <td>891291531</td>\n",
       "      <td>T</td>\n",
       "      <td>1</td>\n",
       "      <td>4056.0</td>\n",
       "      <td>4056.0</td>\n",
       "    </tr>\n",
       "    <tr>\n",
       "      <th>...</th>\n",
       "      <td>...</td>\n",
       "      <td>...</td>\n",
       "      <td>...</td>\n",
       "      <td>...</td>\n",
       "      <td>...</td>\n",
       "    </tr>\n",
       "    <tr>\n",
       "      <th>254</th>\n",
       "      <td>892370097</td>\n",
       "      <td>T</td>\n",
       "      <td>1</td>\n",
       "      <td>11115.0</td>\n",
       "      <td>11115.0</td>\n",
       "    </tr>\n",
       "    <tr>\n",
       "      <th>257</th>\n",
       "      <td>892390170</td>\n",
       "      <td>T</td>\n",
       "      <td>1</td>\n",
       "      <td>5369.0</td>\n",
       "      <td>5369.0</td>\n",
       "    </tr>\n",
       "    <tr>\n",
       "      <th>259</th>\n",
       "      <td>892405179</td>\n",
       "      <td>T</td>\n",
       "      <td>1</td>\n",
       "      <td>9100.0</td>\n",
       "      <td>9100.0</td>\n",
       "    </tr>\n",
       "    <tr>\n",
       "      <th>262</th>\n",
       "      <td>892426491</td>\n",
       "      <td>T</td>\n",
       "      <td>1</td>\n",
       "      <td>12597.0</td>\n",
       "      <td>12597.0</td>\n",
       "    </tr>\n",
       "    <tr>\n",
       "      <th>263</th>\n",
       "      <td>892434141</td>\n",
       "      <td>T</td>\n",
       "      <td>1</td>\n",
       "      <td>3614.0</td>\n",
       "      <td>3614.0</td>\n",
       "    </tr>\n",
       "  </tbody>\n",
       "</table>\n",
       "<p>67 rows × 5 columns</p>\n",
       "</div>"
      ],
      "text/plain": [
       "           uid Group  num_buys   revenue     price\n",
       "1    891071157     T         1    9100.0    9100.0\n",
       "11   891152790     T         1   12597.0   12597.0\n",
       "14   891178380     T         1  113477.0  113477.0\n",
       "19   891222282     T         1    6292.0    6292.0\n",
       "34   891291531     T         1    4056.0    4056.0\n",
       "..         ...   ...       ...       ...       ...\n",
       "254  892370097     T         1   11115.0   11115.0\n",
       "257  892390170     T         1    5369.0    5369.0\n",
       "259  892405179     T         1    9100.0    9100.0\n",
       "262  892426491     T         1   12597.0   12597.0\n",
       "263  892434141     T         1    3614.0    3614.0\n",
       "\n",
       "[67 rows x 5 columns]"
      ]
     },
     "execution_count": 62,
     "metadata": {},
     "output_type": "execute_result"
    }
   ],
   "source": [
    "premium_users['price'] = premium_users.revenue/num_buy_prem_users.num_buys\n",
    "\n",
    "premium_users_T = premium_users.loc[((premium_users['Group']== 'T'))]\n",
    "premium_users_T"
   ]
  },
  {
   "cell_type": "code",
   "execution_count": 63,
   "metadata": {},
   "outputs": [
    {
     "data": {
      "text/plain": [
       "count        67.000000\n",
       "mean      11346.898010\n",
       "std       18314.900691\n",
       "min        1898.000000\n",
       "25%        6285.500000\n",
       "50%        8164.000000\n",
       "75%       12103.000000\n",
       "max      113477.000000\n",
       "Name: price, dtype: float64"
      ]
     },
     "execution_count": 63,
     "metadata": {},
     "output_type": "execute_result"
    }
   ],
   "source": [
    "\n",
    "premium_users_T.price.describe() #статистика колонки с ценой"
   ]
  },
  {
   "cell_type": "code",
   "execution_count": 64,
   "metadata": {},
   "outputs": [
    {
     "data": {
      "text/html": [
       "<div>\n",
       "<style scoped>\n",
       "    .dataframe tbody tr th:only-of-type {\n",
       "        vertical-align: middle;\n",
       "    }\n",
       "\n",
       "    .dataframe tbody tr th {\n",
       "        vertical-align: top;\n",
       "    }\n",
       "\n",
       "    .dataframe thead th {\n",
       "        text-align: right;\n",
       "    }\n",
       "</style>\n",
       "<table border=\"1\" class=\"dataframe\">\n",
       "  <thead>\n",
       "    <tr style=\"text-align: right;\">\n",
       "      <th></th>\n",
       "      <th>uid</th>\n",
       "      <th>Group</th>\n",
       "      <th>num_buys</th>\n",
       "      <th>revenue</th>\n",
       "      <th>price</th>\n",
       "    </tr>\n",
       "  </thead>\n",
       "  <tbody>\n",
       "    <tr>\n",
       "      <th>11</th>\n",
       "      <td>891152790</td>\n",
       "      <td>T</td>\n",
       "      <td>1</td>\n",
       "      <td>12597.0</td>\n",
       "      <td>12597.0</td>\n",
       "    </tr>\n",
       "    <tr>\n",
       "      <th>14</th>\n",
       "      <td>891178380</td>\n",
       "      <td>T</td>\n",
       "      <td>1</td>\n",
       "      <td>113477.0</td>\n",
       "      <td>113477.0</td>\n",
       "    </tr>\n",
       "    <tr>\n",
       "      <th>51</th>\n",
       "      <td>891346269</td>\n",
       "      <td>T</td>\n",
       "      <td>1</td>\n",
       "      <td>12597.0</td>\n",
       "      <td>12597.0</td>\n",
       "    </tr>\n",
       "    <tr>\n",
       "      <th>64</th>\n",
       "      <td>891406224</td>\n",
       "      <td>T</td>\n",
       "      <td>1</td>\n",
       "      <td>12597.0</td>\n",
       "      <td>12597.0</td>\n",
       "    </tr>\n",
       "    <tr>\n",
       "      <th>71</th>\n",
       "      <td>891448377</td>\n",
       "      <td>T</td>\n",
       "      <td>1</td>\n",
       "      <td>12597.0</td>\n",
       "      <td>12597.0</td>\n",
       "    </tr>\n",
       "    <tr>\n",
       "      <th>79</th>\n",
       "      <td>891499695</td>\n",
       "      <td>T</td>\n",
       "      <td>1</td>\n",
       "      <td>9698.0</td>\n",
       "      <td>9698.0</td>\n",
       "    </tr>\n",
       "    <tr>\n",
       "      <th>86</th>\n",
       "      <td>891545874</td>\n",
       "      <td>T</td>\n",
       "      <td>1</td>\n",
       "      <td>12597.0</td>\n",
       "      <td>12597.0</td>\n",
       "    </tr>\n",
       "    <tr>\n",
       "      <th>91</th>\n",
       "      <td>891589239</td>\n",
       "      <td>T</td>\n",
       "      <td>1</td>\n",
       "      <td>12597.0</td>\n",
       "      <td>12597.0</td>\n",
       "    </tr>\n",
       "    <tr>\n",
       "      <th>94</th>\n",
       "      <td>891605694</td>\n",
       "      <td>T</td>\n",
       "      <td>1</td>\n",
       "      <td>12597.0</td>\n",
       "      <td>12597.0</td>\n",
       "    </tr>\n",
       "    <tr>\n",
       "      <th>122</th>\n",
       "      <td>891806436</td>\n",
       "      <td>T</td>\n",
       "      <td>1</td>\n",
       "      <td>12597.0</td>\n",
       "      <td>12597.0</td>\n",
       "    </tr>\n",
       "    <tr>\n",
       "      <th>133</th>\n",
       "      <td>891861489</td>\n",
       "      <td>T</td>\n",
       "      <td>1</td>\n",
       "      <td>12597.0</td>\n",
       "      <td>12597.0</td>\n",
       "    </tr>\n",
       "    <tr>\n",
       "      <th>137</th>\n",
       "      <td>891867477</td>\n",
       "      <td>T</td>\n",
       "      <td>1</td>\n",
       "      <td>12597.0</td>\n",
       "      <td>12597.0</td>\n",
       "    </tr>\n",
       "    <tr>\n",
       "      <th>139</th>\n",
       "      <td>891882681</td>\n",
       "      <td>T</td>\n",
       "      <td>1</td>\n",
       "      <td>12597.0</td>\n",
       "      <td>12597.0</td>\n",
       "    </tr>\n",
       "    <tr>\n",
       "      <th>160</th>\n",
       "      <td>892018248</td>\n",
       "      <td>T</td>\n",
       "      <td>1</td>\n",
       "      <td>9542.0</td>\n",
       "      <td>9542.0</td>\n",
       "    </tr>\n",
       "    <tr>\n",
       "      <th>164</th>\n",
       "      <td>892038759</td>\n",
       "      <td>T</td>\n",
       "      <td>1</td>\n",
       "      <td>113477.0</td>\n",
       "      <td>113477.0</td>\n",
       "    </tr>\n",
       "    <tr>\n",
       "      <th>167</th>\n",
       "      <td>892050108</td>\n",
       "      <td>T</td>\n",
       "      <td>1</td>\n",
       "      <td>12597.0</td>\n",
       "      <td>12597.0</td>\n",
       "    </tr>\n",
       "    <tr>\n",
       "      <th>208</th>\n",
       "      <td>892186941</td>\n",
       "      <td>T</td>\n",
       "      <td>1</td>\n",
       "      <td>12597.0</td>\n",
       "      <td>12597.0</td>\n",
       "    </tr>\n",
       "    <tr>\n",
       "      <th>228</th>\n",
       "      <td>892264422</td>\n",
       "      <td>T</td>\n",
       "      <td>1</td>\n",
       "      <td>11609.0</td>\n",
       "      <td>11609.0</td>\n",
       "    </tr>\n",
       "    <tr>\n",
       "      <th>247</th>\n",
       "      <td>892347657</td>\n",
       "      <td>T</td>\n",
       "      <td>1</td>\n",
       "      <td>12597.0</td>\n",
       "      <td>12597.0</td>\n",
       "    </tr>\n",
       "    <tr>\n",
       "      <th>254</th>\n",
       "      <td>892370097</td>\n",
       "      <td>T</td>\n",
       "      <td>1</td>\n",
       "      <td>11115.0</td>\n",
       "      <td>11115.0</td>\n",
       "    </tr>\n",
       "    <tr>\n",
       "      <th>262</th>\n",
       "      <td>892426491</td>\n",
       "      <td>T</td>\n",
       "      <td>1</td>\n",
       "      <td>12597.0</td>\n",
       "      <td>12597.0</td>\n",
       "    </tr>\n",
       "  </tbody>\n",
       "</table>\n",
       "</div>"
      ],
      "text/plain": [
       "           uid Group  num_buys   revenue     price\n",
       "11   891152790     T         1   12597.0   12597.0\n",
       "14   891178380     T         1  113477.0  113477.0\n",
       "51   891346269     T         1   12597.0   12597.0\n",
       "64   891406224     T         1   12597.0   12597.0\n",
       "71   891448377     T         1   12597.0   12597.0\n",
       "79   891499695     T         1    9698.0    9698.0\n",
       "86   891545874     T         1   12597.0   12597.0\n",
       "91   891589239     T         1   12597.0   12597.0\n",
       "94   891605694     T         1   12597.0   12597.0\n",
       "122  891806436     T         1   12597.0   12597.0\n",
       "133  891861489     T         1   12597.0   12597.0\n",
       "137  891867477     T         1   12597.0   12597.0\n",
       "139  891882681     T         1   12597.0   12597.0\n",
       "160  892018248     T         1    9542.0    9542.0\n",
       "164  892038759     T         1  113477.0  113477.0\n",
       "167  892050108     T         1   12597.0   12597.0\n",
       "208  892186941     T         1   12597.0   12597.0\n",
       "228  892264422     T         1   11609.0   11609.0\n",
       "247  892347657     T         1   12597.0   12597.0\n",
       "254  892370097     T         1   11115.0   11115.0\n",
       "262  892426491     T         1   12597.0   12597.0"
      ]
     },
     "execution_count": 64,
     "metadata": {},
     "output_type": "execute_result"
    }
   ],
   "source": [
    "premium_users_T = premium_users.loc[((premium_users['Group']== 'T')&(premium_users['price']>=9500))]\n",
    "premium_users_T\n",
    "# отобрала пользователей, которые заплатили цену (я считала среднюю цену учитывая количество покупок)"
   ]
  },
  {
   "cell_type": "code",
   "execution_count": 65,
   "metadata": {},
   "outputs": [],
   "source": [
    "pd.set_option('max_columns', None)"
   ]
  },
  {
   "cell_type": "code",
   "execution_count": 66,
   "metadata": {},
   "outputs": [
    {
     "data": {
      "text/html": [
       "<div>\n",
       "<style scoped>\n",
       "    .dataframe tbody tr th:only-of-type {\n",
       "        vertical-align: middle;\n",
       "    }\n",
       "\n",
       "    .dataframe tbody tr th {\n",
       "        vertical-align: top;\n",
       "    }\n",
       "\n",
       "    .dataframe thead th {\n",
       "        text-align: right;\n",
       "    }\n",
       "</style>\n",
       "<table border=\"1\" class=\"dataframe\">\n",
       "  <thead>\n",
       "    <tr style=\"text-align: right;\">\n",
       "      <th></th>\n",
       "      <th>uid</th>\n",
       "      <th>age</th>\n",
       "      <th>attraction_coeff</th>\n",
       "      <th>coins</th>\n",
       "      <th>country</th>\n",
       "      <th>visit_days</th>\n",
       "      <th>gender</th>\n",
       "      <th>age_filter_start</th>\n",
       "      <th>age_filter_end</th>\n",
       "      <th>views_count</th>\n",
       "      <th>was_premium</th>\n",
       "      <th>is_premium</th>\n",
       "      <th>total_revenue</th>\n",
       "      <th>joined_at</th>\n",
       "      <th>paid_at</th>\n",
       "      <th>revenue</th>\n",
       "      <th>payment_id</th>\n",
       "      <th>from_page</th>\n",
       "      <th>product_type</th>\n",
       "      <th>Group</th>\n",
       "      <th>num_buys</th>\n",
       "      <th>price</th>\n",
       "    </tr>\n",
       "  </thead>\n",
       "  <tbody>\n",
       "    <tr>\n",
       "      <th>0</th>\n",
       "      <td>891152790</td>\n",
       "      <td>29</td>\n",
       "      <td>769</td>\n",
       "      <td>0.0</td>\n",
       "      <td>Spain</td>\n",
       "      <td>2,5,6</td>\n",
       "      <td>1</td>\n",
       "      <td>16</td>\n",
       "      <td>32</td>\n",
       "      <td>13</td>\n",
       "      <td>1.0</td>\n",
       "      <td>1.0</td>\n",
       "      <td>12597</td>\n",
       "      <td>2017-08-11 00:00:00</td>\n",
       "      <td>2017-10-11 00:00:00</td>\n",
       "      <td>12597.0</td>\n",
       "      <td>147.0</td>\n",
       "      <td>dating</td>\n",
       "      <td>premium_no_trial</td>\n",
       "      <td>T</td>\n",
       "      <td>1</td>\n",
       "      <td>12597.0</td>\n",
       "    </tr>\n",
       "    <tr>\n",
       "      <th>1</th>\n",
       "      <td>891589239</td>\n",
       "      <td>21</td>\n",
       "      <td>303</td>\n",
       "      <td>37.0</td>\n",
       "      <td>Italy</td>\n",
       "      <td>1,2,3,4,5,6,7,8,9</td>\n",
       "      <td>1</td>\n",
       "      <td>18</td>\n",
       "      <td>24</td>\n",
       "      <td>181</td>\n",
       "      <td>1.0</td>\n",
       "      <td>1.0</td>\n",
       "      <td>37817</td>\n",
       "      <td>2017-10-31 00:00:00</td>\n",
       "      <td>2017-10-31 00:00:00</td>\n",
       "      <td>12597.0</td>\n",
       "      <td>147.0</td>\n",
       "      <td>popular_users_chat</td>\n",
       "      <td>premium_no_trial</td>\n",
       "      <td>T</td>\n",
       "      <td>1</td>\n",
       "      <td>12597.0</td>\n",
       "    </tr>\n",
       "    <tr>\n",
       "      <th>2</th>\n",
       "      <td>891806436</td>\n",
       "      <td>32</td>\n",
       "      <td>57</td>\n",
       "      <td>0.0</td>\n",
       "      <td>Italy</td>\n",
       "      <td>1,2,3,4,5,6,7,8,9,10,12,13,14,15,16,17,18,19</td>\n",
       "      <td>1</td>\n",
       "      <td>20</td>\n",
       "      <td>35</td>\n",
       "      <td>69</td>\n",
       "      <td>1.0</td>\n",
       "      <td>1.0</td>\n",
       "      <td>12597</td>\n",
       "      <td>2017-10-27 00:00:00</td>\n",
       "      <td>2017-10-30 00:00:00</td>\n",
       "      <td>12597.0</td>\n",
       "      <td>147.0</td>\n",
       "      <td>promo_09</td>\n",
       "      <td>premium_no_trial</td>\n",
       "      <td>T</td>\n",
       "      <td>1</td>\n",
       "      <td>12597.0</td>\n",
       "    </tr>\n",
       "    <tr>\n",
       "      <th>3</th>\n",
       "      <td>891882681</td>\n",
       "      <td>36</td>\n",
       "      <td>408</td>\n",
       "      <td>76.0</td>\n",
       "      <td>Belgium</td>\n",
       "      <td>1,2,3,5,6,7,8,9,10,11,12,14,16,17,18,19,20,21</td>\n",
       "      <td>1</td>\n",
       "      <td>33</td>\n",
       "      <td>39</td>\n",
       "      <td>71</td>\n",
       "      <td>1.0</td>\n",
       "      <td>1.0</td>\n",
       "      <td>20410</td>\n",
       "      <td>2017-10-25 00:00:00</td>\n",
       "      <td>2017-11-11 00:00:00</td>\n",
       "      <td>12597.0</td>\n",
       "      <td>147.0</td>\n",
       "      <td>promo_09</td>\n",
       "      <td>premium_no_trial</td>\n",
       "      <td>T</td>\n",
       "      <td>1</td>\n",
       "      <td>12597.0</td>\n",
       "    </tr>\n",
       "    <tr>\n",
       "      <th>4</th>\n",
       "      <td>891406224</td>\n",
       "      <td>25</td>\n",
       "      <td>212</td>\n",
       "      <td>10.0</td>\n",
       "      <td>Israel</td>\n",
       "      <td>1,2,3,4,5,6,7,8,9,10</td>\n",
       "      <td>1</td>\n",
       "      <td>18</td>\n",
       "      <td>28</td>\n",
       "      <td>80</td>\n",
       "      <td>1.0</td>\n",
       "      <td>1.0</td>\n",
       "      <td>21645</td>\n",
       "      <td>2017-04-11 00:00:00</td>\n",
       "      <td>2017-04-11 00:00:00</td>\n",
       "      <td>12597.0</td>\n",
       "      <td>147.0</td>\n",
       "      <td>autoreply_message</td>\n",
       "      <td>premium_no_trial</td>\n",
       "      <td>T</td>\n",
       "      <td>1</td>\n",
       "      <td>12597.0</td>\n",
       "    </tr>\n",
       "    <tr>\n",
       "      <th>5</th>\n",
       "      <td>891499695</td>\n",
       "      <td>42</td>\n",
       "      <td>850</td>\n",
       "      <td>0.0</td>\n",
       "      <td>United States of America</td>\n",
       "      <td>1,2,3,4,5,6,7,8,9,10,11,12,13</td>\n",
       "      <td>1</td>\n",
       "      <td>19</td>\n",
       "      <td>37</td>\n",
       "      <td>808</td>\n",
       "      <td>1.0</td>\n",
       "      <td>1.0</td>\n",
       "      <td>9698</td>\n",
       "      <td>2017-02-11 00:00:00</td>\n",
       "      <td>2017-11-11 00:00:00</td>\n",
       "      <td>9698.0</td>\n",
       "      <td>147.0</td>\n",
       "      <td>dating</td>\n",
       "      <td>premium_no_trial</td>\n",
       "      <td>T</td>\n",
       "      <td>1</td>\n",
       "      <td>9698.0</td>\n",
       "    </tr>\n",
       "    <tr>\n",
       "      <th>6</th>\n",
       "      <td>891346269</td>\n",
       "      <td>34</td>\n",
       "      <td>204</td>\n",
       "      <td>530.0</td>\n",
       "      <td>Argentina</td>\n",
       "      <td>1,2,3,4,5,6,7,9,10</td>\n",
       "      <td>1</td>\n",
       "      <td>16</td>\n",
       "      <td>37</td>\n",
       "      <td>44</td>\n",
       "      <td>1.0</td>\n",
       "      <td>1.0</td>\n",
       "      <td>75647</td>\n",
       "      <td>2017-05-11 00:00:00</td>\n",
       "      <td>2017-05-11 00:00:00</td>\n",
       "      <td>12597.0</td>\n",
       "      <td>147.0</td>\n",
       "      <td>autoreply_message</td>\n",
       "      <td>premium_no_trial</td>\n",
       "      <td>T</td>\n",
       "      <td>1</td>\n",
       "      <td>12597.0</td>\n",
       "    </tr>\n",
       "    <tr>\n",
       "      <th>7</th>\n",
       "      <td>891867477</td>\n",
       "      <td>21</td>\n",
       "      <td>173</td>\n",
       "      <td>0.0</td>\n",
       "      <td>Italy</td>\n",
       "      <td>1,2,3,4,5,6,7,8,9,10,11,12,13</td>\n",
       "      <td>1</td>\n",
       "      <td>18</td>\n",
       "      <td>24</td>\n",
       "      <td>46</td>\n",
       "      <td>1.0</td>\n",
       "      <td>1.0</td>\n",
       "      <td>12597</td>\n",
       "      <td>2017-10-25 00:00:00</td>\n",
       "      <td>2017-03-11 00:00:00</td>\n",
       "      <td>12597.0</td>\n",
       "      <td>147.0</td>\n",
       "      <td>promo_09</td>\n",
       "      <td>premium_no_trial</td>\n",
       "      <td>T</td>\n",
       "      <td>1</td>\n",
       "      <td>12597.0</td>\n",
       "    </tr>\n",
       "    <tr>\n",
       "      <th>8</th>\n",
       "      <td>892186941</td>\n",
       "      <td>44</td>\n",
       "      <td>552</td>\n",
       "      <td>88.0</td>\n",
       "      <td>United States of America</td>\n",
       "      <td>1,2,3,4,5,6,7,8,9,10,11,12,13,14,15,16,17,18,1...</td>\n",
       "      <td>1</td>\n",
       "      <td>41</td>\n",
       "      <td>47</td>\n",
       "      <td>38</td>\n",
       "      <td>1.0</td>\n",
       "      <td>1.0</td>\n",
       "      <td>25207</td>\n",
       "      <td>2017-10-19 00:00:00</td>\n",
       "      <td>2017-10-19 00:00:00</td>\n",
       "      <td>12597.0</td>\n",
       "      <td>147.0</td>\n",
       "      <td>dating</td>\n",
       "      <td>premium_no_trial</td>\n",
       "      <td>T</td>\n",
       "      <td>1</td>\n",
       "      <td>12597.0</td>\n",
       "    </tr>\n",
       "    <tr>\n",
       "      <th>9</th>\n",
       "      <td>892038759</td>\n",
       "      <td>26</td>\n",
       "      <td>323</td>\n",
       "      <td>3.0</td>\n",
       "      <td>United Arab Emirates</td>\n",
       "      <td>1,2,3,4,5,6,7,8,9,10,11,12,13,14,15,16,17,18,1...</td>\n",
       "      <td>1</td>\n",
       "      <td>23</td>\n",
       "      <td>48</td>\n",
       "      <td>232</td>\n",
       "      <td>1.0</td>\n",
       "      <td>1.0</td>\n",
       "      <td>123565</td>\n",
       "      <td>2017-10-22 00:00:00</td>\n",
       "      <td>2017-10-22 00:00:00</td>\n",
       "      <td>113477.0</td>\n",
       "      <td>147.0</td>\n",
       "      <td>autoreply_message</td>\n",
       "      <td>premium_no_trial</td>\n",
       "      <td>T</td>\n",
       "      <td>1</td>\n",
       "      <td>113477.0</td>\n",
       "    </tr>\n",
       "    <tr>\n",
       "      <th>10</th>\n",
       "      <td>892347657</td>\n",
       "      <td>49</td>\n",
       "      <td>197</td>\n",
       "      <td>0.0</td>\n",
       "      <td>Argentina</td>\n",
       "      <td>1,2,3,4,5,6,7,8,9,10</td>\n",
       "      <td>1</td>\n",
       "      <td>32</td>\n",
       "      <td>42</td>\n",
       "      <td>182</td>\n",
       "      <td>1.0</td>\n",
       "      <td>0.0</td>\n",
       "      <td>12597</td>\n",
       "      <td>2017-10-15 00:00:00</td>\n",
       "      <td>2017-10-15 00:00:00</td>\n",
       "      <td>12597.0</td>\n",
       "      <td>147.0</td>\n",
       "      <td>dating</td>\n",
       "      <td>premium_no_trial</td>\n",
       "      <td>T</td>\n",
       "      <td>1</td>\n",
       "      <td>12597.0</td>\n",
       "    </tr>\n",
       "    <tr>\n",
       "      <th>11</th>\n",
       "      <td>892264422</td>\n",
       "      <td>26</td>\n",
       "      <td>262</td>\n",
       "      <td>0.0</td>\n",
       "      <td>United States of America</td>\n",
       "      <td>1,2,3,4,5,6,7,8,9,10,12,13,14,15,16,17,18,20,2...</td>\n",
       "      <td>1</td>\n",
       "      <td>17</td>\n",
       "      <td>24</td>\n",
       "      <td>103</td>\n",
       "      <td>1.0</td>\n",
       "      <td>0.0</td>\n",
       "      <td>11609</td>\n",
       "      <td>2017-10-17 00:00:00</td>\n",
       "      <td>2017-10-17 00:00:00</td>\n",
       "      <td>11609.0</td>\n",
       "      <td>68.0</td>\n",
       "      <td>none</td>\n",
       "      <td>premium_no_trial</td>\n",
       "      <td>T</td>\n",
       "      <td>1</td>\n",
       "      <td>11609.0</td>\n",
       "    </tr>\n",
       "    <tr>\n",
       "      <th>12</th>\n",
       "      <td>892018248</td>\n",
       "      <td>22</td>\n",
       "      <td>114</td>\n",
       "      <td>16.0</td>\n",
       "      <td>United Kingdom (Great Britain)</td>\n",
       "      <td>2,3,4,5,6,7,8,9,10,11,12,13,14,16,17,18,20,21,23</td>\n",
       "      <td>1</td>\n",
       "      <td>19</td>\n",
       "      <td>25</td>\n",
       "      <td>87</td>\n",
       "      <td>1.0</td>\n",
       "      <td>1.0</td>\n",
       "      <td>15574</td>\n",
       "      <td>2017-10-22 00:00:00</td>\n",
       "      <td>2017-10-28 00:00:00</td>\n",
       "      <td>9542.0</td>\n",
       "      <td>147.0</td>\n",
       "      <td>delivery_vip</td>\n",
       "      <td>premium_no_trial</td>\n",
       "      <td>T</td>\n",
       "      <td>1</td>\n",
       "      <td>9542.0</td>\n",
       "    </tr>\n",
       "    <tr>\n",
       "      <th>13</th>\n",
       "      <td>892050108</td>\n",
       "      <td>51</td>\n",
       "      <td>239</td>\n",
       "      <td>6.0</td>\n",
       "      <td>Israel</td>\n",
       "      <td>1,2,3,4,5,6,7,9</td>\n",
       "      <td>1</td>\n",
       "      <td>37</td>\n",
       "      <td>42</td>\n",
       "      <td>364</td>\n",
       "      <td>1.0</td>\n",
       "      <td>1.0</td>\n",
       "      <td>16380</td>\n",
       "      <td>2017-10-22 00:00:00</td>\n",
       "      <td>2017-10-23 00:00:00</td>\n",
       "      <td>12597.0</td>\n",
       "      <td>147.0</td>\n",
       "      <td>left_sidebar_menu</td>\n",
       "      <td>premium_no_trial</td>\n",
       "      <td>T</td>\n",
       "      <td>1</td>\n",
       "      <td>12597.0</td>\n",
       "    </tr>\n",
       "    <tr>\n",
       "      <th>14</th>\n",
       "      <td>891448377</td>\n",
       "      <td>51</td>\n",
       "      <td>605</td>\n",
       "      <td>0.0</td>\n",
       "      <td>Canada</td>\n",
       "      <td>3,4,5,6,7,9,10,11,12</td>\n",
       "      <td>1</td>\n",
       "      <td>16</td>\n",
       "      <td>74</td>\n",
       "      <td>195</td>\n",
       "      <td>1.0</td>\n",
       "      <td>1.0</td>\n",
       "      <td>12597</td>\n",
       "      <td>2017-03-11 00:00:00</td>\n",
       "      <td>2017-03-11 00:00:00</td>\n",
       "      <td>12597.0</td>\n",
       "      <td>147.0</td>\n",
       "      <td>dating</td>\n",
       "      <td>premium_no_trial</td>\n",
       "      <td>T</td>\n",
       "      <td>1</td>\n",
       "      <td>12597.0</td>\n",
       "    </tr>\n",
       "    <tr>\n",
       "      <th>15</th>\n",
       "      <td>892370097</td>\n",
       "      <td>48</td>\n",
       "      <td>197</td>\n",
       "      <td>0.0</td>\n",
       "      <td>United States of America</td>\n",
       "      <td>1,2,3,5,6,7,8,10,13</td>\n",
       "      <td>1</td>\n",
       "      <td>34</td>\n",
       "      <td>38</td>\n",
       "      <td>137</td>\n",
       "      <td>1.0</td>\n",
       "      <td>0.0</td>\n",
       "      <td>11115</td>\n",
       "      <td>2017-10-15 00:00:00</td>\n",
       "      <td>2017-10-16 00:00:00</td>\n",
       "      <td>11115.0</td>\n",
       "      <td>68.0</td>\n",
       "      <td>none</td>\n",
       "      <td>premium_no_trial</td>\n",
       "      <td>T</td>\n",
       "      <td>1</td>\n",
       "      <td>11115.0</td>\n",
       "    </tr>\n",
       "    <tr>\n",
       "      <th>16</th>\n",
       "      <td>891861489</td>\n",
       "      <td>29</td>\n",
       "      <td>352</td>\n",
       "      <td>0.0</td>\n",
       "      <td>Australia</td>\n",
       "      <td>1,2,3,4,5,6,7,8,9,10,11,12,14,15,17</td>\n",
       "      <td>1</td>\n",
       "      <td>26</td>\n",
       "      <td>32</td>\n",
       "      <td>17</td>\n",
       "      <td>1.0</td>\n",
       "      <td>1.0</td>\n",
       "      <td>12597</td>\n",
       "      <td>2017-10-26 00:00:00</td>\n",
       "      <td>2017-04-11 00:00:00</td>\n",
       "      <td>12597.0</td>\n",
       "      <td>147.0</td>\n",
       "      <td>promo_09</td>\n",
       "      <td>premium_no_trial</td>\n",
       "      <td>T</td>\n",
       "      <td>1</td>\n",
       "      <td>12597.0</td>\n",
       "    </tr>\n",
       "    <tr>\n",
       "      <th>17</th>\n",
       "      <td>892426491</td>\n",
       "      <td>48</td>\n",
       "      <td>625</td>\n",
       "      <td>0.0</td>\n",
       "      <td>United States of America</td>\n",
       "      <td>1,2,3</td>\n",
       "      <td>1</td>\n",
       "      <td>25</td>\n",
       "      <td>61</td>\n",
       "      <td>56</td>\n",
       "      <td>1.0</td>\n",
       "      <td>0.0</td>\n",
       "      <td>12597</td>\n",
       "      <td>2017-10-14 00:00:00</td>\n",
       "      <td>2017-10-15 00:00:00</td>\n",
       "      <td>12597.0</td>\n",
       "      <td>147.0</td>\n",
       "      <td>autoreply_message</td>\n",
       "      <td>premium_no_trial</td>\n",
       "      <td>T</td>\n",
       "      <td>1</td>\n",
       "      <td>12597.0</td>\n",
       "    </tr>\n",
       "    <tr>\n",
       "      <th>18</th>\n",
       "      <td>891605694</td>\n",
       "      <td>36</td>\n",
       "      <td>157</td>\n",
       "      <td>0.0</td>\n",
       "      <td>Argentina</td>\n",
       "      <td>1,2,3,4,5,6,7,8,9,10,11,12,13,14,15</td>\n",
       "      <td>1</td>\n",
       "      <td>23</td>\n",
       "      <td>38</td>\n",
       "      <td>19</td>\n",
       "      <td>1.0</td>\n",
       "      <td>1.0</td>\n",
       "      <td>12597</td>\n",
       "      <td>2017-10-31 00:00:00</td>\n",
       "      <td>2017-11-15 00:00:00</td>\n",
       "      <td>12597.0</td>\n",
       "      <td>147.0</td>\n",
       "      <td>popular_users_block</td>\n",
       "      <td>premium_no_trial</td>\n",
       "      <td>T</td>\n",
       "      <td>1</td>\n",
       "      <td>12597.0</td>\n",
       "    </tr>\n",
       "    <tr>\n",
       "      <th>19</th>\n",
       "      <td>891545874</td>\n",
       "      <td>34</td>\n",
       "      <td>641</td>\n",
       "      <td>0.0</td>\n",
       "      <td>United States of America</td>\n",
       "      <td>1,2,3,4,5,6,7,8,9,10,11,12,14</td>\n",
       "      <td>1</td>\n",
       "      <td>31</td>\n",
       "      <td>37</td>\n",
       "      <td>53</td>\n",
       "      <td>1.0</td>\n",
       "      <td>1.0</td>\n",
       "      <td>12597</td>\n",
       "      <td>2017-01-11 00:00:00</td>\n",
       "      <td>2017-02-11 00:00:00</td>\n",
       "      <td>12597.0</td>\n",
       "      <td>147.0</td>\n",
       "      <td>send_message</td>\n",
       "      <td>premium_no_trial</td>\n",
       "      <td>T</td>\n",
       "      <td>1</td>\n",
       "      <td>12597.0</td>\n",
       "    </tr>\n",
       "    <tr>\n",
       "      <th>20</th>\n",
       "      <td>891178380</td>\n",
       "      <td>42</td>\n",
       "      <td>275</td>\n",
       "      <td>85.0</td>\n",
       "      <td>Spain</td>\n",
       "      <td>1,2,4,5,6,7</td>\n",
       "      <td>1</td>\n",
       "      <td>26</td>\n",
       "      <td>36</td>\n",
       "      <td>287</td>\n",
       "      <td>1.0</td>\n",
       "      <td>1.0</td>\n",
       "      <td>129870</td>\n",
       "      <td>2017-08-11 00:00:00</td>\n",
       "      <td>2017-09-11 00:00:00</td>\n",
       "      <td>113477.0</td>\n",
       "      <td>147.0</td>\n",
       "      <td>promo_09</td>\n",
       "      <td>premium_no_trial</td>\n",
       "      <td>T</td>\n",
       "      <td>1</td>\n",
       "      <td>113477.0</td>\n",
       "    </tr>\n",
       "  </tbody>\n",
       "</table>\n",
       "</div>"
      ],
      "text/plain": [
       "          uid  age  attraction_coeff  coins                         country  \\\n",
       "0   891152790   29               769    0.0                           Spain   \n",
       "1   891589239   21               303   37.0                           Italy   \n",
       "2   891806436   32                57    0.0                           Italy   \n",
       "3   891882681   36               408   76.0                         Belgium   \n",
       "4   891406224   25               212   10.0                          Israel   \n",
       "5   891499695   42               850    0.0        United States of America   \n",
       "6   891346269   34               204  530.0                       Argentina   \n",
       "7   891867477   21               173    0.0                           Italy   \n",
       "8   892186941   44               552   88.0        United States of America   \n",
       "9   892038759   26               323    3.0            United Arab Emirates   \n",
       "10  892347657   49               197    0.0                       Argentina   \n",
       "11  892264422   26               262    0.0        United States of America   \n",
       "12  892018248   22               114   16.0  United Kingdom (Great Britain)   \n",
       "13  892050108   51               239    6.0                          Israel   \n",
       "14  891448377   51               605    0.0                          Canada   \n",
       "15  892370097   48               197    0.0        United States of America   \n",
       "16  891861489   29               352    0.0                       Australia   \n",
       "17  892426491   48               625    0.0        United States of America   \n",
       "18  891605694   36               157    0.0                       Argentina   \n",
       "19  891545874   34               641    0.0        United States of America   \n",
       "20  891178380   42               275   85.0                           Spain   \n",
       "\n",
       "                                           visit_days  gender  \\\n",
       "0                                               2,5,6       1   \n",
       "1                                   1,2,3,4,5,6,7,8,9       1   \n",
       "2        1,2,3,4,5,6,7,8,9,10,12,13,14,15,16,17,18,19       1   \n",
       "3       1,2,3,5,6,7,8,9,10,11,12,14,16,17,18,19,20,21       1   \n",
       "4                                1,2,3,4,5,6,7,8,9,10       1   \n",
       "5                       1,2,3,4,5,6,7,8,9,10,11,12,13       1   \n",
       "6                                  1,2,3,4,5,6,7,9,10       1   \n",
       "7                       1,2,3,4,5,6,7,8,9,10,11,12,13       1   \n",
       "8   1,2,3,4,5,6,7,8,9,10,11,12,13,14,15,16,17,18,1...       1   \n",
       "9   1,2,3,4,5,6,7,8,9,10,11,12,13,14,15,16,17,18,1...       1   \n",
       "10                               1,2,3,4,5,6,7,8,9,10       1   \n",
       "11  1,2,3,4,5,6,7,8,9,10,12,13,14,15,16,17,18,20,2...       1   \n",
       "12   2,3,4,5,6,7,8,9,10,11,12,13,14,16,17,18,20,21,23       1   \n",
       "13                                    1,2,3,4,5,6,7,9       1   \n",
       "14                               3,4,5,6,7,9,10,11,12       1   \n",
       "15                                1,2,3,5,6,7,8,10,13       1   \n",
       "16                1,2,3,4,5,6,7,8,9,10,11,12,14,15,17       1   \n",
       "17                                              1,2,3       1   \n",
       "18                1,2,3,4,5,6,7,8,9,10,11,12,13,14,15       1   \n",
       "19                      1,2,3,4,5,6,7,8,9,10,11,12,14       1   \n",
       "20                                        1,2,4,5,6,7       1   \n",
       "\n",
       "    age_filter_start  age_filter_end  views_count  was_premium  is_premium  \\\n",
       "0                 16              32           13          1.0         1.0   \n",
       "1                 18              24          181          1.0         1.0   \n",
       "2                 20              35           69          1.0         1.0   \n",
       "3                 33              39           71          1.0         1.0   \n",
       "4                 18              28           80          1.0         1.0   \n",
       "5                 19              37          808          1.0         1.0   \n",
       "6                 16              37           44          1.0         1.0   \n",
       "7                 18              24           46          1.0         1.0   \n",
       "8                 41              47           38          1.0         1.0   \n",
       "9                 23              48          232          1.0         1.0   \n",
       "10                32              42          182          1.0         0.0   \n",
       "11                17              24          103          1.0         0.0   \n",
       "12                19              25           87          1.0         1.0   \n",
       "13                37              42          364          1.0         1.0   \n",
       "14                16              74          195          1.0         1.0   \n",
       "15                34              38          137          1.0         0.0   \n",
       "16                26              32           17          1.0         1.0   \n",
       "17                25              61           56          1.0         0.0   \n",
       "18                23              38           19          1.0         1.0   \n",
       "19                31              37           53          1.0         1.0   \n",
       "20                26              36          287          1.0         1.0   \n",
       "\n",
       "    total_revenue            joined_at              paid_at   revenue  \\\n",
       "0           12597  2017-08-11 00:00:00  2017-10-11 00:00:00   12597.0   \n",
       "1           37817  2017-10-31 00:00:00  2017-10-31 00:00:00   12597.0   \n",
       "2           12597  2017-10-27 00:00:00  2017-10-30 00:00:00   12597.0   \n",
       "3           20410  2017-10-25 00:00:00  2017-11-11 00:00:00   12597.0   \n",
       "4           21645  2017-04-11 00:00:00  2017-04-11 00:00:00   12597.0   \n",
       "5            9698  2017-02-11 00:00:00  2017-11-11 00:00:00    9698.0   \n",
       "6           75647  2017-05-11 00:00:00  2017-05-11 00:00:00   12597.0   \n",
       "7           12597  2017-10-25 00:00:00  2017-03-11 00:00:00   12597.0   \n",
       "8           25207  2017-10-19 00:00:00  2017-10-19 00:00:00   12597.0   \n",
       "9          123565  2017-10-22 00:00:00  2017-10-22 00:00:00  113477.0   \n",
       "10          12597  2017-10-15 00:00:00  2017-10-15 00:00:00   12597.0   \n",
       "11          11609  2017-10-17 00:00:00  2017-10-17 00:00:00   11609.0   \n",
       "12          15574  2017-10-22 00:00:00  2017-10-28 00:00:00    9542.0   \n",
       "13          16380  2017-10-22 00:00:00  2017-10-23 00:00:00   12597.0   \n",
       "14          12597  2017-03-11 00:00:00  2017-03-11 00:00:00   12597.0   \n",
       "15          11115  2017-10-15 00:00:00  2017-10-16 00:00:00   11115.0   \n",
       "16          12597  2017-10-26 00:00:00  2017-04-11 00:00:00   12597.0   \n",
       "17          12597  2017-10-14 00:00:00  2017-10-15 00:00:00   12597.0   \n",
       "18          12597  2017-10-31 00:00:00  2017-11-15 00:00:00   12597.0   \n",
       "19          12597  2017-01-11 00:00:00  2017-02-11 00:00:00   12597.0   \n",
       "20         129870  2017-08-11 00:00:00  2017-09-11 00:00:00  113477.0   \n",
       "\n",
       "    payment_id            from_page      product_type Group  num_buys  \\\n",
       "0        147.0               dating  premium_no_trial     T         1   \n",
       "1        147.0   popular_users_chat  premium_no_trial     T         1   \n",
       "2        147.0             promo_09  premium_no_trial     T         1   \n",
       "3        147.0             promo_09  premium_no_trial     T         1   \n",
       "4        147.0    autoreply_message  premium_no_trial     T         1   \n",
       "5        147.0               dating  premium_no_trial     T         1   \n",
       "6        147.0    autoreply_message  premium_no_trial     T         1   \n",
       "7        147.0             promo_09  premium_no_trial     T         1   \n",
       "8        147.0               dating  premium_no_trial     T         1   \n",
       "9        147.0    autoreply_message  premium_no_trial     T         1   \n",
       "10       147.0               dating  premium_no_trial     T         1   \n",
       "11        68.0                 none  premium_no_trial     T         1   \n",
       "12       147.0         delivery_vip  premium_no_trial     T         1   \n",
       "13       147.0    left_sidebar_menu  premium_no_trial     T         1   \n",
       "14       147.0               dating  premium_no_trial     T         1   \n",
       "15        68.0                 none  premium_no_trial     T         1   \n",
       "16       147.0             promo_09  premium_no_trial     T         1   \n",
       "17       147.0    autoreply_message  premium_no_trial     T         1   \n",
       "18       147.0  popular_users_block  premium_no_trial     T         1   \n",
       "19       147.0         send_message  premium_no_trial     T         1   \n",
       "20       147.0             promo_09  premium_no_trial     T         1   \n",
       "\n",
       "       price  \n",
       "0    12597.0  \n",
       "1    12597.0  \n",
       "2    12597.0  \n",
       "3    12597.0  \n",
       "4    12597.0  \n",
       "5     9698.0  \n",
       "6    12597.0  \n",
       "7    12597.0  \n",
       "8    12597.0  \n",
       "9   113477.0  \n",
       "10   12597.0  \n",
       "11   11609.0  \n",
       "12    9542.0  \n",
       "13   12597.0  \n",
       "14   12597.0  \n",
       "15   11115.0  \n",
       "16   12597.0  \n",
       "17   12597.0  \n",
       "18   12597.0  \n",
       "19   12597.0  \n",
       "20  113477.0  "
      ]
     },
     "execution_count": 66,
     "metadata": {},
     "output_type": "execute_result"
    }
   ],
   "source": [
    "all_together.merge(premium_users_T, how = 'inner' ) # отобрала строки с пользователями, \n",
    "#которые как я думаю заплатили более высокую цену"
   ]
  },
  {
   "cell_type": "markdown",
   "metadata": {},
   "source": [
    "### 1.3. Выводы по первой части\n",
    "По существующим данным, мы не можем точно определить категорию пользователей, на которую распространились нововведения. Мы выявили, некоторые страны в тестовой группе, где произошло повышение цен: Australia, Belgium, Israel, Spain, United Arab Emirates. **Однако возможно новое предложение действовало и для пользователей из других стран**\n",
    "\n",
    "Скорее всего, сюда же будут относиться и новые пользователи, и новые платежные системы.  Так как непонятно, где найти информацию о платежной системе, через которую были совершены платежы, не будем на этом останавливаться. По таблице пользователей, которые заплатили относительно высокую цены по сравнению с остальными в группе сложно определить точные критерии выборки. Поэтому будем оценивать всю тестовую группу. "
   ]
  },
  {
   "cell_type": "markdown",
   "metadata": {},
   "source": [
    "## 2. Статистика"
   ]
  },
  {
   "cell_type": "markdown",
   "metadata": {},
   "source": [
    "**До начала анализа АВ-теста, проведем анализ на однородность групп**"
   ]
  },
  {
   "cell_type": "markdown",
   "metadata": {},
   "source": [
    "  **ПО СТРАНАМ** \n",
    "\n",
    "Проведем анализ распределения по странам среди пользователей всех категорий(и платящих и неплатящих). важно чтобы по этому критерию группы были равнозначны, \n",
    "так как уровень дохода в разных странах может сильно разниться\n"
   ]
  },
  {
   "cell_type": "code",
   "execution_count": 67,
   "metadata": {},
   "outputs": [
    {
     "data": {
      "text/html": [
       "<div>\n",
       "<style scoped>\n",
       "    .dataframe tbody tr th:only-of-type {\n",
       "        vertical-align: middle;\n",
       "    }\n",
       "\n",
       "    .dataframe tbody tr th {\n",
       "        vertical-align: top;\n",
       "    }\n",
       "\n",
       "    .dataframe thead th {\n",
       "        text-align: right;\n",
       "    }\n",
       "</style>\n",
       "<table border=\"1\" class=\"dataframe\">\n",
       "  <thead>\n",
       "    <tr style=\"text-align: right;\">\n",
       "      <th>Group</th>\n",
       "      <th>C1</th>\n",
       "      <th>C2</th>\n",
       "      <th>T</th>\n",
       "    </tr>\n",
       "    <tr>\n",
       "      <th>country</th>\n",
       "      <th></th>\n",
       "      <th></th>\n",
       "      <th></th>\n",
       "    </tr>\n",
       "  </thead>\n",
       "  <tbody>\n",
       "    <tr>\n",
       "      <th>Algeria</th>\n",
       "      <td>2</td>\n",
       "      <td>0</td>\n",
       "      <td>2</td>\n",
       "    </tr>\n",
       "    <tr>\n",
       "      <th>Argentina</th>\n",
       "      <td>389</td>\n",
       "      <td>397</td>\n",
       "      <td>396</td>\n",
       "    </tr>\n",
       "    <tr>\n",
       "      <th>Armenia</th>\n",
       "      <td>1</td>\n",
       "      <td>0</td>\n",
       "      <td>0</td>\n",
       "    </tr>\n",
       "    <tr>\n",
       "      <th>Australia</th>\n",
       "      <td>50</td>\n",
       "      <td>51</td>\n",
       "      <td>62</td>\n",
       "    </tr>\n",
       "    <tr>\n",
       "      <th>Austria</th>\n",
       "      <td>0</td>\n",
       "      <td>2</td>\n",
       "      <td>0</td>\n",
       "    </tr>\n",
       "    <tr>\n",
       "      <th>...</th>\n",
       "      <td>...</td>\n",
       "      <td>...</td>\n",
       "      <td>...</td>\n",
       "    </tr>\n",
       "    <tr>\n",
       "      <th>United Kingdom (Great Britain)</th>\n",
       "      <td>146</td>\n",
       "      <td>146</td>\n",
       "      <td>169</td>\n",
       "    </tr>\n",
       "    <tr>\n",
       "      <th>United States of America</th>\n",
       "      <td>1471</td>\n",
       "      <td>1486</td>\n",
       "      <td>1450</td>\n",
       "    </tr>\n",
       "    <tr>\n",
       "      <th>Uruguay</th>\n",
       "      <td>0</td>\n",
       "      <td>1</td>\n",
       "      <td>1</td>\n",
       "    </tr>\n",
       "    <tr>\n",
       "      <th>Uzbekistan</th>\n",
       "      <td>0</td>\n",
       "      <td>0</td>\n",
       "      <td>1</td>\n",
       "    </tr>\n",
       "    <tr>\n",
       "      <th>Venezuela</th>\n",
       "      <td>2</td>\n",
       "      <td>0</td>\n",
       "      <td>0</td>\n",
       "    </tr>\n",
       "  </tbody>\n",
       "</table>\n",
       "<p>72 rows × 3 columns</p>\n",
       "</div>"
      ],
      "text/plain": [
       "Group                             C1    C2     T\n",
       "country                                         \n",
       "Algeria                            2     0     2\n",
       "Argentina                        389   397   396\n",
       "Armenia                            1     0     0\n",
       "Australia                         50    51    62\n",
       "Austria                            0     2     0\n",
       "...                              ...   ...   ...\n",
       "United Kingdom (Great Britain)   146   146   169\n",
       "United States of America        1471  1486  1450\n",
       "Uruguay                            0     1     1\n",
       "Uzbekistan                         0     0     1\n",
       "Venezuela                          2     0     0\n",
       "\n",
       "[72 rows x 3 columns]"
      ]
     },
     "execution_count": 67,
     "metadata": {},
     "output_type": "execute_result"
    }
   ],
   "source": [
    "#Создадим таблицу распределения по странам и проверим равномерность распределения с помощью Хи квадрат\n",
    "couuntries_comp = all_together.groupby(['uid', 'Group'], as_index=False) \\\n",
    "    .agg(country=('country', 'first'))\n",
    "countries_chi = pd.crosstab(couuntries_comp.country, couuntries_comp.Group)\n",
    "countries_chi"
   ]
  },
  {
   "cell_type": "code",
   "execution_count": 68,
   "metadata": {},
   "outputs": [
    {
     "name": "stdout",
     "output_type": "stream",
     "text": [
      "0.6604993611328537\n"
     ]
    }
   ],
   "source": [
    "#Воспользуемся функцией вычисления chi2_contingency(\n",
    "g, p, dof, expctd = chi2_contingency(countries_chi)\n",
    "print(p)"
   ]
  },
  {
   "cell_type": "markdown",
   "metadata": {},
   "source": [
    "Значение p>0,05, следовательно **распределение по странам между группами является равномерным**"
   ]
  },
  {
   "cell_type": "markdown",
   "metadata": {},
   "source": [
    "**ПО ВОЗРАСТУ** \n",
    "\n",
    "Посмотрим на однородность групп по возрасту\n"
   ]
  },
  {
   "cell_type": "code",
   "execution_count": 69,
   "metadata": {},
   "outputs": [
    {
     "data": {
      "text/html": [
       "<div>\n",
       "<style scoped>\n",
       "    .dataframe tbody tr th:only-of-type {\n",
       "        vertical-align: middle;\n",
       "    }\n",
       "\n",
       "    .dataframe tbody tr th {\n",
       "        vertical-align: top;\n",
       "    }\n",
       "\n",
       "    .dataframe thead th {\n",
       "        text-align: right;\n",
       "    }\n",
       "</style>\n",
       "<table border=\"1\" class=\"dataframe\">\n",
       "  <thead>\n",
       "    <tr style=\"text-align: right;\">\n",
       "      <th>Group</th>\n",
       "      <th>C1</th>\n",
       "      <th>C2</th>\n",
       "      <th>T</th>\n",
       "    </tr>\n",
       "    <tr>\n",
       "      <th>age</th>\n",
       "      <th></th>\n",
       "      <th></th>\n",
       "      <th></th>\n",
       "    </tr>\n",
       "  </thead>\n",
       "  <tbody>\n",
       "    <tr>\n",
       "      <th>16</th>\n",
       "      <td>82</td>\n",
       "      <td>87</td>\n",
       "      <td>82</td>\n",
       "    </tr>\n",
       "    <tr>\n",
       "      <th>17</th>\n",
       "      <td>22</td>\n",
       "      <td>9</td>\n",
       "      <td>23</td>\n",
       "    </tr>\n",
       "    <tr>\n",
       "      <th>18</th>\n",
       "      <td>74</td>\n",
       "      <td>74</td>\n",
       "      <td>89</td>\n",
       "    </tr>\n",
       "    <tr>\n",
       "      <th>19</th>\n",
       "      <td>93</td>\n",
       "      <td>94</td>\n",
       "      <td>74</td>\n",
       "    </tr>\n",
       "    <tr>\n",
       "      <th>20</th>\n",
       "      <td>116</td>\n",
       "      <td>115</td>\n",
       "      <td>133</td>\n",
       "    </tr>\n",
       "    <tr>\n",
       "      <th>...</th>\n",
       "      <td>...</td>\n",
       "      <td>...</td>\n",
       "      <td>...</td>\n",
       "    </tr>\n",
       "    <tr>\n",
       "      <th>90</th>\n",
       "      <td>0</td>\n",
       "      <td>1</td>\n",
       "      <td>0</td>\n",
       "    </tr>\n",
       "    <tr>\n",
       "      <th>91</th>\n",
       "      <td>1</td>\n",
       "      <td>0</td>\n",
       "      <td>0</td>\n",
       "    </tr>\n",
       "    <tr>\n",
       "      <th>92</th>\n",
       "      <td>0</td>\n",
       "      <td>1</td>\n",
       "      <td>0</td>\n",
       "    </tr>\n",
       "    <tr>\n",
       "      <th>98</th>\n",
       "      <td>1</td>\n",
       "      <td>0</td>\n",
       "      <td>1</td>\n",
       "    </tr>\n",
       "    <tr>\n",
       "      <th>99</th>\n",
       "      <td>7</td>\n",
       "      <td>2</td>\n",
       "      <td>7</td>\n",
       "    </tr>\n",
       "  </tbody>\n",
       "</table>\n",
       "<p>69 rows × 3 columns</p>\n",
       "</div>"
      ],
      "text/plain": [
       "Group   C1   C2    T\n",
       "age                 \n",
       "16      82   87   82\n",
       "17      22    9   23\n",
       "18      74   74   89\n",
       "19      93   94   74\n",
       "20     116  115  133\n",
       "..     ...  ...  ...\n",
       "90       0    1    0\n",
       "91       1    0    0\n",
       "92       0    1    0\n",
       "98       1    0    1\n",
       "99       7    2    7\n",
       "\n",
       "[69 rows x 3 columns]"
      ]
     },
     "execution_count": 69,
     "metadata": {},
     "output_type": "execute_result"
    }
   ],
   "source": [
    "age_comp = all_together.groupby(['uid', 'Group'], as_index=False) \\\n",
    "    .agg(age=('age', 'first'))\n",
    "age_chi = pd.crosstab(age_comp.age, age_comp.Group) #воспользуемся сводной таблицей для наглядного отображения\n",
    "age_chi"
   ]
  },
  {
   "cell_type": "code",
   "execution_count": 70,
   "metadata": {},
   "outputs": [],
   "source": [
    "# применим тест Левена\n",
    "import pingouin as pg"
   ]
  },
  {
   "cell_type": "code",
   "execution_count": 71,
   "metadata": {},
   "outputs": [
    {
     "data": {
      "text/html": [
       "<div>\n",
       "<style scoped>\n",
       "    .dataframe tbody tr th:only-of-type {\n",
       "        vertical-align: middle;\n",
       "    }\n",
       "\n",
       "    .dataframe tbody tr th {\n",
       "        vertical-align: top;\n",
       "    }\n",
       "\n",
       "    .dataframe thead th {\n",
       "        text-align: right;\n",
       "    }\n",
       "</style>\n",
       "<table border=\"1\" class=\"dataframe\">\n",
       "  <thead>\n",
       "    <tr style=\"text-align: right;\">\n",
       "      <th></th>\n",
       "      <th>W</th>\n",
       "      <th>pval</th>\n",
       "      <th>equal_var</th>\n",
       "    </tr>\n",
       "  </thead>\n",
       "  <tbody>\n",
       "    <tr>\n",
       "      <th>levene</th>\n",
       "      <td>0.382965</td>\n",
       "      <td>0.681845</td>\n",
       "      <td>True</td>\n",
       "    </tr>\n",
       "  </tbody>\n",
       "</table>\n",
       "</div>"
      ],
      "text/plain": [
       "               W      pval  equal_var\n",
       "levene  0.382965  0.681845       True"
      ]
     },
     "execution_count": 71,
     "metadata": {},
     "output_type": "execute_result"
    }
   ],
   "source": [
    "pg.homoscedasticity(data=age_comp, dv='age', group='Group')"
   ]
  },
  {
   "cell_type": "markdown",
   "metadata": {},
   "source": [
    "Значение p>0,05, следовательно распределение **по возрасту между группами является равномерным**"
   ]
  },
  {
   "cell_type": "markdown",
   "metadata": {},
   "source": [
    "**Однородность групп по гендерному признаку(полу)** "
   ]
  },
  {
   "cell_type": "code",
   "execution_count": 72,
   "metadata": {},
   "outputs": [],
   "source": [
    "gender_mark = all_together.groupby(['uid', 'Group'], as_index=False) \\\n",
    "    .agg(gender=('gender', 'first'))\n"
   ]
  },
  {
   "cell_type": "code",
   "execution_count": 73,
   "metadata": {},
   "outputs": [
    {
     "data": {
      "text/html": [
       "<div>\n",
       "<style scoped>\n",
       "    .dataframe tbody tr th:only-of-type {\n",
       "        vertical-align: middle;\n",
       "    }\n",
       "\n",
       "    .dataframe tbody tr th {\n",
       "        vertical-align: top;\n",
       "    }\n",
       "\n",
       "    .dataframe thead th {\n",
       "        text-align: right;\n",
       "    }\n",
       "</style>\n",
       "<table border=\"1\" class=\"dataframe\">\n",
       "  <thead>\n",
       "    <tr style=\"text-align: right;\">\n",
       "      <th></th>\n",
       "      <th>W</th>\n",
       "      <th>pval</th>\n",
       "      <th>equal_var</th>\n",
       "    </tr>\n",
       "  </thead>\n",
       "  <tbody>\n",
       "    <tr>\n",
       "      <th>levene</th>\n",
       "      <td>0.675158</td>\n",
       "      <td>0.509094</td>\n",
       "      <td>True</td>\n",
       "    </tr>\n",
       "  </tbody>\n",
       "</table>\n",
       "</div>"
      ],
      "text/plain": [
       "               W      pval  equal_var\n",
       "levene  0.675158  0.509094       True"
      ]
     },
     "execution_count": 73,
     "metadata": {},
     "output_type": "execute_result"
    }
   ],
   "source": [
    "pg.homoscedasticity(data=gender_mark, dv='gender', group='Group')"
   ]
  },
  {
   "cell_type": "markdown",
   "metadata": {},
   "source": [
    "По гендерному признаку так же **группы однородны** , так как p value>0.05"
   ]
  },
  {
   "cell_type": "markdown",
   "metadata": {},
   "source": [
    "Ранее мы сровняли группы по временным рамкам и в сводных таблицах группы выглядят гомогенными. По важным критериям мы посчитали статистически, что группы  равны. \n",
    "### 3. проведем АА-тест"
   ]
  },
  {
   "cell_type": "markdown",
   "metadata": {},
   "source": [
    "Так как контрольных групп у нас две, докажем что эти группы между собой статистически не отличаются по главным метрикам, чтобы потом можно было тестовую группу сравнивать только с одной из контрольных\n"
   ]
  },
  {
   "cell_type": "markdown",
   "metadata": {},
   "source": [
    "В качестве метрик возьмем :\n",
    "- ARPPU выручка от премиум пользователей\n",
    "- ARPU доля выручки на одного пользователя\n",
    "- Конверсия"
   ]
  },
  {
   "cell_type": "markdown",
   "metadata": {},
   "source": [
    "### 3.1. ARPPU - выручка на одного платящего пользователя"
   ]
  },
  {
   "cell_type": "code",
   "execution_count": 74,
   "metadata": {},
   "outputs": [
    {
     "data": {
      "image/png": "[encoded data removed]",
      "text/plain": [
       "<Figure size 1080x648 with 1 Axes>"
      ]
     },
     "metadata": {},
     "output_type": "display_data"
    }
   ],
   "source": [
    "#посмотрим на распределение выручки(revenue)\n",
    "f, ax = plt.subplots( figsize =(15,9) ) \n",
    "sns.distplot( control_1[control_1.product_type == 'premium_no_trial'].revenue, label = 'control_1') \n",
    "sns.distplot( control_2[control_2.product_type == 'premium_no_trial'].revenue, label = 'control_2')\n",
    "plt.title( 'Выручка от премиум пользователей' ) \n",
    "plt.legend() \n",
    "plt.show() \n"
   ]
  },
  {
   "cell_type": "code",
   "execution_count": 75,
   "metadata": {},
   "outputs": [],
   "source": [
    "C1_prem = control_1[control_1.product_type == 'premium_no_trial'].revenue.reset_index()\n",
    "C2_prem = control_2[control_2.product_type == 'premium_no_trial'].revenue.reset_index()\n",
    "#создаем две группы, отобрав только держателей премиум подписки"
   ]
  },
  {
   "cell_type": "code",
   "execution_count": 76,
   "metadata": {},
   "outputs": [
    {
     "data": {
      "text/html": [
       "<div>\n",
       "<style scoped>\n",
       "    .dataframe tbody tr th:only-of-type {\n",
       "        vertical-align: middle;\n",
       "    }\n",
       "\n",
       "    .dataframe tbody tr th {\n",
       "        vertical-align: top;\n",
       "    }\n",
       "\n",
       "    .dataframe thead th {\n",
       "        text-align: right;\n",
       "    }\n",
       "</style>\n",
       "<table border=\"1\" class=\"dataframe\">\n",
       "  <thead>\n",
       "    <tr style=\"text-align: right;\">\n",
       "      <th></th>\n",
       "      <th>W</th>\n",
       "      <th>pval</th>\n",
       "      <th>normal</th>\n",
       "    </tr>\n",
       "  </thead>\n",
       "  <tbody>\n",
       "    <tr>\n",
       "      <th>T</th>\n",
       "      <td>123.731270</td>\n",
       "      <td>1.355489e-27</td>\n",
       "      <td>False</td>\n",
       "    </tr>\n",
       "    <tr>\n",
       "      <th>C1</th>\n",
       "      <td>150.292290</td>\n",
       "      <td>2.314429e-33</td>\n",
       "      <td>False</td>\n",
       "    </tr>\n",
       "    <tr>\n",
       "      <th>C2</th>\n",
       "      <td>183.870165</td>\n",
       "      <td>1.183316e-40</td>\n",
       "      <td>False</td>\n",
       "    </tr>\n",
       "  </tbody>\n",
       "</table>\n",
       "</div>"
      ],
      "text/plain": [
       "             W          pval  normal\n",
       "T   123.731270  1.355489e-27   False\n",
       "C1  150.292290  2.314429e-33   False\n",
       "C2  183.870165  1.183316e-40   False"
      ]
     },
     "execution_count": 76,
     "metadata": {},
     "output_type": "execute_result"
    }
   ],
   "source": [
    "#Запускаем тест нормальности распределения, чтобы выбрать метод оценки сравнени групп\n",
    "pg.normality(data=all_together[all_together.product_type == 'premium_no_trial'], dv=\"revenue\", \n",
    "                   group=\"Group\", method=\"normaltest\") "
   ]
  },
  {
   "cell_type": "markdown",
   "metadata": {},
   "source": [
    "На графиках большие выбросы, по результам теста распределение не нормальное."
   ]
  },
  {
   "cell_type": "code",
   "execution_count": 77,
   "metadata": {},
   "outputs": [],
   "source": [
    "#использую  метод bootstrap на средних. "
   ]
  },
  {
   "cell_type": "code",
   "execution_count": 78,
   "metadata": {},
   "outputs": [],
   "source": [
    "#используем готовую функци bootstrap\n",
    "from tqdm.auto import tqdm\n",
    "from scipy.stats import norm, mannwhitneyu, shapiro\n",
    "\n",
    "\n",
    "from tqdm.auto import tqdm\n",
    "from scipy.stats import norm, mannwhitneyu, shapiro\n",
    "\n",
    "def get_bootstrap_mean(\n",
    "    data_column_1, # числовые значения первой выборки\n",
    "    data_column_2, # числовые значения второй выборки\n",
    "    boot_it = 1000, # количество бутстрэп-подвыборок\n",
    "    statistic = np.mean, # интересующая нас статистика\n",
    "    bootstrap_conf_level = 0.95 # уровень значимости\n",
    "):\n",
    "    boot_len = max([len(data_column_1), len(data_column_2)])\n",
    "    boot_data = []\n",
    "    for i in tqdm(range(boot_it)): # извлекаем подвыборки\n",
    "        samples_1 = data_column_1.sample(\n",
    "            boot_len, \n",
    "            replace = True # параметр возвращения\n",
    "        ).values\n",
    "        \n",
    "        samples_2 = data_column_2.sample(\n",
    "            boot_len, \n",
    "            replace = True\n",
    "        ).values\n",
    "        \n",
    "        boot_data.append(statistic(samples_1-samples_2)) # mean() - применяем статистику\n",
    "        \n",
    "    pd_boot_data = pd.DataFrame(boot_data)\n",
    "        \n",
    "    left_quant = (1 - bootstrap_conf_level)/2\n",
    "    right_quant = 1 - (1 - bootstrap_conf_level) / 2\n",
    "    ci = pd_boot_data.quantile([left_quant, right_quant])\n",
    "        \n",
    "    p_1 = norm.cdf(\n",
    "        x = 0, \n",
    "        loc = np.mean(boot_data), \n",
    "        scale = np.std(boot_data)\n",
    "    )\n",
    "    p_2 = norm.cdf(\n",
    "        x = 0, \n",
    "        loc = -np.mean(boot_data), \n",
    "        scale = np.std(boot_data)\n",
    "    )\n",
    "    p_value = min(p_1, p_2) * 2\n",
    "        \n",
    "    # Визуализация\n",
    "    plt.hist(pd_boot_data[0], bins = 50)\n",
    "    \n",
    "    plt.style.use('ggplot')\n",
    "    plt.vlines(ci,ymin=0,ymax=50,linestyle='--')\n",
    "    plt.xlabel('boot_data')\n",
    "    plt.ylabel('frequency')\n",
    "    plt.title(\"Histogram of boot_data\")\n",
    "    plt.show()\n",
    "       \n",
    "    return {\"ci\": ci, \n",
    "            \"p_value\": p_value} #\"boot_data\": boot_data,"
   ]
  },
  {
   "cell_type": "code",
   "execution_count": 79,
   "metadata": {},
   "outputs": [
    {
     "data": {
      "application/vnd.jupyter.widget-view+json": {
       "model_id": "e109945dea354b0084ba93e4e4ad7a26",
       "version_major": 2,
       "version_minor": 0
      },
      "text/plain": [
       "HBox(children=(FloatProgress(value=0.0, max=1000.0), HTML(value='')))"
      ]
     },
     "metadata": {},
     "output_type": "display_data"
    },
    {
     "name": "stdout",
     "output_type": "stream",
     "text": [
      "\n"
     ]
    },
    {
     "data": {
      "image/png": "[encoded data removed]",
      "text/plain": [
       "<Figure size 1440x504 with 1 Axes>"
      ]
     },
     "metadata": {},
     "output_type": "display_data"
    }
   ],
   "source": [
    "ARPPU_rev= get_bootstrap_mean(C1_prem.revenue,\n",
    "                             C2_prem.revenue)"
   ]
  },
  {
   "cell_type": "code",
   "execution_count": 80,
   "metadata": {},
   "outputs": [
    {
     "data": {
      "text/plain": [
       "{'ci':                  0\n",
       " 0.025 -2533.444860\n",
       " 0.975  2313.173832,\n",
       " 'p_value': 0.9922776895451583}"
      ]
     },
     "execution_count": 80,
     "metadata": {},
     "output_type": "execute_result"
    }
   ],
   "source": [
    "ARPPU_rev"
   ]
  },
  {
   "cell_type": "markdown",
   "metadata": {},
   "source": [
    "Посмотрим доверительный интервал с уровнем значимости 0.95;\n",
    "Поскольку 0 принадлежит ДИ, то отличия статистически не значимы на уровне значимости"
   ]
  },
  {
   "cell_type": "markdown",
   "metadata": {},
   "source": [
    "### 3.2. ARPU - выручка на одного пользователя"
   ]
  },
  {
   "cell_type": "code",
   "execution_count": 81,
   "metadata": {},
   "outputs": [
    {
     "data": {
      "image/png": "[encoded data removed]",
      "text/plain": [
       "<Figure size 792x648 with 1 Axes>"
      ]
     },
     "metadata": {},
     "output_type": "display_data"
    }
   ],
   "source": [
    "f, ax = plt.subplots( figsize =(11,9) ) \n",
    "sns.distplot( control_1.revenue, label = 'control_1') \n",
    "sns.distplot( control_2.revenue, label = 'control_2')\n",
    "plt.title( 'Выручка' ) \n",
    "plt.legend() \n",
    "plt.show() "
   ]
  },
  {
   "cell_type": "markdown",
   "metadata": {},
   "source": [
    "Поскольку большинство пользователей не платят за пользование сервисом, здесь видно явное смещение к нулю"
   ]
  },
  {
   "cell_type": "markdown",
   "metadata": {},
   "source": [
    "Плотность около нуля и есть хвосты. Так же воспользуемся bootstrap методом"
   ]
  },
  {
   "cell_type": "code",
   "execution_count": 83,
   "metadata": {},
   "outputs": [
    {
     "data": {
      "application/vnd.jupyter.widget-view+json": {
       "model_id": "c7a141fa597c49bdab9b8c3b73733e40",
       "version_major": 2,
       "version_minor": 0
      },
      "text/plain": [
       "HBox(children=(FloatProgress(value=0.0, max=1000.0), HTML(value='')))"
      ]
     },
     "metadata": {},
     "output_type": "display_data"
    },
    {
     "name": "stdout",
     "output_type": "stream",
     "text": [
      "\n"
     ]
    },
    {
     "data": {
      "image/png": "[encoded data removed]",
      "text/plain": [
       "<Figure size 1440x504 with 1 Axes>"
      ]
     },
     "metadata": {},
     "output_type": "display_data"
    }
   ],
   "source": [
    "ARPU_rev = get_bootstrap_mean(all_together.query('Group==\"C1\"').revenue,\n",
    "                                     all_together.query('Group==\"C2\"').revenue)"
   ]
  },
  {
   "cell_type": "code",
   "execution_count": 84,
   "metadata": {},
   "outputs": [
    {
     "data": {
      "text/plain": [
       "{'ci':                 0\n",
       " 0.025  -71.673647\n",
       " 0.975  121.493396,\n",
       " 'p_value': 0.587645880762313}"
      ]
     },
     "execution_count": 84,
     "metadata": {},
     "output_type": "execute_result"
    }
   ],
   "source": [
    "ARPU_rev"
   ]
  },
  {
   "cell_type": "markdown",
   "metadata": {},
   "source": [
    "По средней выручке на каждого пользователя группы так же похожи"
   ]
  },
  {
   "cell_type": "markdown",
   "metadata": {},
   "source": [
    "### 3.3 Посчитаем на схожесть уровня конверсии в двух контрольных группах\n",
    "Воспользуемся в этому случае методом Хи квадрат"
   ]
  },
  {
   "cell_type": "code",
   "execution_count": 85,
   "metadata": {},
   "outputs": [],
   "source": [
    "#Нам нужно посчитать количество всех уникальных пользователей и количество обладателей премиум подписки.\n",
    "all_users_count = all_together.query('Group!=\"T\"').groupby('Group', as_index = False).agg({'uid':'count'}) # Подсичтываем количество \n",
    "                                              # уникальных пользователей в двух группах\n",
    "conversion_yes_group = all_together[all_together.Group != 'T'].query(\"product_type == 'premium_no_trial'\").groupby('Group', as_index = False).agg({'uid':'count'})\n",
    "conversion_yes_group = all_users_count.merge(conversion_yes_group, on = 'Group')\n",
    "conversion_yes_group['perc'] = conversion_yes_group.uid_y/conversion_yes_group.uid_x*100 \n",
    "#создали таблицу с колонкой конверсии в процентах"
   ]
  },
  {
   "cell_type": "code",
   "execution_count": 86,
   "metadata": {},
   "outputs": [
    {
     "data": {
      "text/html": [
       "<div>\n",
       "<style scoped>\n",
       "    .dataframe tbody tr th:only-of-type {\n",
       "        vertical-align: middle;\n",
       "    }\n",
       "\n",
       "    .dataframe tbody tr th {\n",
       "        vertical-align: top;\n",
       "    }\n",
       "\n",
       "    .dataframe thead th {\n",
       "        text-align: right;\n",
       "    }\n",
       "</style>\n",
       "<table border=\"1\" class=\"dataframe\">\n",
       "  <thead>\n",
       "    <tr style=\"text-align: right;\">\n",
       "      <th></th>\n",
       "      <th>Group</th>\n",
       "      <th>uid_x</th>\n",
       "      <th>uid_y</th>\n",
       "      <th>perc</th>\n",
       "    </tr>\n",
       "  </thead>\n",
       "  <tbody>\n",
       "    <tr>\n",
       "      <th>0</th>\n",
       "      <td>C1</td>\n",
       "      <td>4490</td>\n",
       "      <td>103</td>\n",
       "      <td>2.293987</td>\n",
       "    </tr>\n",
       "    <tr>\n",
       "      <th>1</th>\n",
       "      <td>C2</td>\n",
       "      <td>4405</td>\n",
       "      <td>107</td>\n",
       "      <td>2.429058</td>\n",
       "    </tr>\n",
       "  </tbody>\n",
       "</table>\n",
       "</div>"
      ],
      "text/plain": [
       "  Group  uid_x  uid_y      perc\n",
       "0    C1   4490    103  2.293987\n",
       "1    C2   4405    107  2.429058"
      ]
     },
     "execution_count": 86,
     "metadata": {},
     "output_type": "execute_result"
    }
   ],
   "source": [
    "conversion_yes_group"
   ]
  },
  {
   "cell_type": "code",
   "execution_count": 87,
   "metadata": {},
   "outputs": [],
   "source": [
    "#для создания свобной таблицы промаркируем\n",
    "conversion_yes = all_together[all_together.Group != 'T'].query(\"product_type == 'premium_no_trial'\")\n",
    "conversion_no = all_together[all_together.Group != 'T'].query(\"product_type != 'premium_no_trial'\")"
   ]
  },
  {
   "cell_type": "code",
   "execution_count": 88,
   "metadata": {},
   "outputs": [],
   "source": [
    "conversion_yes['convert']= '1'\n",
    "conversion_no['convert'] = '0'\n",
    "#Созжаем маркировку пользователей по конверсии"
   ]
  },
  {
   "cell_type": "code",
   "execution_count": 89,
   "metadata": {},
   "outputs": [],
   "source": [
    "conv = pd.concat([conversion_yes, conversion_no])"
   ]
  },
  {
   "cell_type": "code",
   "execution_count": 90,
   "metadata": {},
   "outputs": [
    {
     "data": {
      "text/html": [
       "<div>\n",
       "<style scoped>\n",
       "    .dataframe tbody tr th:only-of-type {\n",
       "        vertical-align: middle;\n",
       "    }\n",
       "\n",
       "    .dataframe tbody tr th {\n",
       "        vertical-align: top;\n",
       "    }\n",
       "\n",
       "    .dataframe thead th {\n",
       "        text-align: right;\n",
       "    }\n",
       "</style>\n",
       "<table border=\"1\" class=\"dataframe\">\n",
       "  <thead>\n",
       "    <tr style=\"text-align: right;\">\n",
       "      <th>convert</th>\n",
       "      <th>0</th>\n",
       "      <th>1</th>\n",
       "    </tr>\n",
       "    <tr>\n",
       "      <th>Group</th>\n",
       "      <th></th>\n",
       "      <th></th>\n",
       "    </tr>\n",
       "  </thead>\n",
       "  <tbody>\n",
       "    <tr>\n",
       "      <th>C1</th>\n",
       "      <td>4387</td>\n",
       "      <td>103</td>\n",
       "    </tr>\n",
       "    <tr>\n",
       "      <th>C2</th>\n",
       "      <td>4298</td>\n",
       "      <td>107</td>\n",
       "    </tr>\n",
       "  </tbody>\n",
       "</table>\n",
       "</div>"
      ],
      "text/plain": [
       "convert     0    1\n",
       "Group             \n",
       "C1       4387  103\n",
       "C2       4298  107"
      ]
     },
     "execution_count": 90,
     "metadata": {},
     "output_type": "execute_result"
    }
   ],
   "source": [
    "a = pd.crosstab(conv.Group, conv.convert) #таблица сопряженности\n",
    "a\n",
    "#Мы видим увеличение конверсии в платного пользователя в контрольных группах.Воспользуемся функцией Хи квадрат\n",
    "# 0 - не свонвертированные, 1 - сконвертированные"
   ]
  },
  {
   "cell_type": "code",
   "execution_count": 91,
   "metadata": {},
   "outputs": [
    {
     "name": "stdout",
     "output_type": "stream",
     "text": [
      "р уровень значимости равен: 0.726589163691989\n"
     ]
    }
   ],
   "source": [
    "g, p, dof, expctd = chi2_contingency(a)\n",
    "print('р уровень значимости равен:', p)"
   ]
  },
  {
   "cell_type": "markdown",
   "metadata": {},
   "source": [
    "следовательно статистически  по уровню конверсии группы значимо не различаются"
   ]
  },
  {
   "cell_type": "markdown",
   "metadata": {},
   "source": [
    "### 4. АВ тесты и проверка гипотезы\n",
    "Проверим те же метрики:\n",
    " - ARPU\n",
    " - ARPPU\n",
    " - конверсия"
   ]
  },
  {
   "cell_type": "markdown",
   "metadata": {},
   "source": [
    "Так как мы доказали, что контрольные группы статистически значимо не различаются, можем группы соединить в одну(Так как проверяем величины относительные, в статистических тестах мы сравниваем средние, поэтому разноразмерность выборок на результат не повлияет. Конкретно при бутстрапе допускается брать выборки разного размера, так как он создает синтетические выборки, тем самым выравнивает их размеры)"
   ]
  },
  {
   "cell_type": "code",
   "execution_count": 101,
   "metadata": {},
   "outputs": [],
   "source": [
    "Control_group = all_together[all_together.Group !='T']#оставим только контрольную группу\n",
    "Control_group['Group'] = 'C'# промаркируем колонку Group символом 'C'"
   ]
  },
  {
   "cell_type": "code",
   "execution_count": 102,
   "metadata": {},
   "outputs": [
    {
     "data": {
      "text/plain": [
       "(8895, 20)"
      ]
     },
     "execution_count": 102,
     "metadata": {},
     "output_type": "execute_result"
    }
   ],
   "source": [
    "Control_group.shape # определим размер объединенной группы"
   ]
  },
  {
   "cell_type": "code",
   "execution_count": 103,
   "metadata": {},
   "outputs": [],
   "source": [
    "test_AB_group = all_together[all_together.Group == 'T'] #тестовая группа"
   ]
  },
  {
   "cell_type": "markdown",
   "metadata": {},
   "source": [
    "### 4.1 ARPPU"
   ]
  },
  {
   "cell_type": "markdown",
   "metadata": {},
   "source": [
    "Посколько распределение показало большую плотность в нуле, для нас важнее метрика доход на платящего пользователя"
   ]
  },
  {
   "cell_type": "code",
   "execution_count": 104,
   "metadata": {},
   "outputs": [
    {
     "data": {
      "text/html": [
       "<div>\n",
       "<style scoped>\n",
       "    .dataframe tbody tr th:only-of-type {\n",
       "        vertical-align: middle;\n",
       "    }\n",
       "\n",
       "    .dataframe tbody tr th {\n",
       "        vertical-align: top;\n",
       "    }\n",
       "\n",
       "    .dataframe thead th {\n",
       "        text-align: right;\n",
       "    }\n",
       "</style>\n",
       "<table border=\"1\" class=\"dataframe\">\n",
       "  <thead>\n",
       "    <tr style=\"text-align: right;\">\n",
       "      <th></th>\n",
       "      <th>Group</th>\n",
       "      <th>revenue</th>\n",
       "    </tr>\n",
       "  </thead>\n",
       "  <tbody>\n",
       "    <tr>\n",
       "      <th>0</th>\n",
       "      <td>C</td>\n",
       "      <td>1451853.0</td>\n",
       "    </tr>\n",
       "    <tr>\n",
       "      <th>1</th>\n",
       "      <td>T</td>\n",
       "      <td>810706.0</td>\n",
       "    </tr>\n",
       "  </tbody>\n",
       "</table>\n",
       "</div>"
      ],
      "text/plain": [
       "  Group    revenue\n",
       "0     C  1451853.0\n",
       "1     T   810706.0"
      ]
     },
     "execution_count": 104,
     "metadata": {},
     "output_type": "execute_result"
    }
   ],
   "source": [
    "#Соберем таблицу по доходу\n",
    "ARPPU_control = Control_group.query(\"product_type == 'premium_no_trial'\")\\\n",
    "                        .groupby('uid', as_index = False).agg({'revenue': 'sum'})\n",
    "ARPPU_test =  test_AB_group.query(\"product_type == 'premium_no_trial'\")\\\n",
    "                        .groupby('uid', as_index = False).agg({'revenue': 'sum'})\n",
    "ARPPU = pd.concat([Control_group, test_AB_group]).query(\"product_type == 'premium_no_trial'\")\n",
    "ARPPU_table = ARPPU.groupby('Group', as_index = False).agg({'revenue': 'sum'})\n",
    "ARPPU_table"
   ]
  },
  {
   "cell_type": "code",
   "execution_count": 105,
   "metadata": {},
   "outputs": [
    {
     "data": {
      "text/html": [
       "<div>\n",
       "<style scoped>\n",
       "    .dataframe tbody tr th:only-of-type {\n",
       "        vertical-align: middle;\n",
       "    }\n",
       "\n",
       "    .dataframe tbody tr th {\n",
       "        vertical-align: top;\n",
       "    }\n",
       "\n",
       "    .dataframe thead th {\n",
       "        text-align: right;\n",
       "    }\n",
       "</style>\n",
       "<table border=\"1\" class=\"dataframe\">\n",
       "  <thead>\n",
       "    <tr style=\"text-align: right;\">\n",
       "      <th></th>\n",
       "      <th>Group</th>\n",
       "      <th>uid</th>\n",
       "    </tr>\n",
       "  </thead>\n",
       "  <tbody>\n",
       "    <tr>\n",
       "      <th>0</th>\n",
       "      <td>C</td>\n",
       "      <td>210</td>\n",
       "    </tr>\n",
       "    <tr>\n",
       "      <th>1</th>\n",
       "      <td>T</td>\n",
       "      <td>76</td>\n",
       "    </tr>\n",
       "  </tbody>\n",
       "</table>\n",
       "</div>"
      ],
      "text/plain": [
       "  Group  uid\n",
       "0     C  210\n",
       "1     T   76"
      ]
     },
     "execution_count": 105,
     "metadata": {},
     "output_type": "execute_result"
    }
   ],
   "source": [
    "users_count = ARPPU.groupby(['Group'], as_index = False).agg({'uid' :'count'}) #подсчитаем количество уникальных\n",
    "                            #пользователей\n",
    "users_count"
   ]
  },
  {
   "cell_type": "code",
   "execution_count": 106,
   "metadata": {},
   "outputs": [],
   "source": [
    "ARPPU_table = ARPPU_table.merge(users_count)\n",
    "ARPPU_table['ARPPU'] = ARPPU_table.revenue/ ARPPU_table.uid #добавим все в одну таблицу"
   ]
  },
  {
   "cell_type": "code",
   "execution_count": 107,
   "metadata": {},
   "outputs": [
    {
     "data": {
      "text/html": [
       "<div>\n",
       "<style scoped>\n",
       "    .dataframe tbody tr th:only-of-type {\n",
       "        vertical-align: middle;\n",
       "    }\n",
       "\n",
       "    .dataframe tbody tr th {\n",
       "        vertical-align: top;\n",
       "    }\n",
       "\n",
       "    .dataframe thead th {\n",
       "        text-align: right;\n",
       "    }\n",
       "</style>\n",
       "<table border=\"1\" class=\"dataframe\">\n",
       "  <thead>\n",
       "    <tr style=\"text-align: right;\">\n",
       "      <th></th>\n",
       "      <th>Group</th>\n",
       "      <th>revenue</th>\n",
       "      <th>uid</th>\n",
       "      <th>ARPPU</th>\n",
       "    </tr>\n",
       "  </thead>\n",
       "  <tbody>\n",
       "    <tr>\n",
       "      <th>0</th>\n",
       "      <td>C</td>\n",
       "      <td>1451853.0</td>\n",
       "      <td>210</td>\n",
       "      <td>6913.585714</td>\n",
       "    </tr>\n",
       "    <tr>\n",
       "      <th>1</th>\n",
       "      <td>T</td>\n",
       "      <td>810706.0</td>\n",
       "      <td>76</td>\n",
       "      <td>10667.184211</td>\n",
       "    </tr>\n",
       "  </tbody>\n",
       "</table>\n",
       "</div>"
      ],
      "text/plain": [
       "  Group    revenue  uid         ARPPU\n",
       "0     C  1451853.0  210   6913.585714\n",
       "1     T   810706.0   76  10667.184211"
      ]
     },
     "execution_count": 107,
     "metadata": {},
     "output_type": "execute_result"
    }
   ],
   "source": [
    "ARPPU_table"
   ]
  },
  {
   "cell_type": "markdown",
   "metadata": {},
   "source": [
    "ARPPU выше в тестовой группе"
   ]
  },
  {
   "cell_type": "code",
   "execution_count": 109,
   "metadata": {},
   "outputs": [
    {
     "data": {
      "text/plain": [
       "Ttest_indResult(statistic=-2.7381171029018034, pvalue=0.006601171797063991)"
      ]
     },
     "execution_count": 109,
     "metadata": {},
     "output_type": "execute_result"
    }
   ],
   "source": [
    "from scipy import stats\n",
    "\n",
    "stats.ttest_ind(ARPPU_control.revenue, ARPPU_test.revenue)"
   ]
  },
  {
   "cell_type": "markdown",
   "metadata": {},
   "source": [
    "На первый взгляд, доход на одного платящего пользователя увеличился в тестовой группе. Посмотрим по графику и проведем анализ этой метрики"
   ]
  },
  {
   "cell_type": "code",
   "execution_count": 110,
   "metadata": {},
   "outputs": [
    {
     "data": {
      "image/png": "[encoded data removed]",
      "text/plain": [
       "<Figure size 1080x648 with 1 Axes>"
      ]
     },
     "metadata": {},
     "output_type": "display_data"
    }
   ],
   "source": [
    "f, ax = plt.subplots( figsize =(15,9) ) \n",
    "sns.distplot( Control_group[Control_group.product_type == 'premium_no_trial'].revenue, label = 'Control group') \n",
    "sns.distplot( test_AB_group[test_group.product_type == 'premium_no_trial'].revenue, label = 'Test group')\n",
    "plt.title( 'Выручка от премиум пользователей' ) \n",
    "plt.legend() \n",
    "plt.show()"
   ]
  },
  {
   "cell_type": "markdown",
   "metadata": {},
   "source": [
    "Судя по графику мы можем скачать, что распределение в тестовой группе имеет более плавную форму, значит увеличился разброс ценовых категорий. Хвосты однако у обоих групп вправо очень большие,\n",
    "воспользуемся методом бутстрапа."
   ]
  },
  {
   "cell_type": "code",
   "execution_count": 111,
   "metadata": {},
   "outputs": [
    {
     "data": {
      "application/vnd.jupyter.widget-view+json": {
       "model_id": "56fca11706e34e019f5be034a1e791e7",
       "version_major": 2,
       "version_minor": 0
      },
      "text/plain": [
       "HBox(children=(FloatProgress(value=0.0, max=1000.0), HTML(value='')))"
      ]
     },
     "metadata": {},
     "output_type": "display_data"
    },
    {
     "name": "stdout",
     "output_type": "stream",
     "text": [
      "\n"
     ]
    },
    {
     "data": {
      "image/png": "[encoded data removed]",
      "text/plain": [
       "<Figure size 1440x504 with 1 Axes>"
      ]
     },
     "metadata": {},
     "output_type": "display_data"
    }
   ],
   "source": [
    "ARPPU_AB_boot = get_bootstrap_mean(ARPPU_test.revenue, ARPPU_control.revenue)"
   ]
  },
  {
   "cell_type": "code",
   "execution_count": 112,
   "metadata": {},
   "outputs": [
    {
     "data": {
      "text/plain": [
       "{'ci':                  0\n",
       " 0.025  2101.466414\n",
       " 0.975  7839.231439,\n",
       " 'p_value': 0.0014463573764303482}"
      ]
     },
     "execution_count": 112,
     "metadata": {},
     "output_type": "execute_result"
    }
   ],
   "source": [
    "ARPPU_AB_boot"
   ]
  },
  {
   "cell_type": "markdown",
   "metadata": {},
   "source": [
    "в доверительных интервалах ноль не перекрывается, p значение меньше 0,05. Можно говорить о надежности результата. "
   ]
  },
  {
   "cell_type": "markdown",
   "metadata": {},
   "source": [
    "### 4.2 ARPU метрика\n",
    "В нашем случае данная метрика менее показательна, чем предыдущая. Показывает объем выручке в расчете на общее количество пользователей"
   ]
  },
  {
   "cell_type": "code",
   "execution_count": 113,
   "metadata": {},
   "outputs": [],
   "source": [
    "#для наглядности создадим сводную таблицу\n",
    "ARPU_control =Control_group\\\n",
    "                    .groupby('uid', as_index = False).agg({'revenue': 'sum'})\n",
    "ARPU_test =  test_AB_group\\\n",
    "                    .groupby('uid', as_index = False).agg({'revenue': 'sum'})\n",
    "ARPU = pd.concat([Control_group, test_AB_group])\\\n",
    "                    .query(\"product_type != 'premium_no_trial'\")\n",
    "ARPU_table = ARPU.groupby('Group', as_index = False)\\\n",
    "                    .agg({'revenue': 'sum'})\n",
    "users_count_arpu = pd.concat([Control_group, test_AB_group])\\\n",
    "                    .groupby(['Group'], as_index = False).agg({'uid' :'count'})"
   ]
  },
  {
   "cell_type": "code",
   "execution_count": 114,
   "metadata": {},
   "outputs": [
    {
     "data": {
      "text/html": [
       "<div>\n",
       "<style scoped>\n",
       "    .dataframe tbody tr th:only-of-type {\n",
       "        vertical-align: middle;\n",
       "    }\n",
       "\n",
       "    .dataframe tbody tr th {\n",
       "        vertical-align: top;\n",
       "    }\n",
       "\n",
       "    .dataframe thead th {\n",
       "        text-align: right;\n",
       "    }\n",
       "</style>\n",
       "<table border=\"1\" class=\"dataframe\">\n",
       "  <thead>\n",
       "    <tr style=\"text-align: right;\">\n",
       "      <th></th>\n",
       "      <th>Group</th>\n",
       "      <th>revenue</th>\n",
       "      <th>uid</th>\n",
       "      <th>ARPU</th>\n",
       "    </tr>\n",
       "  </thead>\n",
       "  <tbody>\n",
       "    <tr>\n",
       "      <th>0</th>\n",
       "      <td>C</td>\n",
       "      <td>2540083.0</td>\n",
       "      <td>8895</td>\n",
       "      <td>285.563013</td>\n",
       "    </tr>\n",
       "    <tr>\n",
       "      <th>1</th>\n",
       "      <td>T</td>\n",
       "      <td>1534195.0</td>\n",
       "      <td>4435</td>\n",
       "      <td>345.928974</td>\n",
       "    </tr>\n",
       "  </tbody>\n",
       "</table>\n",
       "</div>"
      ],
      "text/plain": [
       "  Group    revenue   uid        ARPU\n",
       "0     C  2540083.0  8895  285.563013\n",
       "1     T  1534195.0  4435  345.928974"
      ]
     },
     "execution_count": 114,
     "metadata": {},
     "output_type": "execute_result"
    }
   ],
   "source": [
    "ARPU_table = ARPU_table.merge(users_count_arpu)\n",
    "ARPU_table['ARPU'] = ARPU_table.revenue/ ARPU_table.uid\n",
    "ARPU_table"
   ]
  },
  {
   "cell_type": "markdown",
   "metadata": {},
   "source": [
    "ARPU в тестовой группе больше, чем в контрольной. Проверим, можем ли мы положиться на этот результат"
   ]
  },
  {
   "cell_type": "code",
   "execution_count": 115,
   "metadata": {},
   "outputs": [
    {
     "data": {
      "application/vnd.jupyter.widget-view+json": {
       "model_id": "495653a1e1f647e8906f2ca3309e0d49",
       "version_major": 2,
       "version_minor": 0
      },
      "text/plain": [
       "HBox(children=(FloatProgress(value=0.0, max=1000.0), HTML(value='')))"
      ]
     },
     "metadata": {},
     "output_type": "display_data"
    },
    {
     "name": "stdout",
     "output_type": "stream",
     "text": [
      "\n"
     ]
    },
    {
     "data": {
      "image/png": "[encoded data removed]",
      "text/plain": [
       "<Figure size 1440x504 with 1 Axes>"
      ]
     },
     "metadata": {},
     "output_type": "display_data"
    }
   ],
   "source": [
    "ARPU_AB_boot = get_bootstrap_mean( ARPU_test.revenue, ARPU_control.revenue)"
   ]
  },
  {
   "cell_type": "code",
   "execution_count": 117,
   "metadata": {},
   "outputs": [
    {
     "data": {
      "text/plain": [
       "{'ci':                 0\n",
       " 0.025  -28.050488\n",
       " 0.975  195.926645,\n",
       " 'p_value': 0.15690791098902984}"
      ]
     },
     "execution_count": 117,
     "metadata": {},
     "output_type": "execute_result"
    }
   ],
   "source": [
    "ARPU_AB_boot"
   ]
  },
  {
   "cell_type": "markdown",
   "metadata": {},
   "source": [
    "Данная метрика хоть и оказалась немного выше у тестовой группы, однако перекрывается ноль и p value находится на граничном значении 0.05. Так что разницу здесь можно во мнимание не принимать"
   ]
  },
  {
   "cell_type": "markdown",
   "metadata": {},
   "source": [
    "### 4.3 считаем конверсию в премиум версию в двух группах"
   ]
  },
  {
   "cell_type": "code",
   "execution_count": 118,
   "metadata": {},
   "outputs": [],
   "source": [
    "conversion_yes_AB = pd.concat([Control_group, test_AB_group]).query(\"product_type == 'premium_no_trial'\")\n",
    "conversion_no_AB = pd.concat([Control_group, test_AB_group]).query(\"product_type != 'premium_no_trial'\")\n",
    "#схема такая же как в конверсии в AA тесте"
   ]
  },
  {
   "cell_type": "code",
   "execution_count": 119,
   "metadata": {},
   "outputs": [],
   "source": [
    "conversion_yes_AB['convert']= '1' #создаем столбец с маркировкой по конверсии\n",
    "conversion_no_AB['convert'] = '0'"
   ]
  },
  {
   "cell_type": "code",
   "execution_count": 120,
   "metadata": {},
   "outputs": [
    {
     "data": {
      "text/html": [
       "<div>\n",
       "<style scoped>\n",
       "    .dataframe tbody tr th:only-of-type {\n",
       "        vertical-align: middle;\n",
       "    }\n",
       "\n",
       "    .dataframe tbody tr th {\n",
       "        vertical-align: top;\n",
       "    }\n",
       "\n",
       "    .dataframe thead th {\n",
       "        text-align: right;\n",
       "    }\n",
       "</style>\n",
       "<table border=\"1\" class=\"dataframe\">\n",
       "  <thead>\n",
       "    <tr style=\"text-align: right;\">\n",
       "      <th></th>\n",
       "      <th>Group</th>\n",
       "      <th>uid</th>\n",
       "    </tr>\n",
       "  </thead>\n",
       "  <tbody>\n",
       "    <tr>\n",
       "      <th>0</th>\n",
       "      <td>C</td>\n",
       "      <td>8895</td>\n",
       "    </tr>\n",
       "    <tr>\n",
       "      <th>1</th>\n",
       "      <td>T</td>\n",
       "      <td>4435</td>\n",
       "    </tr>\n",
       "  </tbody>\n",
       "</table>\n",
       "</div>"
      ],
      "text/plain": [
       "  Group   uid\n",
       "0     C  8895\n",
       "1     T  4435"
      ]
     },
     "execution_count": 120,
     "metadata": {},
     "output_type": "execute_result"
    }
   ],
   "source": [
    "conv_AB = pd.concat([conversion_yes_AB, conversion_no_AB])\n",
    "all_users_count_AB = pd.concat([Control_group, test_AB_group]).groupby('Group', as_index = False).agg({'uid':'count'}) # Подсичтываем количество \n",
    "                                              # уникальных пользователей в двух группах\n",
    "all_users_count_AB"
   ]
  },
  {
   "cell_type": "code",
   "execution_count": 121,
   "metadata": {},
   "outputs": [
    {
     "data": {
      "text/html": [
       "<div>\n",
       "<style scoped>\n",
       "    .dataframe tbody tr th:only-of-type {\n",
       "        vertical-align: middle;\n",
       "    }\n",
       "\n",
       "    .dataframe tbody tr th {\n",
       "        vertical-align: top;\n",
       "    }\n",
       "\n",
       "    .dataframe thead th {\n",
       "        text-align: right;\n",
       "    }\n",
       "</style>\n",
       "<table border=\"1\" class=\"dataframe\">\n",
       "  <thead>\n",
       "    <tr style=\"text-align: right;\">\n",
       "      <th></th>\n",
       "      <th>Group</th>\n",
       "      <th>uid</th>\n",
       "    </tr>\n",
       "  </thead>\n",
       "  <tbody>\n",
       "    <tr>\n",
       "      <th>0</th>\n",
       "      <td>C</td>\n",
       "      <td>210</td>\n",
       "    </tr>\n",
       "    <tr>\n",
       "      <th>1</th>\n",
       "      <td>T</td>\n",
       "      <td>76</td>\n",
       "    </tr>\n",
       "  </tbody>\n",
       "</table>\n",
       "</div>"
      ],
      "text/plain": [
       "  Group  uid\n",
       "0     C  210\n",
       "1     T   76"
      ]
     },
     "execution_count": 121,
     "metadata": {},
     "output_type": "execute_result"
    }
   ],
   "source": [
    "conversion_yes_group_AB = pd.concat([Control_group, test_AB_group])\\\n",
    "            .query(\"product_type == 'premium_no_trial'\")\\\n",
    "            .groupby('Group', as_index = False).agg({'uid':'count'})\n",
    "conversion_yes_group_AB"
   ]
  },
  {
   "cell_type": "code",
   "execution_count": 122,
   "metadata": {},
   "outputs": [
    {
     "data": {
      "text/html": [
       "<div>\n",
       "<style scoped>\n",
       "    .dataframe tbody tr th:only-of-type {\n",
       "        vertical-align: middle;\n",
       "    }\n",
       "\n",
       "    .dataframe tbody tr th {\n",
       "        vertical-align: top;\n",
       "    }\n",
       "\n",
       "    .dataframe thead th {\n",
       "        text-align: right;\n",
       "    }\n",
       "</style>\n",
       "<table border=\"1\" class=\"dataframe\">\n",
       "  <thead>\n",
       "    <tr style=\"text-align: right;\">\n",
       "      <th></th>\n",
       "      <th>Group</th>\n",
       "      <th>uid_x</th>\n",
       "      <th>uid_y</th>\n",
       "      <th>perc</th>\n",
       "    </tr>\n",
       "  </thead>\n",
       "  <tbody>\n",
       "    <tr>\n",
       "      <th>0</th>\n",
       "      <td>C</td>\n",
       "      <td>8895</td>\n",
       "      <td>210</td>\n",
       "      <td>2.360877</td>\n",
       "    </tr>\n",
       "    <tr>\n",
       "      <th>1</th>\n",
       "      <td>T</td>\n",
       "      <td>4435</td>\n",
       "      <td>76</td>\n",
       "      <td>1.713641</td>\n",
       "    </tr>\n",
       "  </tbody>\n",
       "</table>\n",
       "</div>"
      ],
      "text/plain": [
       "  Group  uid_x  uid_y      perc\n",
       "0     C   8895    210  2.360877\n",
       "1     T   4435     76  1.713641"
      ]
     },
     "execution_count": 122,
     "metadata": {},
     "output_type": "execute_result"
    }
   ],
   "source": [
    "conversion_yes_group_AB = all_users_count_AB.merge(conversion_yes_group_AB, on = 'Group')\n",
    "conversion_yes_group_AB['perc'] = conversion_yes_group_AB.uid_y/conversion_yes_group_AB.uid_x*100 \n",
    "conversion_yes_group_AB"
   ]
  },
  {
   "cell_type": "markdown",
   "metadata": {},
   "source": [
    "Снижение уровня конверсии в тестовой группе"
   ]
  },
  {
   "cell_type": "code",
   "execution_count": 125,
   "metadata": {},
   "outputs": [
    {
     "data": {
      "text/html": [
       "<div>\n",
       "<style scoped>\n",
       "    .dataframe tbody tr th:only-of-type {\n",
       "        vertical-align: middle;\n",
       "    }\n",
       "\n",
       "    .dataframe tbody tr th {\n",
       "        vertical-align: top;\n",
       "    }\n",
       "\n",
       "    .dataframe thead th {\n",
       "        text-align: right;\n",
       "    }\n",
       "</style>\n",
       "<table border=\"1\" class=\"dataframe\">\n",
       "  <thead>\n",
       "    <tr style=\"text-align: right;\">\n",
       "      <th>convert</th>\n",
       "      <th>0</th>\n",
       "      <th>1</th>\n",
       "    </tr>\n",
       "    <tr>\n",
       "      <th>Group</th>\n",
       "      <th></th>\n",
       "      <th></th>\n",
       "    </tr>\n",
       "  </thead>\n",
       "  <tbody>\n",
       "    <tr>\n",
       "      <th>C</th>\n",
       "      <td>8685</td>\n",
       "      <td>210</td>\n",
       "    </tr>\n",
       "    <tr>\n",
       "      <th>T</th>\n",
       "      <td>4359</td>\n",
       "      <td>76</td>\n",
       "    </tr>\n",
       "  </tbody>\n",
       "</table>\n",
       "</div>"
      ],
      "text/plain": [
       "convert     0    1\n",
       "Group             \n",
       "C        8685  210\n",
       "T        4359   76"
      ]
     },
     "execution_count": 125,
     "metadata": {},
     "output_type": "execute_result"
    }
   ],
   "source": [
    "AB = pd.crosstab(conv_AB.Group, conv_AB.convert) #таблица сопряженности\n",
    "AB"
   ]
  },
  {
   "cell_type": "code",
   "execution_count": 126,
   "metadata": {},
   "outputs": [
    {
     "name": "stdout",
     "output_type": "stream",
     "text": [
      "р уровень значимости равен: 0.017953202059527856\n"
     ]
    }
   ],
   "source": [
    "g, p, dof, expctd = chi2_contingency(AB)\n",
    "print('р уровень значимости равен:', p) # тест хи квадрат"
   ]
  },
  {
   "cell_type": "markdown",
   "metadata": {},
   "source": [
    "Результат теста значимости разницы конверсии p value < 0,05 нам НЕ дает основания пренебречь разницей в результатах,   конверсия в тестовой группе снизилась по сравнению с контрольной"
   ]
  },
  {
   "cell_type": "markdown",
   "metadata": {},
   "source": [
    "## 5. Выводы"
   ]
  },
  {
   "cell_type": "markdown",
   "metadata": {},
   "source": [
    "Мы посчитали статистическую значимость трех метрик по результатам AB тестирования введения ценовых изменений. Период проведения тестирования 1 год. Таким образом сезонность не будет влиять на общие результаты. \n",
    "    Самой важной метрикой для бизнеса является доходность и доход. В нашем случае мы посчитали ARPPU. Тестовая группа показала лучшие результаты и это подтвердилось анализом статзначимости разницы. \n",
    "Что касается конверсии, то здесь наблюдается снижение результата у **тестовой группы (1,7%)** по сравнению с **контрольной (2.4%)** .  "
   ]
  },
  {
   "cell_type": "markdown",
   "metadata": {},
   "source": [
    "По ARPU тестовая группа показала немного лучше результаты, чем контрольная, однако стат тест определил что такое превышение может быть случайным. И не будем его брать во внимание. "
   ]
  },
  {
   "cell_type": "markdown",
   "metadata": {},
   "source": [
    "Далее мы посчитали поступление платежей по дате. В тестовой группе здесь также наблюдается рост по сравнению с контрольной. \n",
    "Я предлагаю принять нововведения, так как по главным метрикам для бизнеса тест показал стат значимые результаты. Увеличилась выручка от премиум подписки, средний чек. к сожалению пострадала конверсия, но этого следует ожидать при увеличении цен на продукт"
   ]
  },
  {
   "cell_type": "code",
   "execution_count": 197,
   "metadata": {},
   "outputs": [
    {
     "data": {
      "text/html": [
       "<div>\n",
       "<style scoped>\n",
       "    .dataframe tbody tr th:only-of-type {\n",
       "        vertical-align: middle;\n",
       "    }\n",
       "\n",
       "    .dataframe tbody tr th {\n",
       "        vertical-align: top;\n",
       "    }\n",
       "\n",
       "    .dataframe thead th {\n",
       "        text-align: right;\n",
       "    }\n",
       "</style>\n",
       "<table border=\"1\" class=\"dataframe\">\n",
       "  <thead>\n",
       "    <tr style=\"text-align: right;\">\n",
       "      <th></th>\n",
       "      <th>Group</th>\n",
       "      <th>product_type</th>\n",
       "      <th>total</th>\n",
       "      <th>num_buys</th>\n",
       "      <th>price</th>\n",
       "    </tr>\n",
       "  </thead>\n",
       "  <tbody>\n",
       "    <tr>\n",
       "      <th>0</th>\n",
       "      <td>C1</td>\n",
       "      <td>premium_no_trial</td>\n",
       "      <td>707044.0</td>\n",
       "      <td>103</td>\n",
       "      <td>6864.504854</td>\n",
       "    </tr>\n",
       "    <tr>\n",
       "      <th>1</th>\n",
       "      <td>C2</td>\n",
       "      <td>premium_no_trial</td>\n",
       "      <td>744809.0</td>\n",
       "      <td>107</td>\n",
       "      <td>6960.831776</td>\n",
       "    </tr>\n",
       "    <tr>\n",
       "      <th>2</th>\n",
       "      <td>T</td>\n",
       "      <td>premium_no_trial</td>\n",
       "      <td>810706.0</td>\n",
       "      <td>76</td>\n",
       "      <td>10667.184211</td>\n",
       "    </tr>\n",
       "  </tbody>\n",
       "</table>\n",
       "</div>"
      ],
      "text/plain": [
       "  Group      product_type     total  num_buys         price\n",
       "0    C1  premium_no_trial  707044.0       103   6864.504854\n",
       "1    C2  premium_no_trial  744809.0       107   6960.831776\n",
       "2     T  premium_no_trial  810706.0        76  10667.184211"
      ]
     },
     "execution_count": 197,
     "metadata": {},
     "output_type": "execute_result"
    }
   ],
   "source": [
    "price_premium # таблица сравнения показателей по премиум продукту"
   ]
  }
 ],
 "metadata": {
  "kernelspec": {
   "display_name": "Python 3",
   "language": "python",
   "name": "python3"
  },
  "language_info": {
   "codemirror_mode": {
    "name": "ipython",
    "version": 3
   },
   "file_extension": ".py",
   "mimetype": "text/x-python",
   "name": "python",
   "nbconvert_exporter": "python",
   "pygments_lexer": "ipython3",
   "version": "3.7.3"
  }
 },
 "nbformat": 4,
 "nbformat_minor": 4
}
